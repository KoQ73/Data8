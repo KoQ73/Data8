{
  "metadata": {
    "kernelspec": {
      "name": "python",
      "display_name": "Python (Pyodide)",
      "language": "python"
    },
    "language_info": {
      "codemirror_mode": {
        "name": "python",
        "version": 3
      },
      "file_extension": ".py",
      "mimetype": "text/x-python",
      "name": "python",
      "nbconvert_exporter": "python",
      "pygments_lexer": "ipython3",
      "version": "3.8"
    },
    "otter": {
      "OK_FORMAT": true,
      "tests": {
        "q1_2": {
          "name": "q1_2",
          "points": [
            0
          ],
          "suites": [
            {
              "cases": [
                {
                  "code": ">>> abs(correlation(Table().with_columns('a', np.random.normal(0, 1, 10), 'b', np.random.normal(0, 1, 10)), 'a', 'b')) <= 1\nTrue",
                  "hidden": false,
                  "locked": false
                }
              ],
              "scored": true,
              "setup": "",
              "teardown": "",
              "type": "doctest"
            }
          ]
        },
        "q1_3": {
          "name": "q1_3",
          "points": [
            0,
            0,
            2
          ],
          "suites": [
            {
              "cases": [
                {
                  "code": ">>> type(fit_line(Table().with_columns('x', make_array(0, 1), 'y', make_array(1, 3)), 'x', 'y')) == np.ndarray\nTrue",
                  "hidden": false,
                  "locked": false
                },
                {
                  "code": ">>> len(fit_line(Table().with_columns('x', make_array(0, 1), 'y', make_array(1, 3)), 'x', 'y')) == 2\nTrue",
                  "hidden": false,
                  "locked": false
                },
                {
                  "code": ">>> np.allclose(np.round(fit_line(Table().with_columns('x', make_array(0, 1), 'y', make_array(1, 3)), 'x', 'y'), 5), np.array([2, 1]))\nTrue",
                  "hidden": false,
                  "locked": false
                }
              ],
              "scored": true,
              "setup": "",
              "teardown": "",
              "type": "doctest"
            }
          ]
        },
        "q1_4": {
          "name": "q1_4",
          "points": null,
          "suites": [
            {
              "cases": [
                {
                  "code": ">>> len(resampled_slopes) == 1000\nTrue",
                  "hidden": false,
                  "locked": false
                }
              ],
              "scored": true,
              "setup": "",
              "teardown": "",
              "type": "doctest"
            }
          ]
        },
        "q1_5": {
          "name": "q1_5",
          "points": [
            0,
            0
          ],
          "suites": [
            {
              "cases": [
                {
                  "code": ">>> lower_end > 0\nTrue",
                  "hidden": false,
                  "locked": false
                },
                {
                  "code": ">>> upper_end < 4\nTrue",
                  "hidden": false,
                  "locked": false
                }
              ],
              "scored": true,
              "setup": "",
              "teardown": "",
              "type": "doctest"
            }
          ]
        },
        "q2_1": {
          "name": "q2_1",
          "points": [
            0
          ],
          "suites": [
            {
              "cases": [
                {
                  "code": ">>> type(egg_weight_eight) in set([float, np.float32, np.float64])\nTrue",
                  "hidden": false,
                  "locked": false
                }
              ],
              "scored": true,
              "setup": "",
              "teardown": "",
              "type": "doctest"
            }
          ]
        },
        "q2_2": {
          "name": "q2_2",
          "points": [
            0
          ],
          "suites": [
            {
              "cases": [
                {
                  "code": ">>> type(experts_egg) in set([float, np.float32, np.float64])\nTrue",
                  "hidden": false,
                  "locked": false
                }
              ],
              "scored": true,
              "setup": "",
              "teardown": "",
              "type": "doctest"
            }
          ]
        },
        "q2_3": {
          "name": "q2_3",
          "points": [
            0
          ],
          "suites": [
            {
              "cases": [
                {
                  "code": ">>> len(compute_resampled_line(Table().with_columns('x', make_array(0, 1), 'y', make_array(1, 3)), 'x', 'y')) == 2\nTrue",
                  "hidden": false,
                  "locked": false
                }
              ],
              "scored": true,
              "setup": "",
              "teardown": "",
              "type": "doctest"
            }
          ]
        },
        "q2_4": {
          "name": "q2_4",
          "points": null,
          "suites": [
            {
              "cases": [
                {
                  "code": ">>> len(predictions_for_eight) == regression_lines.num_rows\nTrue",
                  "hidden": false,
                  "locked": false
                }
              ],
              "scored": true,
              "setup": "",
              "teardown": "",
              "type": "doctest"
            }
          ]
        },
        "q2_5": {
          "name": "q2_5",
          "points": [
            0,
            0
          ],
          "suites": [
            {
              "cases": [
                {
                  "code": ">>> lower_bound > 5\nTrue",
                  "hidden": false,
                  "locked": false
                },
                {
                  "code": ">>> upper_bound < 6.5\nTrue",
                  "hidden": false,
                  "locked": false
                }
              ],
              "scored": true,
              "setup": "",
              "teardown": "",
              "type": "doctest"
            }
          ]
        },
        "q2_6": {
          "name": "q2_6",
          "points": [
            0
          ],
          "suites": [
            {
              "cases": [
                {
                  "code": ">>> type(plover_statements) == np.ndarray\nTrue",
                  "hidden": false,
                  "locked": false
                }
              ],
              "scored": true,
              "setup": "",
              "teardown": "",
              "type": "doctest"
            }
          ]
        }
      }
    }
  },
  "nbformat_minor": 5,
  "nbformat": 4,
  "cells": [
    {
      "id": "cell-hw11-0",
      "cell_type": "code",
      "source": "# Initialize Otter\nimport otter\ngrader = otter.Notebook(\"hw11.ipynb\")",
      "metadata": {
        "deletable": false,
        "editable": false
      },
      "outputs": [],
      "execution_count": null
    },
    {
      "id": "78680852-b7be-4f5f-8982-3585325a72f9",
      "cell_type": "code",
      "source": "# The pip install can take a minute\n%pip install -q urllib3<2.0 otter-grader==5.5.0 datascience ipywidgets\nimport pyodide_http\npyodide_http.patch_all()\n\nimport otter\ngrader = otter.Notebook(\"hw11.ipynb\")",
      "metadata": {
        "trusted": true
      },
      "outputs": [],
      "execution_count": 1
    },
    {
      "id": "cell-hw11-1",
      "cell_type": "markdown",
      "source": "# Homework 11: Regression Inference",
      "metadata": {}
    },
    {
      "id": "cell-hw11-2",
      "cell_type": "markdown",
      "source": "**Helpful Resource:**\n\n- [Python Reference](https://www.data8.org/reference/): Cheat sheet of helpful array & table methods used in Data 8!\n\n**Recommended Reading**: \n\n* [Using Confidence Intervals](https://inferentialthinking.com/chapters/13/4/Using_Confidence_Intervals.html)\n* [The Regression Line](https://inferentialthinking.com/chapters/15/2/Regression_Line.html#the-regression-line-in-standard-units)\n* [Inference for Regression](https://www.inferentialthinking.com/chapters/16/Inference_for_Regression.html)",
      "metadata": {}
    },
    {
      "id": "cell-hw11-3",
      "cell_type": "markdown",
      "source": "Please complete this notebook by filling in the cells provided. Before you begin, execute the following cell to setup the notebook by importing some helpful libraries. Each time you start your server, you will need to execute this cell again.\n\nFor all problems that you must write explanations and sentences for, you **must** provide your answer in the designated space. **Moreover, throughout this homework and all future ones, please be sure to not re-assign variables throughout the notebook!** For example, if you use `max_temperature` in your answer to one question, do not reassign it later on. Otherwise, you will fail tests that you thought you were passing previously!\n\n\n**Note: This homework has hidden tests on it. That means even though the tests may say 100% passed, it doesn't mean your final grade will be 100%. We will be running more tests for correctness once everyone turns in the homework.**\n\n\nDirectly sharing answers is not okay, but discussing problems with the course staff or with other students is encouraged. \n\nYou should start early so that you have time to get help if you're stuck.",
      "metadata": {}
    },
    {
      "id": "cell-hw11-4",
      "cell_type": "code",
      "source": "# Don't change this cell; just run it. \n\nimport numpy as np\nfrom datascience import *\n\n# These lines do some fancy plotting magic\nimport matplotlib\n%matplotlib inline\nimport matplotlib.pyplot as plt\nplt.style.use('fivethirtyeight')\nimport warnings\nwarnings.simplefilter('ignore')\nfrom datetime import datetime",
      "metadata": {
        "trusted": true
      },
      "outputs": [
        {
          "name": "stderr",
          "output_type": "stream",
          "text": "Matplotlib is building the font cache; this may take a moment.\n"
        }
      ],
      "execution_count": 2
    },
    {
      "id": "cell-hw11-5",
      "cell_type": "markdown",
      "source": "## An Introduction to Regression Inference",
      "metadata": {}
    },
    {
      "id": "cell-hw11-6",
      "cell_type": "markdown",
      "source": "Previously in this class, we've used confidence intervals to quantify uncertainty about estimates. We can also run hypothesis tests using a confidence interval under the following procedure:\n\n1. Define a null and alternative hypothesis (they must be of the form \"The parameter is X\" and \"The parameter is not X\").\n2. Choose a p-value cutoff, and call it $q$.\n3. Construct a $(100-q)\\%$ interval using bootstrap sampling (for example, if your p-value cutoff is 0.01, or 1%, then construct a 99% confidence interval).\n4. Using the confidence interval, determine if your data are more consistent with your null or alternative hypothesis:\n   * If the null hypothesis parameter X is in your confidence interval, the data are more consistent with the null hypothesis.\n   * If the null hypothesis parameter X is *not* in your confidence interval, the data are more consistent with the alternative hypothesis.\n\nMore recently, we've discussed the use of linear regression to make predictions based on correlated variables. For example, we can predict the height of children based on the heights of their parents.\n\nWe can combine these two topics to make powerful statements about our population by using the following techniques:\n\n- Bootstrapped interval for the true slope\n- Bootstrapped prediction interval for y (given a particular value of x)\n\nThis homework explores these two methods.",
      "metadata": {}
    },
    {
      "id": "cell-hw11-7",
      "cell_type": "markdown",
      "source": "## The Data\nThe [Snowy Plover](https://www.audubon.org/field-guide/bird/snowy-plover) is a tiny bird that lives on the coast in parts of California and elsewhere. It is so small that it is vulnerable to many predators, including people and dogs that don't look where they are stepping when they go to the beach. It is considered endangered in many parts of the U.S.\n\nThe data are about the eggs and newly-hatched chicks of the Snowy Plover. Here's a picture of [a parent bird incubating its eggs](http://cescos.fau.edu/jay/eps/articles/snowyplover.html).\n\n<img src=\"plover_and_eggs.jpeg\" alt=\"Plover and Eggs\">\n\nThe data were collected at the Point Reyes National Seashore by a former [student at Berkeley](https://openlibrary.org/books/OL2038693M/BLSS_the_Berkeley_interactive_statistical_system). The goal was to see how the size of an egg could be used to predict the weight of the resulting chick. The bigger the newly-hatched chick, the more likely it is to survive.\n\n<img src=\"plover_and_chick.jpeg\" alt=\"Plover and Chick\">\n\nEach row of the table below corresponds to one Snowy Plover egg and the resulting chick. Note how tiny the bird is:\n\n- `Egg Length` and `Egg Breadth` (widest diameter) are measured in millimeters\n- `Egg Weight` and `Bird Weight` are measured in grams; for comparison, a standard paper clip weighs about one gram",
      "metadata": {}
    },
    {
      "id": "cell-hw11-8",
      "cell_type": "code",
      "source": "birds = Table.read_table('https://raw.githubusercontent.com/data-8/materials-fds/refs/heads/main/hw/hw11/snowy_plover.csv')\nbirds",
      "metadata": {
        "trusted": true
      },
      "outputs": [
        {
          "execution_count": 3,
          "output_type": "execute_result",
          "data": {
            "text/plain": "Egg Length | Egg Breadth | Egg Weight | Bird Weight\n28.8       | 21.84       | 7.4        | 5.2\n29.04      | 22.45       | 7.7        | 5.4\n29.36      | 22.48       | 7.9        | 5.6\n30.1       | 21.71       | 7.5        | 5.3\n30.17      | 22.75       | 8.3        | 5.9\n30.34      | 22.84       | 8.5        | 5.8\n30.36      | 22.5        | 8.2        | 5.8\n30.46      | 22.72       | 8.3        | 6\n30.54      | 23.31       | 9          | 6.1\n30.62      | 22.94       | 8.5        | 6.2\n... (34 rows omitted)",
            "text/html": "<table border=\"1\" class=\"dataframe\">\n    <thead>\n        <tr>\n            <th>Egg Length</th> <th>Egg Breadth</th> <th>Egg Weight</th> <th>Bird Weight</th>\n        </tr>\n    </thead>\n    <tbody>\n        <tr>\n            <td>28.8      </td> <td>21.84      </td> <td>7.4       </td> <td>5.2        </td>\n        </tr>\n        <tr>\n            <td>29.04     </td> <td>22.45      </td> <td>7.7       </td> <td>5.4        </td>\n        </tr>\n        <tr>\n            <td>29.36     </td> <td>22.48      </td> <td>7.9       </td> <td>5.6        </td>\n        </tr>\n        <tr>\n            <td>30.1      </td> <td>21.71      </td> <td>7.5       </td> <td>5.3        </td>\n        </tr>\n        <tr>\n            <td>30.17     </td> <td>22.75      </td> <td>8.3       </td> <td>5.9        </td>\n        </tr>\n        <tr>\n            <td>30.34     </td> <td>22.84      </td> <td>8.5       </td> <td>5.8        </td>\n        </tr>\n        <tr>\n            <td>30.36     </td> <td>22.5       </td> <td>8.2       </td> <td>5.8        </td>\n        </tr>\n        <tr>\n            <td>30.46     </td> <td>22.72      </td> <td>8.3       </td> <td>6          </td>\n        </tr>\n        <tr>\n            <td>30.54     </td> <td>23.31      </td> <td>9         </td> <td>6.1        </td>\n        </tr>\n        <tr>\n            <td>30.62     </td> <td>22.94      </td> <td>8.5       </td> <td>6.2        </td>\n        </tr>\n    </tbody>\n</table>\n<p>... (34 rows omitted)</p>"
          },
          "metadata": {}
        }
      ],
      "execution_count": 3
    },
    {
      "id": "cell-hw11-9",
      "cell_type": "markdown",
      "source": "In this investigation, we will be using the egg weight to predict bird weight. Run the cell below to create a scatter plot of the egg weights and bird weights, along with their line of best fit.",
      "metadata": {}
    },
    {
      "id": "cell-hw11-10",
      "cell_type": "code",
      "source": "# Just run this cell and examine the scatter plot.\nbirds.scatter('Egg Weight', \"Bird Weight\", fit_line=True)",
      "metadata": {
        "trusted": true
      },
      "outputs": [
        {
          "output_type": "display_data",
          "data": {
            "text/plain": "<Figure size 500x500 with 1 Axes>",
            "image/png": "[encoded data removed]"
          },
          "metadata": {}
        }
      ],
      "execution_count": 4
    },
    {
      "id": "cell-hw11-11",
      "cell_type": "markdown",
      "source": "## 1. Finding the Bootstrap Confidence Interval for the True Slope\n\nLooking at the scatter plot of our sample, we observe a linear relationship between egg weight and bird weight. However, relationships that appear in a sample might not exist in the population from which the sample was taken.\n\nWe want to know if there truly exists a linear relationship between egg weight and bird weight for Snowy Plovers. If there is no linear relationship between the two variables, then we'd expect a correlation of 0. Consequently, the slope of the regression line would also be 0. ",
      "metadata": {}
    },
    {
      "id": "cell-hw11-12",
      "cell_type": "markdown",
      "source": "<!-- BEGIN QUESTION -->\n\n**Question 1.1.** Let's run a hypothesis test using confidence intervals to see if there is a linear relationship between egg weight and bird weight. Define the null and alternative hypotheses that will allow you to conduct this test. **(8 points)**\n\n*Note:* Please write your answer **in the cell below** in the following format:\n- **Null Hypothesis:**\n- **Alternative Hypothesis:**\n\n\n",
      "metadata": {
        "deletable": false,
        "editable": false
      }
    },
    {
      "id": "cell-hw11-13",
      "cell_type": "markdown",
      "source": "Null Hypothesis: The slope of the true line is 0.\nAlternative Hypothesis: The slope of the true line is not 0.",
      "metadata": {
        "tags": [
          "otter_answer_cell"
        ]
      }
    },
    {
      "id": "cell-hw11-14",
      "cell_type": "markdown",
      "source": "<!-- END QUESTION -->\n\n**Question 1.2.** Define the following two functions:\n\n1. `standard_units`: This function takes in an array of numbers and returns an array containing those numbers converted to standard units.\n2. `correlation`: This function takes in a table and two column names (one for *x* and one for *y*) and returns the correlation between these columns. \n\n**(8 points)**\n",
      "metadata": {
        "deletable": false,
        "editable": false
      }
    },
    {
      "id": "cell-hw11-15",
      "cell_type": "code",
      "source": "def standard_units(arr):\n    return (arr - np.mean(arr)) / np.std(arr)\n\ndef correlation(tbl, x_col, y_col):\n    return np.mean(standard_units(tbl.column(x_col)) * standard_units(tbl.column(y_col)))",
      "metadata": {
        "ExecuteTime": {
          "end_time": "2018-04-11T12:05:50.894154Z",
          "start_time": "2018-04-11T12:05:50.889145Z"
        },
        "deletable": false,
        "tags": [
          "otter_answer_cell"
        ],
        "trusted": true
      },
      "outputs": [],
      "execution_count": 7
    },
    {
      "id": "cell-hw11-16",
      "cell_type": "code",
      "source": "grader.check(\"q1_2\")",
      "metadata": {
        "deletable": false,
        "editable": false,
        "trusted": true
      },
      "outputs": [
        {
          "execution_count": 8,
          "output_type": "execute_result",
          "data": {
            "text/plain": "q1_2 results: All test cases passed!",
            "text/html": "<p><strong><pre style='display: inline;'>q1_2</pre></strong> passed! 🚀</p>"
          },
          "metadata": {}
        }
      ],
      "execution_count": 8
    },
    {
      "id": "cell-hw11-17",
      "cell_type": "markdown",
      "source": "**Question 1.3.** Using the functions you just implemented, create a function called `fit_line`.  It should take a table like `birds` and the column names associated to *x* and *y* as its arguments and return an *array* containing the slope and intercept of the regression line (in that order) that predicts the *y* column in the table using the *x* column. **(8 points)**\n",
      "metadata": {
        "deletable": false,
        "editable": false
      }
    },
    {
      "id": "cell-hw11-18",
      "cell_type": "code",
      "source": "def fit_line(tbl, x_col, y_col):\n    slope = correlation(tbl, x_col, y_col) * np.std(tbl.column(y_col)) / np.std(tbl.column(x_col))\n    intercept = np.mean(tbl.column(y_col)) - slope * np.mean(tbl.column(x_col))\n    return make_array(slope, intercept)\n\nfit_line(birds, \"Egg Weight\", \"Bird Weight\")",
      "metadata": {
        "ExecuteTime": {
          "end_time": "2018-04-11T12:05:51.483516Z",
          "start_time": "2018-04-11T12:05:51.472484Z"
        },
        "for_assignment_type": "solution",
        "tags": [
          "otter_answer_cell"
        ],
        "trusted": true
      },
      "outputs": [
        {
          "execution_count": 11,
          "output_type": "execute_result",
          "data": {
            "text/plain": "array([ 0.71851534, -0.05827226])"
          },
          "metadata": {}
        }
      ],
      "execution_count": 11
    },
    {
      "id": "cell-hw11-19",
      "cell_type": "code",
      "source": "grader.check(\"q1_3\")",
      "metadata": {
        "deletable": false,
        "editable": false,
        "trusted": true
      },
      "outputs": [
        {
          "execution_count": 12,
          "output_type": "execute_result",
          "data": {
            "text/plain": "q1_3 results: All test cases passed!",
            "text/html": "<p><strong><pre style='display: inline;'>q1_3</pre></strong> passed! 🙌</p>"
          },
          "metadata": {}
        }
      ],
      "execution_count": 12
    },
    {
      "id": "cell-hw11-20",
      "cell_type": "markdown",
      "source": "**Run** this cell to plot the line produced by calling `fit_line` on the `birds` table.  \n\n**Note:** You are not responsible for the code in the cell below, but make sure that your `fit_line` function generated a reasonable line for the data.",
      "metadata": {}
    },
    {
      "id": "cell-hw11-21",
      "cell_type": "code",
      "source": "# Ensure your fit_line function fits a reasonable line \n# to the data in birds, using the plot below.\n\n# Just run this cell\nslope, intercept = fit_line(birds, \"Egg Weight\", \"Bird Weight\")\nbirds.scatter(\"Egg Weight\", \"Bird Weight\")\nplt.plot([min(birds.column(\"Egg Weight\")), max(birds.column(\"Egg Weight\"))], \n         [slope*min(birds.column(\"Egg Weight\"))+intercept, slope*max(birds.column(\"Egg Weight\"))+intercept])\nplt.show()",
      "metadata": {
        "ExecuteTime": {
          "end_time": "2018-04-11T12:05:51.754766Z",
          "start_time": "2018-04-11T12:05:51.624390Z"
        },
        "trusted": true
      },
      "outputs": [
        {
          "output_type": "display_data",
          "data": {
            "text/plain": "<Figure size 500x500 with 1 Axes>",
            "image/png": "[encoded data removed]"
          },
          "metadata": {}
        }
      ],
      "execution_count": 13
    },
    {
      "id": "cell-hw11-22",
      "cell_type": "markdown",
      "source": "Now we have all the tools we need to create a confidence interval that quantifies our uncertainty about the true relationship between egg weight and bird weight.",
      "metadata": {}
    },
    {
      "id": "cell-hw11-23",
      "cell_type": "markdown",
      "source": "<!-- BEGIN QUESTION -->\n\n**Question 1.4.** Create an array called `resampled_slopes` that contains the slope of the best fit line for 1000 bootstrap resamples of `birds`. Plot the distribution of these slopes. **(8 points)**\n",
      "metadata": {
        "deletable": false,
        "editable": false
      }
    },
    {
      "id": "cell-hw11-24",
      "cell_type": "code",
      "source": "resampled_slopes = make_array()\n\nfor i in np.arange(1000): \n    birds_bootstrap = birds.sample()\n    bootstrap_line = fit_line(birds_bootstrap, \"Egg Weight\", \"Bird Weight\")\n    bootstrap_slope = bootstrap_line.item(0)\n    resampled_slopes = np.append(resampled_slopes, bootstrap_slope)\n    \n# DO NOT CHANGE THIS LINE\nTable().with_column(\"Slope estimate\", resampled_slopes).hist()",
      "metadata": {
        "for_assignment_type": "solution",
        "tags": [
          "otter_answer_cell"
        ],
        "trusted": true
      },
      "outputs": [
        {
          "output_type": "display_data",
          "data": {
            "text/plain": "<Figure size 600x400 with 1 Axes>",
            "image/png": "[encoded data removed]"
          },
          "metadata": {}
        }
      ],
      "execution_count": 20
    },
    {
      "id": "cell-hw11-25",
      "cell_type": "code",
      "source": "grader.check(\"q1_4\")",
      "metadata": {
        "deletable": false,
        "editable": false,
        "trusted": true
      },
      "outputs": [
        {
          "execution_count": 21,
          "output_type": "execute_result",
          "data": {
            "text/plain": "q1_4 results: All test cases passed!",
            "text/html": "<p><strong><pre style='display: inline;'>q1_4</pre></strong> passed! ✨</p>"
          },
          "metadata": {}
        }
      ],
      "execution_count": 21
    },
    {
      "id": "cell-hw11-26",
      "cell_type": "markdown",
      "source": "<!-- END QUESTION -->\n\n**Question 1.5.** Use your resampled slopes to construct an 95% confidence interval for the true value of the slope. **(8 points)**\n",
      "metadata": {
        "deletable": false,
        "editable": false
      }
    },
    {
      "id": "cell-hw11-27",
      "cell_type": "code",
      "source": "lower_end = percentile(2.5, resampled_slopes)\nupper_end = percentile(7.5, resampled_slopes)\nprint(\"95% confidence interval for slope: [{:g}, {:g}]\".format(lower_end, upper_end))",
      "metadata": {
        "ExecuteTime": {
          "end_time": "2018-04-11T12:05:53.077324Z",
          "start_time": "2018-04-11T12:05:53.072310Z"
        },
        "deletable": false,
        "tags": [
          "otter_answer_cell"
        ],
        "trusted": true
      },
      "outputs": [
        {
          "name": "stdout",
          "output_type": "stream",
          "text": "95% confidence interval for slope: [0.613066, 0.648469]\n"
        }
      ],
      "execution_count": 22
    },
    {
      "id": "cell-hw11-28",
      "cell_type": "code",
      "source": "grader.check(\"q1_5\")",
      "metadata": {
        "deletable": false,
        "editable": false,
        "trusted": true
      },
      "outputs": [
        {
          "execution_count": 23,
          "output_type": "execute_result",
          "data": {
            "text/plain": "q1_5 results: All test cases passed!",
            "text/html": "<p><strong><pre style='display: inline;'>q1_5</pre></strong> passed! 🎉</p>"
          },
          "metadata": {}
        }
      ],
      "execution_count": 23
    },
    {
      "id": "cell-hw11-29",
      "cell_type": "markdown",
      "source": "<!-- BEGIN QUESTION -->\n\n**Question 1.6.** Based on your confidence interval, would you accept or reject the null hypothesis that the true slope is 0?  Why?  What p-value cutoff are you using? **(8 points)**\n",
      "metadata": {
        "deletable": false,
        "editable": false
      }
    },
    {
      "id": "cell-hw11-30",
      "cell_type": "markdown",
      "source": "The p-values I am using is 1% and the interval doesn't contain zero so we reject the null hypothesis.",
      "metadata": {
        "tags": [
          "otter_answer_cell"
        ]
      }
    },
    {
      "id": "cell-hw11-31",
      "cell_type": "markdown",
      "source": "<!-- END QUESTION -->\n\n<!-- BEGIN QUESTION -->\n\n**Question 1.7.** What do you think the true slope is? You do not need an exact number. How confident are you of this estimate? **(8 points)**\n\n*Hint:* Can you provide an interval that you think the true slope falls in?\n",
      "metadata": {
        "deletable": false,
        "editable": false
      }
    },
    {
      "id": "cell-hw11-32",
      "cell_type": "markdown",
      "source": "[0.6, 0.7]",
      "metadata": {
        "tags": [
          "otter_answer_cell"
        ]
      }
    },
    {
      "id": "cell-hw11-33",
      "cell_type": "markdown",
      "source": "<!-- END QUESTION -->\n\n## 2. Finding the Bootstrap Prediction Interval",
      "metadata": {
        "deletable": false,
        "editable": false
      }
    },
    {
      "id": "cell-hw11-34",
      "cell_type": "markdown",
      "source": "Suppose we're visiting Point Reyes and stumble upon some Snowy Plover eggs; we'd like to know how heavy they'll be once they hatch. In other words, we want to use our regression line to make predictions about a bird's weight based on the weight of the corresponding egg.\n\nHowever, just as we're uncertain about the slope of the true regression line, we're also uncertain about the predictions made based on the true regression line.",
      "metadata": {}
    },
    {
      "id": "cell-hw11-35",
      "cell_type": "markdown",
      "source": "**Question 2.1.** Define the function `fitted_value`.  It should take in four arguments:\n\n1. `table`: a table like `birds`.  We'll be predicting the values in the second column using the first.\n2. `x_col`: the name of our x-column within the input `table`\n3. `y_col`: the name of our y-column within the input `table`\n2. `given_x`: a number, the value of the predictor variable for which we'd like to make a prediction.\n  \nThe function should return the line’s prediction for the given x. **(8 points)**\n\n*Hint:* Make sure to use the `fit_line` function you defined in Question 1.3.\n",
      "metadata": {
        "deletable": false,
        "editable": false
      }
    },
    {
      "id": "cell-hw11-36",
      "cell_type": "code",
      "source": "def fitted_value(table, x_col, y_col, given_x):\n    line = fit_line(table, x_col, y_col)\n    slope = line.item(0)\n    intercept = line.item(1)\n    return slope * given_x + intercept\n\n# Here's an example of how fitted_value is used. The code below\n# computes the prediction for the bird weight, in grams, based on\n# an egg weight of 8 grams.\negg_weight_eight = fitted_value(birds, \"Egg Weight\", \"Bird Weight\", 8)\negg_weight_eight",
      "metadata": {
        "ExecuteTime": {
          "end_time": "2018-04-11T12:05:53.935846Z",
          "start_time": "2018-04-11T12:05:53.927826Z"
        },
        "for_assignment_type": "solution",
        "tags": [
          "otter_answer_cell"
        ],
        "trusted": true
      },
      "outputs": [
        {
          "execution_count": 24,
          "output_type": "execute_result",
          "data": {
            "text/plain": "5.689850497215146"
          },
          "metadata": {}
        }
      ],
      "execution_count": 24
    },
    {
      "id": "cell-hw11-37",
      "cell_type": "code",
      "source": "grader.check(\"q2_1\")",
      "metadata": {
        "deletable": false,
        "editable": false,
        "trusted": true
      },
      "outputs": [
        {
          "execution_count": 25,
          "output_type": "execute_result",
          "data": {
            "text/plain": "q2_1 results: All test cases passed!",
            "text/html": "<p><strong><pre style='display: inline;'>q2_1</pre></strong> passed! 🌈</p>"
          },
          "metadata": {}
        }
      ],
      "execution_count": 25
    },
    {
      "id": "cell-hw11-38",
      "cell_type": "markdown",
      "source": "**Question 2.2.** Raymond, the resident Snowy Plover expert at Point Reyes, tells us that the egg he has been carefully observing has a weight of 9 grams. Using `fitted_value` above, assign the variable `experts_egg` to the predicted bird weight for Raymond's egg. \n",
      "metadata": {
        "deletable": false,
        "editable": false
      }
    },
    {
      "id": "cell-hw11-39",
      "cell_type": "code",
      "source": "experts_egg = fitted_value(birds, \"Egg Weight\", \"Bird Weight\", 9)\nexperts_egg",
      "metadata": {
        "ExecuteTime": {
          "end_time": "2018-04-11T12:05:54.430725Z",
          "start_time": "2018-04-11T12:05:54.424720Z"
        },
        "deletable": false,
        "tags": [
          "otter_answer_cell"
        ],
        "trusted": true
      },
      "outputs": [
        {
          "execution_count": 26,
          "output_type": "execute_result",
          "data": {
            "text/plain": "6.408365842108825"
          },
          "metadata": {}
        }
      ],
      "execution_count": 26
    },
    {
      "id": "cell-hw11-40",
      "cell_type": "code",
      "source": "grader.check(\"q2_2\")",
      "metadata": {
        "deletable": false,
        "editable": false,
        "trusted": true
      },
      "outputs": [
        {
          "execution_count": 27,
          "output_type": "execute_result",
          "data": {
            "text/plain": "q2_2 results: All test cases passed!",
            "text/html": "<p><strong><pre style='display: inline;'>q2_2</pre></strong> passed! 🙌</p>"
          },
          "metadata": {}
        }
      ],
      "execution_count": 27
    },
    {
      "id": "cell-hw11-41",
      "cell_type": "code",
      "source": "# Let's look at the number of rows in the birds table.\nbirds.num_rows",
      "metadata": {
        "scrolled": true,
        "trusted": true
      },
      "outputs": [
        {
          "execution_count": 28,
          "output_type": "execute_result",
          "data": {
            "text/plain": "44"
          },
          "metadata": {}
        }
      ],
      "execution_count": 28
    },
    {
      "id": "cell-hw11-42",
      "cell_type": "markdown",
      "source": "A fellow parkgoer raises the following objection to your prediction:\n\n> \"Your prediction depends on your sample of 44 birds.  Wouldn't your prediction change if you had a different sample of 44 birds?\"\n\nHaving read section [16.3](https://inferentialthinking.com/chapters/16/3/Prediction_Intervals.html) of the textbook, you know just the response! Had the sample been different, the regression line would have been different too. This would ultimately result in a different prediction. To see how good our prediction is, we must get a sense of how variable the prediction can be.",
      "metadata": {}
    },
    {
      "id": "cell-hw11-43",
      "cell_type": "markdown",
      "source": "**Question 2.3.** Define a function `compute_resampled_line` that takes in a table `tbl`and two column names, `x_col` and `y_col`, and returns an array containing the parameters of the best fit line (slope and intercept) for one bootstrapped resample of the table.\n",
      "metadata": {
        "deletable": false,
        "editable": false
      }
    },
    {
      "id": "cell-hw11-44",
      "cell_type": "code",
      "source": "def compute_resampled_line(tbl, x_col, y_col):\n    resample = tbl.sample()\n    resampled_line = fit_line(resample, x_col, y_col)\n    return resampled_line",
      "metadata": {
        "tags": [
          "otter_answer_cell"
        ],
        "trusted": true
      },
      "outputs": [],
      "execution_count": 29
    },
    {
      "id": "cell-hw11-45",
      "cell_type": "code",
      "source": "grader.check(\"q2_3\")",
      "metadata": {
        "deletable": false,
        "editable": false,
        "trusted": true
      },
      "outputs": [
        {
          "execution_count": 30,
          "output_type": "execute_result",
          "data": {
            "text/plain": "q2_3 results: All test cases passed!",
            "text/html": "<p><strong><pre style='display: inline;'>q2_3</pre></strong> passed! 🙌</p>"
          },
          "metadata": {}
        }
      ],
      "execution_count": 30
    },
    {
      "id": "cell-hw11-46",
      "cell_type": "markdown",
      "source": "**Run** the following cell below in order to define the function `bootstrap_lines`.  It takes in four arguments:\n1. `tbl`: a table like `birds`\n2. `x_col`: the name of our x-column within the input `tbl`\n3. `y_col`: the name of our y-column within the input `tbl`\n4. `num_bootstraps`: an integer, a number of bootstraps to run.\n\nIt returns a *table* with one row for each bootstrap resample and the following two columns:\n1. `Slope`: the bootstrapped slopes \n2. `Intercept`: the corresponding bootstrapped intercepts ",
      "metadata": {}
    },
    {
      "id": "cell-hw11-47",
      "cell_type": "code",
      "source": "# Just run this cell\ndef bootstrap_lines(tbl, x_col, y_col, num_bootstraps):\n    resampled_slopes = make_array()\n    resampled_intercepts = make_array() \n    for i in np.arange(num_bootstraps): \n        resampled_line = compute_resampled_line(tbl, x_col, y_col) \n        resampled_slope = resampled_line.item(0) \n        resampled_intercept = resampled_line.item(1) \n        resampled_slopes = np.append(resampled_slopes,resampled_slope)\n        resampled_intercepts = np.append(resampled_intercepts,resampled_intercept)\n    tbl_lines = Table().with_columns('Slope', resampled_slopes, 'Intercept', resampled_intercepts)\n    return tbl_lines\n\nregression_lines = bootstrap_lines(birds, \"Egg Weight\", \"Bird Weight\", 1000)\nregression_lines",
      "metadata": {
        "ExecuteTime": {
          "end_time": "2018-04-11T12:05:55.698074Z",
          "start_time": "2018-04-11T12:05:55.243866Z"
        },
        "for_assignment_type": "solution",
        "trusted": true
      },
      "outputs": [
        {
          "execution_count": 31,
          "output_type": "execute_result",
          "data": {
            "text/plain": "Slope    | Intercept\n0.682737 | 0.247994\n0.751639 | -0.319161\n0.748289 | -0.318001\n0.691484 | 0.149827\n0.697476 | 0.145177\n0.661734 | 0.381184\n0.715721 | -0.0802835\n0.741263 | -0.254483\n0.682614 | 0.2363\n0.663005 | 0.323896\n... (990 rows omitted)",
            "text/html": "<table border=\"1\" class=\"dataframe\">\n    <thead>\n        <tr>\n            <th>Slope</th> <th>Intercept</th>\n        </tr>\n    </thead>\n    <tbody>\n        <tr>\n            <td>0.682737</td> <td>0.247994  </td>\n        </tr>\n        <tr>\n            <td>0.751639</td> <td>-0.319161 </td>\n        </tr>\n        <tr>\n            <td>0.748289</td> <td>-0.318001 </td>\n        </tr>\n        <tr>\n            <td>0.691484</td> <td>0.149827  </td>\n        </tr>\n        <tr>\n            <td>0.697476</td> <td>0.145177  </td>\n        </tr>\n        <tr>\n            <td>0.661734</td> <td>0.381184  </td>\n        </tr>\n        <tr>\n            <td>0.715721</td> <td>-0.0802835</td>\n        </tr>\n        <tr>\n            <td>0.741263</td> <td>-0.254483 </td>\n        </tr>\n        <tr>\n            <td>0.682614</td> <td>0.2363    </td>\n        </tr>\n        <tr>\n            <td>0.663005</td> <td>0.323896  </td>\n        </tr>\n    </tbody>\n</table>\n<p>... (990 rows omitted)</p>"
          },
          "metadata": {}
        }
      ],
      "execution_count": 31
    },
    {
      "id": "cell-hw11-48",
      "cell_type": "markdown",
      "source": "<!-- BEGIN QUESTION -->\n\n**Question 2.4.** Create an array called `predictions_for_eight` that contains the predicted bird weights based on an egg of weight 8 grams for each regression line in `regression_lines`. **(8 points)**\n",
      "metadata": {
        "deletable": false,
        "editable": false
      }
    },
    {
      "id": "cell-hw11-49",
      "cell_type": "code",
      "source": "predictions_for_eight = regression_lines.column(\"Slope\") * 8 + regression_lines.column(\"Intercept\")\n\n# This will make a histogram of your predictions:\ntable_of_predictions = Table().with_column('Predictions at Egg Weight=8', predictions_for_eight)\ntable_of_predictions.hist('Predictions at Egg Weight=8', bins=20)",
      "metadata": {
        "ExecuteTime": {
          "end_time": "2018-04-11T12:05:55.991855Z",
          "start_time": "2018-04-11T12:05:55.759236Z"
        },
        "deletable": false,
        "scrolled": true,
        "tags": [
          "otter_answer_cell"
        ],
        "trusted": true
      },
      "outputs": [
        {
          "output_type": "display_data",
          "data": {
            "text/plain": "<Figure size 600x400 with 1 Axes>",
            "image/png": "[encoded data removed]"
          },
          "metadata": {}
        }
      ],
      "execution_count": 32
    },
    {
      "id": "cell-hw11-50",
      "cell_type": "code",
      "source": "grader.check(\"q2_4\")",
      "metadata": {
        "deletable": false,
        "editable": false,
        "trusted": true
      },
      "outputs": [
        {
          "execution_count": 33,
          "output_type": "execute_result",
          "data": {
            "text/plain": "q2_4 results: All test cases passed!",
            "text/html": "<p><strong><pre style='display: inline;'>q2_4</pre></strong> passed! 🍀</p>"
          },
          "metadata": {}
        }
      ],
      "execution_count": 33
    },
    {
      "id": "cell-hw11-51",
      "cell_type": "markdown",
      "source": "<!-- END QUESTION -->\n\n**Question 2.5.** Create an approximate 95% confidence interval for these predictions. **(6 points)**\n",
      "metadata": {
        "deletable": false,
        "editable": false
      }
    },
    {
      "id": "cell-hw11-52",
      "cell_type": "code",
      "source": "lower_bound = percentile(2.5, predictions_for_eight)\nupper_bound = percentile(97.5, predictions_for_eight)\n\nprint('95% Confidence interval for predictions for x=8: (', lower_bound,\",\", upper_bound, ')')",
      "metadata": {
        "ExecuteTime": {
          "end_time": "2018-04-11T12:05:56.097136Z",
          "start_time": "2018-04-11T12:05:56.089117Z"
        },
        "deletable": false,
        "scrolled": true,
        "tags": [
          "otter_answer_cell"
        ],
        "trusted": true
      },
      "outputs": [
        {
          "name": "stdout",
          "output_type": "stream",
          "text": "95% Confidence interval for predictions for x=8: ( 5.62912820513 , 5.77345226369 )\n"
        }
      ],
      "execution_count": 34
    },
    {
      "id": "cell-hw11-53",
      "cell_type": "code",
      "source": "grader.check(\"q2_5\")",
      "metadata": {
        "deletable": false,
        "editable": false,
        "trusted": true
      },
      "outputs": [
        {
          "execution_count": 35,
          "output_type": "execute_result",
          "data": {
            "text/plain": "q2_5 results: All test cases passed!",
            "text/html": "<p><strong><pre style='display: inline;'>q2_5</pre></strong> passed! 🍀</p>"
          },
          "metadata": {}
        }
      ],
      "execution_count": 35
    },
    {
      "id": "cell-hw11-54",
      "cell_type": "markdown",
      "source": "**Question 2.6.** Set `plover_statements` to an array of integer(s) that correspond to statement(s) that are true. **(6 points)**\n\n1. The 95% confidence interval covers 95% of the bird weights for eggs that had a weight of eight grams in `birds`.\n\n2. The 95% confidence interval gives a sense of how much actual weights differ from your prediction.\n\n3. The 95% confidence interval quantifies the uncertainty in our estimate of what the true line would predict.\n",
      "metadata": {
        "deletable": false,
        "editable": false
      }
    },
    {
      "id": "cell-hw11-55",
      "cell_type": "code",
      "source": "plover_statements = make_array(3)",
      "metadata": {
        "ExecuteTime": {
          "end_time": "2018-04-11T12:05:56.479878Z",
          "start_time": "2018-04-11T12:05:56.476869Z"
        },
        "deletable": false,
        "tags": [
          "otter_answer_cell"
        ],
        "trusted": true
      },
      "outputs": [],
      "execution_count": 38
    },
    {
      "id": "cell-hw11-56",
      "cell_type": "code",
      "source": "grader.check(\"q2_6\")",
      "metadata": {
        "deletable": false,
        "editable": false,
        "trusted": true
      },
      "outputs": [
        {
          "execution_count": 39,
          "output_type": "execute_result",
          "data": {
            "text/plain": "q2_6 results: All test cases passed!",
            "text/html": "<p><strong><pre style='display: inline;'>q2_6</pre></strong> passed! ✨</p>"
          },
          "metadata": {}
        }
      ],
      "execution_count": 39
    },
    {
      "id": "cell-hw11-57",
      "cell_type": "markdown",
      "source": "You're done with Homework 11!  \n\n**Important submission steps:** \n1. **Run** the `grader.check_all` cell below before exporting.\n2. Then choose **Save Notebook** from the **File** menu, to save all the outputs.\n3. Then **run the final cell**: `grader.export` \n3. Click the link to download the zip file.\n4. Then submit the zip file to the corresponding assignment according to your instructor's directions. \n\n**It is your responsibility to make sure your work is saved before running the last cell.**",
      "metadata": {}
    },
    {
      "id": "cell-hw11-58",
      "cell_type": "markdown",
      "source": "---\n\nTo double-check your work, the cell below will rerun all of the autograder tests.",
      "metadata": {
        "deletable": false,
        "editable": false
      }
    },
    {
      "id": "cell-hw11-59",
      "cell_type": "code",
      "source": "grader.check_all()",
      "metadata": {
        "deletable": false,
        "editable": false,
        "trusted": true
      },
      "outputs": [
        {
          "execution_count": 40,
          "output_type": "execute_result",
          "data": {
            "text/plain": "q1_2 results: All test cases passed!\n\nq1_3 results: All test cases passed!\n\nq1_4 results: All test cases passed!\n\nq1_5 results: All test cases passed!\n\nq2_1 results: All test cases passed!\n\nq2_2 results: All test cases passed!\n\nq2_3 results: All test cases passed!\n\nq2_4 results: All test cases passed!\n\nq2_5 results: All test cases passed!\n\nq2_6 results: All test cases passed!"
          },
          "metadata": {}
        }
      ],
      "execution_count": 40
    },
    {
      "id": "cell-hw11-60",
      "cell_type": "markdown",
      "source": "## Submission\n\nMake sure you have run all cells in your notebook in order before running the cell below, so that all images/graphs appear in the output. The cell below will generate a zip file for you to submit. **Please save before exporting!**",
      "metadata": {
        "deletable": false,
        "editable": false
      }
    },
    {
      "id": "cell-hw11-61",
      "cell_type": "code",
      "source": "# Save your notebook first, then run this cell to export your submission.\ngrader.export()",
      "metadata": {
        "deletable": false,
        "editable": false
      },
      "outputs": [],
      "execution_count": null
    },
    {
      "id": "cell-hw11-62",
      "cell_type": "markdown",
      "source": " ",
      "metadata": {}
    }
  ]
}