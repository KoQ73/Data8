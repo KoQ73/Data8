{
  "metadata": {
    "kernelspec": {
      "name": "python",
      "display_name": "Python (Pyodide)",
      "language": "python"
    },
    "language_info": {
      "codemirror_mode": {
        "name": "python",
        "version": 3
      },
      "file_extension": ".py",
      "mimetype": "text/x-python",
      "name": "python",
      "nbconvert_exporter": "python",
      "pygments_lexer": "ipython3",
      "version": "3.8"
    },
    "otter": {
      "OK_FORMAT": true,
      "tests": {
        "q1_1": {
          "name": "q1_1",
          "points": null,
          "suites": [
            {
              "cases": [
                {
                  "code": ">>> len(ab_test_order) == 6\nTrue",
                  "hidden": false,
                  "locked": false
                },
                {
                  "code": ">>> np.allclose(np.array(ab_test_order)[:3] % 2 == 1, True)\nTrue",
                  "hidden": false,
                  "locked": false
                },
                {
                  "code": ">>> np.allclose(np.array(ab_test_order)[3:] % 2 == 0, True)\nTrue",
                  "hidden": false,
                  "locked": false
                },
                {
                  "code": ">>> import hashlib\n>>> \n>>> def get_hash(num):\n...     \"\"\"Helper function for assessing correctness.\"\"\"\n...     return hashlib.md5(str(num).encode()).hexdigest()\n>>> get_hash(np.array(ab_test_order).astype(int))\n'a7196ed0f271c873d9750cb92422d911'",
                  "hidden": false,
                  "locked": false
                }
              ],
              "scored": true,
              "setup": "",
              "teardown": "",
              "type": "doctest"
            }
          ]
        },
        "q2_10": {
          "name": "q2_10",
          "points": null,
          "suites": [
            {
              "cases": [
                {
                  "code": ">>> 0 <= empirical_p < 0.05\nTrue",
                  "hidden": false,
                  "locked": false
                }
              ],
              "scored": true,
              "setup": "",
              "teardown": "",
              "type": "doctest"
            }
          ]
        },
        "q2_3": {
          "name": "q2_3",
          "points": null,
          "suites": [
            {
              "cases": [
                {
                  "code": ">>> means.num_rows\n2",
                  "hidden": false,
                  "locked": false
                },
                {
                  "code": ">>> np.round(min(means.column('star baker awards mean')), 2) == 0.65\nTrue",
                  "hidden": false,
                  "locked": false
                },
                {
                  "code": ">>> np.round(max(means.column('star baker awards mean')), 2) == 1.5\nTrue",
                  "hidden": false,
                  "locked": false
                }
              ],
              "scored": true,
              "setup": "",
              "teardown": "",
              "type": "doctest"
            }
          ]
        },
        "q2_6": {
          "name": "q2_6",
          "points": null,
          "suites": [
            {
              "cases": [
                {
                  "code": ">>> isinstance(observed_difference, float)\nTrue",
                  "hidden": false,
                  "locked": false
                },
                {
                  "code": ">>> float(round(observed_difference, 3))\n0.848",
                  "hidden": false,
                  "locked": false
                }
              ],
              "scored": true,
              "setup": "",
              "teardown": "",
              "type": "doctest"
            }
          ]
        },
        "q2_7": {
          "name": "q2_7",
          "points": null,
          "suites": [
            {
              "cases": [
                {
                  "code": ">>> np.isclose(round(find_test_stat(bakers, 'won', 'star baker awards'), 3) - 0.848, 0)\nTrue",
                  "hidden": false,
                  "locked": false
                }
              ],
              "scored": true,
              "setup": "",
              "teardown": "",
              "type": "doctest"
            }
          ]
        },
        "q2_8": {
          "name": "q2_8",
          "points": null,
          "suites": [
            {
              "cases": [
                {
                  "code": ">>> test_stat = round(simulate_and_test_statistic(bakers, 'won', 'star baker awards'), 3)\n>>> -2 < test_stat < 2\nTrue",
                  "hidden": false,
                  "locked": false
                },
                {
                  "code": ">>> np.random.seed(1)\n>>> test_stat2 = simulate_and_test_statistic(bakers, 'won', 'star baker awards')\n>>> np.round(test_stat2, 3) == -0.023 or np.round(test_stat2, 3) == -0.132\nTrue",
                  "hidden": false,
                  "locked": false
                }
              ],
              "scored": true,
              "setup": "",
              "teardown": "",
              "type": "doctest"
            }
          ]
        },
        "q2_9": {
          "name": "q2_9",
          "points": null,
          "suites": [
            {
              "cases": [
                {
                  "code": ">>> len(differences)\n5000",
                  "hidden": false,
                  "locked": false
                },
                {
                  "code": ">>> abs(np.average(differences)) < 0.05\nTrue",
                  "hidden": false,
                  "locked": false
                },
                {
                  "code": ">>> all(differences == differences.item(0)) == False\nTrue",
                  "hidden": false,
                  "locked": false
                }
              ],
              "scored": true,
              "setup": "",
              "teardown": "",
              "type": "doctest"
            }
          ]
        }
      }
    }
  },
  "nbformat_minor": 5,
  "nbformat": 4,
  "cells": [
    {
      "id": "cell-lab07-0",
      "cell_type": "code",
      "source": "# The pip install can take a minute\n%pip install -q urllib3<2.0 otter-grader==5.5.0 datascience ipywidgets\nimport pyodide_http\npyodide_http.patch_all()\n\n# Initialize Otter\nimport otter\ngrader = otter.Notebook(\"lab07.ipynb\", jupyterlite=True)",
      "metadata": {
        "deletable": false,
        "editable": false,
        "trusted": true
      },
      "outputs": [],
      "execution_count": 1
    },
    {
      "id": "cell-lab07-1",
      "cell_type": "markdown",
      "source": "# Lab 7: Great British Bake Off (A/B Test)\n\nWelcome to Data 8 Lab 7! This week's lab will focus on A/B Testing using data from the ever-popular British television show, [*The Great British Bakeoff*](https://en.wikipedia.org/wiki/The_Great_British_Bake_Off).\n\n\n**Submission**: Once you’re finished, run all cells besides the last one, select File > Save Notebook, and then execute the final cell. Then submit the downloaded zip file, that includes your notebook,  according to your instructor's directions.\n\nFirst, set up the notebook by running the cell below.",
      "metadata": {}
    },
    {
      "id": "cell-lab07-2",
      "cell_type": "code",
      "source": "# Run this cell to set up the notebook, but please don't change it.\n\n# These lines import the Numpy and Datascience modules.\nimport numpy as np\nfrom datascience import *\n\n# These lines do some fancy plotting magic.\nimport matplotlib\n%matplotlib inline\nimport matplotlib.pyplot as plots\nplots.style.use('fivethirtyeight')\nimport warnings\n",
      "metadata": {
        "trusted": true
      },
      "outputs": [],
      "execution_count": 4
    },
    {
      "id": "cell-lab07-3",
      "cell_type": "markdown",
      "source": "## 1. A/B Testing\n\nA/B testing is a form of hypothesis testing that allows you to make comparisons between two distributions. We may also refer to an A/B test as a permutation test.\n\nYou'll almost never be explicitly asked to perform an A/B test. Make sure you can identify situations where the test is appropriate and know how to correctly implement each step. Oftentimes, we use an A/B test to determine whether or not two samples came from the same underlying distribution.",
      "metadata": {}
    },
    {
      "id": "cell-lab07-4",
      "cell_type": "markdown",
      "source": "**Question 1.1.** The following statements are the steps of an A/B hypothesis test presented in a *random order*:\n\n1. Choose a test statistic (typically the difference in means between two categories)\n\n2. Shuffle the labels of the original sample, find your simulated test statistic, and repeat many times\n\n3. Find the value of the observed test statistic\n\n4. Calculate the p-value based off your observed and simulated test statistics\n\n5. Define a null and alternate model\n\n6. Use the p-value and p-value cutoff to draw a conclusion about the null hypothesis\n\nAssign `ab_test_order` to an array of integers that contains the correct order of an A/B test, where the first item of the array is the first step of an A/B test and the last item of the array is the last step of an A/B test.\n",
      "metadata": {
        "deletable": false,
        "editable": false
      }
    },
    {
      "id": "cell-lab07-5",
      "cell_type": "code",
      "source": "ab_test_order = make_array(5, 1, 3, 2, 4, 6)",
      "metadata": {
        "tags": [],
        "trusted": true
      },
      "outputs": [],
      "execution_count": 5
    },
    {
      "id": "cell-lab07-6",
      "cell_type": "code",
      "source": "grader.check(\"q1_1\")",
      "metadata": {
        "deletable": false,
        "editable": false,
        "trusted": true
      },
      "outputs": [
        {
          "execution_count": 6,
          "output_type": "execute_result",
          "data": {
            "text/plain": "q1_1 results: All test cases passed!",
            "text/html": "<p><strong><pre style='display: inline;'>q1_1</pre></strong> passed! 🚀</p>"
          },
          "metadata": {}
        }
      ],
      "execution_count": 6
    },
    {
      "id": "cell-lab07-7",
      "cell_type": "markdown",
      "source": "**Question 1.2.** If the null hypothesis of an A/B test is correct, should the order of labels affect the differences in means between each group? Why do we shuffle labels in an A/B test? If you are in a lab section, confirm your answer with a neighbor or staff member before moving on. \n",
      "metadata": {
        "deletable": false,
        "editable": false
      }
    },
    {
      "id": "cell-lab07-8",
      "cell_type": "markdown",
      "source": "## 2. The Great British Bake Off\n\n>\"The Great British Bake Off (often abbreviated to Bake Off or GBBO) is a British television baking competition, produced by Love Productions, in which a group of amateur bakers compete against each other in a series of rounds, attempting to impress a group of judges with their baking skills\" [Wikipedia](https://en.wikipedia.org/wiki/The_Great_British_Bake_Off)\n\nFor every week of the competition, the judges assign one contestant the title \"Star Baker\". Ultimately, one winner is crowned every season. Using this information, we would like to investigate how winning Star Baker awards affects the odds of winning a season of the show.",
      "metadata": {}
    },
    {
      "id": "cell-lab07-9",
      "cell_type": "markdown",
      "source": "**Question 2.1.** We want to know whether winning more Star Baker awards *causes* a change in likelihood of winning the season.  Why is it not sufficient to compare star baker rates for winners and losers?\n",
      "metadata": {
        "deletable": false,
        "editable": false
      }
    },
    {
      "id": "cell-lab07-10",
      "cell_type": "markdown",
      "source": "### Running an Experiment\n\nWe are going to run the following hypothesis test to determine the association between winning and number of Star Baker awards. The population we are examining is every contestant from seasons 2 through 11 of GBBO. We are going to use the following null and alternative hypotheses:\n\n**Null hypothesis:** The distribution of Star Baker awards between contestants who won their season and contestants who did not win their season is the same.\n\n**Alternative hypothesis:** Contestants who win their season of the show will win more Star Baker awards on average.\n\nOur alternative hypothesis is related to our suspicion that contestants who win more Star Baker awards are more skilled, so they are more likely to win the season.",
      "metadata": {}
    },
    {
      "id": "cell-lab07-11",
      "cell_type": "markdown",
      "source": "**Question 2.2.** Should we use an A/B test to test these hypotheses? If yes, what is our \"A\" group and what is our \"B\" group?\n",
      "metadata": {
        "deletable": false,
        "editable": false
      }
    },
    {
      "id": "cell-lab07-12",
      "cell_type": "markdown",
      "source": "Check your answers with your neighbors or a staff member before you move on to the next section.",
      "metadata": {}
    },
    {
      "id": "cell-lab07-13",
      "cell_type": "markdown",
      "source": "The `bakers` table below describes the number of star baker awards each contest won and whether or not they won their season (`1` if they won, `0` if they did not win). The data was manually aggregated from Wikipedia for seasons 2-11 of the show. We randomized the order of rows as to not spoil the outcome of the show.",
      "metadata": {}
    },
    {
      "id": "cell-lab07-14",
      "cell_type": "code",
      "source": "bakers = Table.read_table(\"https://ds-modules.github.io/materials-sp22-assets/lab/lab07/star_bakers.csv\")\nbakers.show(3)",
      "metadata": {
        "trusted": true
      },
      "outputs": [
        {
          "output_type": "display_data",
          "data": {
            "text/plain": "<IPython.core.display.HTML object>",
            "text/html": "<table border=\"1\" class=\"dataframe\">\n    <thead>\n        <tr>\n            <th>star baker awards</th> <th>won</th>\n        </tr>\n    </thead>\n    <tbody>\n        <tr>\n            <td>3                </td> <td>1   </td>\n        </tr>\n        <tr>\n            <td>0                </td> <td>0   </td>\n        </tr>\n        <tr>\n            <td>1                </td> <td>0   </td>\n        </tr>\n    </tbody>\n</table>\n<p>... (119 rows omitted)</p>"
          },
          "metadata": {}
        }
      ],
      "execution_count": 7
    },
    {
      "id": "cell-lab07-15",
      "cell_type": "markdown",
      "source": "**Question 2.3.** Create a new table called `means` that contains the mean number of star baker awards for bakers who did not win (`won==0`) and bakers that did win (`won==1`). The table should have the column names `won` and `star baker awards mean`.",
      "metadata": {
        "deletable": false,
        "editable": false
      }
    },
    {
      "id": "cell-lab07-16",
      "cell_type": "code",
      "source": "means = bakers.group(\"won\", np.mean)\nmeans",
      "metadata": {
        "tags": [],
        "trusted": true
      },
      "outputs": [
        {
          "execution_count": 9,
          "output_type": "execute_result",
          "data": {
            "text/plain": "won  | star baker awards mean\n0    | 0.651786\n1    | 1.5",
            "text/html": "<table border=\"1\" class=\"dataframe\">\n    <thead>\n        <tr>\n            <th>won</th> <th>star baker awards mean</th>\n        </tr>\n    </thead>\n    <tbody>\n        <tr>\n            <td>0   </td> <td>0.651786              </td>\n        </tr>\n        <tr>\n            <td>1   </td> <td>1.5                   </td>\n        </tr>\n    </tbody>\n</table>"
          },
          "metadata": {}
        }
      ],
      "execution_count": 9
    },
    {
      "id": "cell-lab07-17",
      "cell_type": "code",
      "source": "grader.check(\"q2_3\")",
      "metadata": {
        "deletable": false,
        "editable": false,
        "trusted": true
      },
      "outputs": [
        {
          "execution_count": 10,
          "output_type": "execute_result",
          "data": {
            "text/plain": "q2_3 results: All test cases passed!",
            "text/html": "<p><strong><pre style='display: inline;'>q2_3</pre></strong> passed! 🚀</p>"
          },
          "metadata": {}
        }
      ],
      "execution_count": 10
    },
    {
      "id": "cell-lab07-18",
      "cell_type": "markdown",
      "source": "**Question 2.4.** Visualize the distribution of Star Baker awards for winners and non-winners. You should use the bins we provided.\n\nHint: You will want to use the group argument of `tbl.hist`. In order to produce several overlayed histograms based on unique values in a given column, we can do something like `tbl.hist(..., group=<col_name>, bins=...)`!\n",
      "metadata": {
        "deletable": false,
        "editable": false
      }
    },
    {
      "id": "cell-lab07-19",
      "cell_type": "code",
      "source": "useful_bins = np.arange(0, 7)\nbakers.hist(\"star baker awards\", group=\"won\", bins=useful_bins)",
      "metadata": {
        "tags": [],
        "trusted": true
      },
      "outputs": [
        {
          "output_type": "display_data",
          "data": {
            "text/plain": "<Figure size 600x400 with 1 Axes>",
            "image/png": "[encoded data removed]"
          },
          "metadata": {}
        }
      ],
      "execution_count": 12
    },
    {
      "id": "cell-lab07-20",
      "cell_type": "markdown",
      "source": "**Question 2.5.** We want to figure out if there is a difference between the distribution of Star Baker awards between winners and non winners. \n\nWhat should the test statistic be? Which values of this test statistic support the null, and which values support the alternative?\n\nIf you are in lab, confirm your answer with a neighbor or staff member before moving on.\n\nHint: You should think about what measures we use to describe a distribution. \n",
      "metadata": {
        "deletable": false,
        "editable": false
      }
    },
    {
      "id": "cell-lab07-21",
      "cell_type": "markdown",
      "source": "**Question 2.6.** Set `observed_difference` to the observed test statistic using the `means` table. \n",
      "metadata": {
        "deletable": false,
        "editable": false
      }
    },
    {
      "id": "cell-lab07-22",
      "cell_type": "code",
      "source": "observed_difference = means.column(\"star baker awards mean\").item(1) - means.column(\"star baker awards mean\").item(0)\nobserved_difference",
      "metadata": {
        "tags": [],
        "trusted": true
      },
      "outputs": [
        {
          "execution_count": 17,
          "output_type": "execute_result",
          "data": {
            "text/plain": "0.8482142857142857"
          },
          "metadata": {}
        }
      ],
      "execution_count": 17
    },
    {
      "id": "cell-lab07-23",
      "cell_type": "code",
      "source": "grader.check(\"q2_6\")",
      "metadata": {
        "deletable": false,
        "editable": false,
        "trusted": true
      },
      "outputs": [
        {
          "execution_count": 18,
          "output_type": "execute_result",
          "data": {
            "text/plain": "q2_6 results: All test cases passed!",
            "text/html": "<p><strong><pre style='display: inline;'>q2_6</pre></strong> passed! 🍀</p>"
          },
          "metadata": {}
        }
      ],
      "execution_count": 18
    },
    {
      "id": "cell-lab07-24",
      "cell_type": "markdown",
      "source": "**Question 2.7.** Given a table like `bakers`, a label column `label_col`, and a values column `val_col`, write a function that calculates the appropriate test statistic.\n\n*Hint:* Make sure that you are taking the directionality of our alternative hypothesis into account.\n",
      "metadata": {
        "deletable": false,
        "editable": false
      }
    },
    {
      "id": "cell-lab07-25",
      "cell_type": "code",
      "source": "def find_test_stat(tbl, label_col, val_col):\n    means_table = tbl.group(label_col, np.mean)\n    means = means_table.column(val_col + \" mean\")\n    return means.item(1) - means.item(0)\n\nfind_test_stat(bakers, \"won\", \"star baker awards\")",
      "metadata": {
        "scrolled": true,
        "tags": [],
        "trusted": true
      },
      "outputs": [
        {
          "execution_count": 20,
          "output_type": "execute_result",
          "data": {
            "text/plain": "0.8482142857142857"
          },
          "metadata": {}
        }
      ],
      "execution_count": 20
    },
    {
      "id": "cell-lab07-26",
      "cell_type": "code",
      "source": "grader.check(\"q2_7\")",
      "metadata": {
        "deletable": false,
        "editable": false,
        "trusted": true
      },
      "outputs": [
        {
          "execution_count": 21,
          "output_type": "execute_result",
          "data": {
            "text/plain": "q2_7 results: All test cases passed!",
            "text/html": "<p><strong><pre style='display: inline;'>q2_7</pre></strong> passed! 🌟</p>"
          },
          "metadata": {}
        }
      ],
      "execution_count": 21
    },
    {
      "id": "cell-lab07-27",
      "cell_type": "markdown",
      "source": "When we run a simulation for A/B testing, we resample by **shuffling the labels** of the original sample. If the null hypothesis is true and the star baker award distributions are the same, we expect that the difference in mean star baker awards will be not change when `\"won\"` labels are changed.",
      "metadata": {}
    },
    {
      "id": "cell-lab07-28",
      "cell_type": "markdown",
      "source": "**Question 2.8.** Write a function `simulate_and_test_statistic` to compute one trial of our A/B test. Your function should run a simulation and return a test statistic.\n",
      "metadata": {
        "deletable": false,
        "editable": false
      }
    },
    {
      "id": "cell-lab07-29",
      "cell_type": "code",
      "source": "def simulate_and_test_statistic(tbl, labels_col, values_col):\n    shuffled_labels = tbl.sample(with_replacement=False).column(labels_col)\n    shuffled_table = tbl.select(values_col).with_column(labels_col, shuffled_labels)\n    return find_test_stat(shuffled_table, labels_col, values_col)\n\nsimulate_and_test_statistic(bakers, \"won\", \"star baker awards\")",
      "metadata": {
        "tags": [],
        "trusted": true
      },
      "outputs": [
        {
          "execution_count": 25,
          "output_type": "execute_result",
          "data": {
            "text/plain": "0.08571428571428574"
          },
          "metadata": {}
        }
      ],
      "execution_count": 25
    },
    {
      "id": "cell-lab07-30",
      "cell_type": "code",
      "source": "grader.check(\"q2_8\")",
      "metadata": {
        "deletable": false,
        "editable": false,
        "trusted": true
      },
      "outputs": [
        {
          "execution_count": 26,
          "output_type": "execute_result",
          "data": {
            "text/plain": "q2_8 results: All test cases passed!",
            "text/html": "<p><strong><pre style='display: inline;'>q2_8</pre></strong> passed! 🌈</p>"
          },
          "metadata": {}
        }
      ],
      "execution_count": 26
    },
    {
      "id": "cell-lab07-31",
      "cell_type": "markdown",
      "source": "**Question 2.9.** Simulate 5000 trials of our A/B test and store the test statistics in an array called `differences`.\n",
      "metadata": {
        "deletable": false,
        "editable": false
      }
    },
    {
      "id": "cell-lab07-32",
      "cell_type": "code",
      "source": "# This cell might take a couple seconds to run\ndifferences = make_array()\n\nfor i in np.arange(5000):\n    stat = simulate_and_test_statistic(bakers, \"won\", \"star baker awards\")\n    differences = np.append(differences, stat)\n                                                 \ndifferences",
      "metadata": {
        "tags": [],
        "trusted": true
      },
      "outputs": [
        {
          "execution_count": 27,
          "output_type": "execute_result",
          "data": {
            "text/plain": "array([ 0.08571429, -0.24107143,  0.19464286, ..., -0.45892857,\n        0.08571429, -0.24107143])"
          },
          "metadata": {}
        }
      ],
      "execution_count": 27
    },
    {
      "id": "cell-lab07-33",
      "cell_type": "code",
      "source": "grader.check(\"q2_9\")",
      "metadata": {
        "deletable": false,
        "editable": false,
        "trusted": true
      },
      "outputs": [
        {
          "execution_count": 28,
          "output_type": "execute_result",
          "data": {
            "text/plain": "q2_9 results: All test cases passed!",
            "text/html": "<p><strong><pre style='display: inline;'>q2_9</pre></strong> passed! 🙌</p>"
          },
          "metadata": {}
        }
      ],
      "execution_count": 28
    },
    {
      "id": "cell-lab07-34",
      "cell_type": "markdown",
      "source": "Run the cell below to view a histogram of your simulated test statistics plotted with your observed test statistic.",
      "metadata": {}
    },
    {
      "id": "cell-lab07-35",
      "cell_type": "code",
      "source": "Table().with_column('Difference Between Group Means', differences).hist(bins=20)\nplots.scatter(observed_difference, 0, color='red', s=30, zorder=2)\nplots.ylim(-0.1, 1.35);",
      "metadata": {
        "trusted": true
      },
      "outputs": [
        {
          "output_type": "display_data",
          "data": {
            "text/plain": "<Figure size 600x400 with 1 Axes>",
            "image/png": "[encoded data removed]"
          },
          "metadata": {}
        }
      ],
      "execution_count": 29
    },
    {
      "id": "cell-lab07-36",
      "cell_type": "markdown",
      "source": "**Question 2.10.** Find the p-value for your test and assign it to `empirical_p`.\n",
      "metadata": {
        "deletable": false,
        "editable": false
      }
    },
    {
      "id": "cell-lab07-37",
      "cell_type": "code",
      "source": "empirical_p = sum(differences >= observed_difference) / 5000\nempirical_p",
      "metadata": {
        "tags": [],
        "trusted": true
      },
      "outputs": [
        {
          "execution_count": 33,
          "output_type": "execute_result",
          "data": {
            "text/plain": "0.0144"
          },
          "metadata": {}
        }
      ],
      "execution_count": 33
    },
    {
      "id": "cell-lab07-38",
      "cell_type": "code",
      "source": "grader.check(\"q2_10\")",
      "metadata": {
        "deletable": false,
        "editable": false,
        "trusted": true
      },
      "outputs": [
        {
          "execution_count": 34,
          "output_type": "execute_result",
          "data": {
            "text/plain": "q2_10 results: All test cases passed!",
            "text/html": "<p><strong><pre style='display: inline;'>q2_10</pre></strong> passed! 🙌</p>"
          },
          "metadata": {}
        }
      ],
      "execution_count": 34
    },
    {
      "id": "cell-lab07-39",
      "cell_type": "markdown",
      "source": "**Question 2.11.** Using a 5% P-value cutoff, draw a conclusion about the null and alternative hypotheses. Describe your findings using simple, non-technical language. What does your analysis tell you about the association between star baker awards and winning? What can you claim about causation from your statistical analysis? Call your GSI or AI over and confirm your answer. \n",
      "metadata": {
        "deletable": false,
        "editable": false
      }
    },
    {
      "id": "cell-lab07-40",
      "cell_type": "code",
      "source": "grader.check(\"q2_10\")",
      "metadata": {
        "deletable": false,
        "editable": false,
        "trusted": true
      },
      "outputs": [
        {
          "execution_count": 35,
          "output_type": "execute_result",
          "data": {
            "text/plain": "q2_10 results: All test cases passed!",
            "text/html": "<p><strong><pre style='display: inline;'>q2_10</pre></strong> passed! 🌈</p>"
          },
          "metadata": {}
        }
      ],
      "execution_count": 35
    },
    {
      "id": "cell-lab07-41",
      "cell_type": "markdown",
      "source": "## 3. Submission\n\nMinnie wanted to say congrats on finishing Lab 7!! You can now be like Minnie and enjoy your spring break!\n\n<img src=\"https://ds-modules.github.io/materials-sp22-assets/lab/lab07/minnie_car.jpg\" alt=\"drawing\" width=\"300\"/>\n\n<img src=\"https://ds-modules.github.io/materials-sp22-assets/lab/lab07/minnie_beach.jpg\" alt=\"drawing\" width=\"300\"/>\n\n**Important submission steps:** \n1. Run the tests and verify that they all pass.\n2. Choose **Save Notebook** from the **File** menu, then **run the final cell**. \n3. Click the link to download the zip file.\n4. Then submit the zip file to the corresponding assignment according to your instructor's directions. \n\n**It is your responsibility to make sure your work is saved before running the last cell.**",
      "metadata": {}
    },
    {
      "id": "cell-lab07-42",
      "cell_type": "markdown",
      "source": "## Submission\n\nMake sure you have run all cells in your notebook in order before running the cell below, so that all images/graphs appear in the output. The cell below will generate a zip file for you to submit. **Please save before exporting!**",
      "metadata": {
        "deletable": false,
        "editable": false
      }
    },
    {
      "id": "cell-lab07-43",
      "cell_type": "code",
      "source": "# Save your notebook first, then run this cell to export your submission.\ngrader.export(pdf=False, run_tests=True)",
      "metadata": {
        "deletable": false,
        "editable": false,
        "trusted": true
      },
      "outputs": [
        {
          "name": "stdout",
          "output_type": "stream",
          "text": "Running your submission against local test cases...\n\n"
        },
        {
          "ename": "<class 'OSError'>",
          "evalue": "[Errno 138] emscripten does not support processes.",
          "traceback": [
            "\u001b[0;31m---------------------------------------------------------------------------\u001b[0m",
            "\u001b[0;31mOSError\u001b[0m                                   Traceback (most recent call last)",
            "Cell \u001b[0;32mIn[36], line 2\u001b[0m\n\u001b[1;32m      1\u001b[0m \u001b[38;5;66;03m# Save your notebook first, then run this cell to export your submission.\u001b[39;00m\n\u001b[0;32m----> 2\u001b[0m \u001b[43mgrader\u001b[49m\u001b[38;5;241;43m.\u001b[39;49m\u001b[43mexport\u001b[49m\u001b[43m(\u001b[49m\u001b[43mpdf\u001b[49m\u001b[38;5;241;43m=\u001b[39;49m\u001b[38;5;28;43;01mFalse\u001b[39;49;00m\u001b[43m,\u001b[49m\u001b[43m \u001b[49m\u001b[43mrun_tests\u001b[49m\u001b[38;5;241;43m=\u001b[39;49m\u001b[38;5;28;43;01mTrue\u001b[39;49;00m\u001b[43m)\u001b[49m\n",
            "File \u001b[0;32m/lib/python3.12/site-packages/otter/check/utils.py:184\u001b[0m, in \u001b[0;36mgrading_mode_disabled\u001b[0;34m(wrapped, self, args, kwargs)\u001b[0m\n\u001b[1;32m    182\u001b[0m \u001b[38;5;28;01mif\u001b[39;00m \u001b[38;5;28mtype\u001b[39m(\u001b[38;5;28mself\u001b[39m)\u001b[38;5;241m.\u001b[39m_grading_mode:\n\u001b[1;32m    183\u001b[0m     \u001b[38;5;28;01mreturn\u001b[39;00m\n\u001b[0;32m--> 184\u001b[0m \u001b[38;5;28;01mreturn\u001b[39;00m \u001b[43mwrapped\u001b[49m\u001b[43m(\u001b[49m\u001b[38;5;241;43m*\u001b[39;49m\u001b[43margs\u001b[49m\u001b[43m,\u001b[49m\u001b[43m \u001b[49m\u001b[38;5;241;43m*\u001b[39;49m\u001b[38;5;241;43m*\u001b[39;49m\u001b[43mkwargs\u001b[49m\u001b[43m)\u001b[49m\n",
            "File \u001b[0;32m/lib/python3.12/site-packages/otter/check/utils.py:166\u001b[0m, in \u001b[0;36mincompatible_with.<locals>.incompatible\u001b[0;34m(wrapped, self, args, kwargs)\u001b[0m\n\u001b[1;32m    164\u001b[0m     \u001b[38;5;28;01melse\u001b[39;00m:\n\u001b[1;32m    165\u001b[0m         \u001b[38;5;28;01mreturn\u001b[39;00m\n\u001b[0;32m--> 166\u001b[0m \u001b[38;5;28;01mreturn\u001b[39;00m \u001b[43mwrapped\u001b[49m\u001b[43m(\u001b[49m\u001b[38;5;241;43m*\u001b[39;49m\u001b[43margs\u001b[49m\u001b[43m,\u001b[49m\u001b[43m \u001b[49m\u001b[38;5;241;43m*\u001b[39;49m\u001b[38;5;241;43m*\u001b[39;49m\u001b[43mkwargs\u001b[49m\u001b[43m)\u001b[49m\n",
            "File \u001b[0;32m/lib/python3.12/site-packages/otter/check/utils.py:217\u001b[0m, in \u001b[0;36mlogs_event.<locals>.event_logger\u001b[0;34m(wrapped, self, args, kwargs)\u001b[0m\n\u001b[1;32m    215\u001b[0m \u001b[38;5;28;01mexcept\u001b[39;00m \u001b[38;5;167;01mException\u001b[39;00m \u001b[38;5;28;01mas\u001b[39;00m e:\n\u001b[1;32m    216\u001b[0m     \u001b[38;5;28mself\u001b[39m\u001b[38;5;241m.\u001b[39m_log_event(event_type, success\u001b[38;5;241m=\u001b[39m\u001b[38;5;28;01mFalse\u001b[39;00m, error\u001b[38;5;241m=\u001b[39me)\n\u001b[0;32m--> 217\u001b[0m     \u001b[38;5;28;01mraise\u001b[39;00m e\n\u001b[1;32m    219\u001b[0m \u001b[38;5;28;01mif\u001b[39;00m ret \u001b[38;5;129;01mis\u001b[39;00m \u001b[38;5;28;01mNone\u001b[39;00m:\n\u001b[1;32m    220\u001b[0m     ret \u001b[38;5;241m=\u001b[39m LoggedEventReturnValue(\u001b[38;5;28;01mNone\u001b[39;00m)\n",
            "File \u001b[0;32m/lib/python3.12/site-packages/otter/check/utils.py:213\u001b[0m, in \u001b[0;36mlogs_event.<locals>.event_logger\u001b[0;34m(wrapped, self, args, kwargs)\u001b[0m\n\u001b[1;32m    208\u001b[0m \u001b[38;5;250m\u001b[39m\u001b[38;5;124;03m\"\"\"\u001b[39;00m\n\u001b[1;32m    209\u001b[0m \u001b[38;5;124;03mRuns a method, catching any errors and logging the call. Returns the unwrapped return value\u001b[39;00m\n\u001b[1;32m    210\u001b[0m \u001b[38;5;124;03mof the wrapped function.\u001b[39;00m\n\u001b[1;32m    211\u001b[0m \u001b[38;5;124;03m\"\"\"\u001b[39;00m\n\u001b[1;32m    212\u001b[0m \u001b[38;5;28;01mtry\u001b[39;00m:\n\u001b[0;32m--> 213\u001b[0m     ret: Optional[LoggedEventReturnValue[T]] \u001b[38;5;241m=\u001b[39m \u001b[43mwrapped\u001b[49m\u001b[43m(\u001b[49m\u001b[38;5;241;43m*\u001b[39;49m\u001b[43margs\u001b[49m\u001b[43m,\u001b[49m\u001b[43m \u001b[49m\u001b[38;5;241;43m*\u001b[39;49m\u001b[38;5;241;43m*\u001b[39;49m\u001b[43mkwargs\u001b[49m\u001b[43m)\u001b[49m\n\u001b[1;32m    215\u001b[0m \u001b[38;5;28;01mexcept\u001b[39;00m \u001b[38;5;167;01mException\u001b[39;00m \u001b[38;5;28;01mas\u001b[39;00m e:\n\u001b[1;32m    216\u001b[0m     \u001b[38;5;28mself\u001b[39m\u001b[38;5;241m.\u001b[39m_log_event(event_type, success\u001b[38;5;241m=\u001b[39m\u001b[38;5;28;01mFalse\u001b[39;00m, error\u001b[38;5;241m=\u001b[39me)\n",
            "File \u001b[0;32m/lib/python3.12/site-packages/otter/check/notebook.py:526\u001b[0m, in \u001b[0;36mNotebook.export\u001b[0;34m(self, nb_path, export_path, pdf, filtering, pagebreaks, files, display_link, force_save, run_tests)\u001b[0m\n\u001b[1;32m    524\u001b[0m     \u001b[38;5;28;01mif\u001b[39;00m pdf_error \u001b[38;5;129;01mis\u001b[39;00m \u001b[38;5;129;01mnot\u001b[39;00m \u001b[38;5;28;01mNone\u001b[39;00m:\n\u001b[1;32m    525\u001b[0m         \u001b[38;5;28;01mraise\u001b[39;00m pdf_error\n\u001b[0;32m--> 526\u001b[0m     \u001b[43mcontinue_export\u001b[49m\u001b[43m(\u001b[49m\u001b[43m)\u001b[49m\n\u001b[1;32m    527\u001b[0m \u001b[38;5;28;01melse\u001b[39;00m:\n\u001b[1;32m    528\u001b[0m     display_pdf_confirmation_widget(\n\u001b[1;32m    529\u001b[0m         \u001b[38;5;28mself\u001b[39m\u001b[38;5;241m.\u001b[39m_nbmeta_config\u001b[38;5;241m.\u001b[39mexport_pdf_failure_message, pdf_error, continue_export)\n",
            "File \u001b[0;32m/lib/python3.12/site-packages/otter/check/notebook.py:506\u001b[0m, in \u001b[0;36mNotebook.export.<locals>.continue_export\u001b[0;34m()\u001b[0m\n\u001b[1;32m    504\u001b[0m \u001b[38;5;28;01mif\u001b[39;00m run_tests:\n\u001b[1;32m    505\u001b[0m     \u001b[38;5;28mprint\u001b[39m(\u001b[38;5;124m\"\u001b[39m\u001b[38;5;124mRunning your submission against local test cases...\u001b[39m\u001b[38;5;130;01m\\n\u001b[39;00m\u001b[38;5;124m\"\u001b[39m)\n\u001b[0;32m--> 506\u001b[0m     results \u001b[38;5;241m=\u001b[39m \u001b[43mgrade_zip_file\u001b[49m\u001b[43m(\u001b[49m\u001b[43mzip_path\u001b[49m\u001b[43m,\u001b[49m\u001b[43m \u001b[49m\u001b[43mnb_path\u001b[49m\u001b[43m,\u001b[49m\u001b[43m \u001b[49m\u001b[38;5;28;43mself\u001b[39;49m\u001b[38;5;241;43m.\u001b[39;49m\u001b[43m_tests_dir\u001b[49m\u001b[43m)\u001b[49m\n\u001b[1;32m    507\u001b[0m     \u001b[38;5;28mprint\u001b[39m(\n\u001b[1;32m    508\u001b[0m         \u001b[38;5;124m\"\u001b[39m\u001b[38;5;124mYour submission received the following results when run against \u001b[39m\u001b[38;5;124m\"\u001b[39m \u001b[38;5;241m+\u001b[39m \\\n\u001b[1;32m    509\u001b[0m         \u001b[38;5;124m\"\u001b[39m\u001b[38;5;124mavailable test cases:\u001b[39m\u001b[38;5;130;01m\\n\u001b[39;00m\u001b[38;5;130;01m\\n\u001b[39;00m\u001b[38;5;124m\"\u001b[39m \u001b[38;5;241m+\u001b[39m indent(results\u001b[38;5;241m.\u001b[39msummary(), \u001b[38;5;124m\"\u001b[39m\u001b[38;5;124m    \u001b[39m\u001b[38;5;124m\"\u001b[39m))\n\u001b[1;32m    511\u001b[0m \u001b[38;5;28;01mif\u001b[39;00m display_link:\n\u001b[1;32m    512\u001b[0m     \u001b[38;5;66;03m# create and display output HTML\u001b[39;00m\n",
            "File \u001b[0;32m/lib/python3.12/site-packages/otter/check/utils.py:98\u001b[0m, in \u001b[0;36mgrade_zip_file\u001b[0;34m(zip_path, nb_arcname, tests_dir)\u001b[0m\n\u001b[1;32m     95\u001b[0m subprocess_env \u001b[38;5;241m=\u001b[39m {\u001b[38;5;241m*\u001b[39m\u001b[38;5;241m*\u001b[39mos\u001b[38;5;241m.\u001b[39menviron, \u001b[38;5;124m\"\u001b[39m\u001b[38;5;124mPYDEVD_DISABLE_FILE_VALIDATION\u001b[39m\u001b[38;5;124m\"\u001b[39m: \u001b[38;5;124m\"\u001b[39m\u001b[38;5;124m1\u001b[39m\u001b[38;5;124m\"\u001b[39m}\n\u001b[1;32m     97\u001b[0m \u001b[38;5;66;03m# run the command\u001b[39;00m\n\u001b[0;32m---> 98\u001b[0m results \u001b[38;5;241m=\u001b[39m \u001b[43mrun\u001b[49m\u001b[43m(\u001b[49m\u001b[43mcommand\u001b[49m\u001b[43m,\u001b[49m\u001b[43m \u001b[49m\u001b[43menv\u001b[49m\u001b[38;5;241;43m=\u001b[39;49m\u001b[43msubprocess_env\u001b[49m\u001b[43m,\u001b[49m\u001b[43m \u001b[49m\u001b[43mstdout\u001b[49m\u001b[38;5;241;43m=\u001b[39;49m\u001b[43mPIPE\u001b[49m\u001b[43m,\u001b[49m\u001b[43m \u001b[49m\u001b[43mstderr\u001b[49m\u001b[38;5;241;43m=\u001b[39;49m\u001b[43mPIPE\u001b[49m\u001b[43m)\u001b[49m\n\u001b[1;32m    100\u001b[0m \u001b[38;5;28mprint\u001b[39m(results\u001b[38;5;241m.\u001b[39mstdout\u001b[38;5;241m.\u001b[39mdecode(\u001b[38;5;124m\"\u001b[39m\u001b[38;5;124mutf-8\u001b[39m\u001b[38;5;124m\"\u001b[39m))\n\u001b[1;32m    102\u001b[0m \u001b[38;5;28;01mif\u001b[39;00m results\u001b[38;5;241m.\u001b[39mstderr:\n",
            "File \u001b[0;32m/lib/python312.zip/subprocess.py:548\u001b[0m, in \u001b[0;36mrun\u001b[0;34m(input, capture_output, timeout, check, *popenargs, **kwargs)\u001b[0m\n\u001b[1;32m    545\u001b[0m     kwargs[\u001b[38;5;124m'\u001b[39m\u001b[38;5;124mstdout\u001b[39m\u001b[38;5;124m'\u001b[39m] \u001b[38;5;241m=\u001b[39m PIPE\n\u001b[1;32m    546\u001b[0m     kwargs[\u001b[38;5;124m'\u001b[39m\u001b[38;5;124mstderr\u001b[39m\u001b[38;5;124m'\u001b[39m] \u001b[38;5;241m=\u001b[39m PIPE\n\u001b[0;32m--> 548\u001b[0m \u001b[38;5;28;01mwith\u001b[39;00m \u001b[43mPopen\u001b[49m\u001b[43m(\u001b[49m\u001b[38;5;241;43m*\u001b[39;49m\u001b[43mpopenargs\u001b[49m\u001b[43m,\u001b[49m\u001b[43m \u001b[49m\u001b[38;5;241;43m*\u001b[39;49m\u001b[38;5;241;43m*\u001b[39;49m\u001b[43mkwargs\u001b[49m\u001b[43m)\u001b[49m \u001b[38;5;28;01mas\u001b[39;00m process:\n\u001b[1;32m    549\u001b[0m     \u001b[38;5;28;01mtry\u001b[39;00m:\n\u001b[1;32m    550\u001b[0m         stdout, stderr \u001b[38;5;241m=\u001b[39m process\u001b[38;5;241m.\u001b[39mcommunicate(\u001b[38;5;28minput\u001b[39m, timeout\u001b[38;5;241m=\u001b[39mtimeout)\n",
            "File \u001b[0;32m/lib/python312.zip/subprocess.py:818\u001b[0m, in \u001b[0;36mPopen.__init__\u001b[0;34m(self, args, bufsize, executable, stdin, stdout, stderr, preexec_fn, close_fds, shell, cwd, env, universal_newlines, startupinfo, creationflags, restore_signals, start_new_session, pass_fds, user, group, extra_groups, encoding, errors, text, umask, pipesize, process_group)\u001b[0m\n\u001b[1;32m    816\u001b[0m \u001b[38;5;250m\u001b[39m\u001b[38;5;124;03m\"\"\"Create new Popen instance.\"\"\"\u001b[39;00m\n\u001b[1;32m    817\u001b[0m \u001b[38;5;28;01mif\u001b[39;00m \u001b[38;5;129;01mnot\u001b[39;00m _can_fork_exec:\n\u001b[0;32m--> 818\u001b[0m     \u001b[38;5;28;01mraise\u001b[39;00m \u001b[38;5;167;01mOSError\u001b[39;00m(\n\u001b[1;32m    819\u001b[0m         errno\u001b[38;5;241m.\u001b[39mENOTSUP, \u001b[38;5;124mf\u001b[39m\u001b[38;5;124m\"\u001b[39m\u001b[38;5;132;01m{\u001b[39;00msys\u001b[38;5;241m.\u001b[39mplatform\u001b[38;5;132;01m}\u001b[39;00m\u001b[38;5;124m does not support processes.\u001b[39m\u001b[38;5;124m\"\u001b[39m\n\u001b[1;32m    820\u001b[0m     )\n\u001b[1;32m    822\u001b[0m _cleanup()\n\u001b[1;32m    823\u001b[0m \u001b[38;5;66;03m# Held while anything is calling waitpid before returncode has been\u001b[39;00m\n\u001b[1;32m    824\u001b[0m \u001b[38;5;66;03m# updated to prevent clobbering returncode if wait() or poll() are\u001b[39;00m\n\u001b[1;32m    825\u001b[0m \u001b[38;5;66;03m# called from multiple threads at once.  After acquiring the lock,\u001b[39;00m\n\u001b[1;32m    826\u001b[0m \u001b[38;5;66;03m# code must re-check self.returncode to see if another thread just\u001b[39;00m\n\u001b[1;32m    827\u001b[0m \u001b[38;5;66;03m# finished a waitpid() call.\u001b[39;00m\n",
            "\u001b[0;31mOSError\u001b[0m: [Errno 138] emscripten does not support processes."
          ],
          "output_type": "error"
        }
      ],
      "execution_count": 36
    },
    {
      "id": "cell-lab07-44",
      "cell_type": "markdown",
      "source": " ",
      "metadata": {}
    }
  ]
}