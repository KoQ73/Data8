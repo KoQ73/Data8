{
  "metadata": {
    "kernelspec": {
      "name": "python",
      "display_name": "Python (Pyodide)",
      "language": "python"
    },
    "language_info": {
      "codemirror_mode": {
        "name": "python",
        "version": 3
      },
      "file_extension": ".py",
      "mimetype": "text/x-python",
      "name": "python",
      "nbconvert_exporter": "python",
      "pygments_lexer": "ipython3",
      "version": "3.8"
    },
    "otter": {
      "OK_FORMAT": true,
      "tests": {
        "q1_1": {
          "name": "q1_1",
          "points": [
            0,
            0
          ],
          "suites": [
            {
              "cases": [
                {
                  "code": ">>> b_pop.labels == ('time', 'population_total')\nTrue",
                  "hidden": false,
                  "locked": false
                },
                {
                  "code": ">>> all(b_pop.sort('time').column('time') == np.arange(1970, 2021))\nTrue",
                  "hidden": false,
                  "locked": false
                }
              ],
              "scored": true,
              "setup": "",
              "teardown": "",
              "type": "doctest"
            }
          ]
        },
        "q1_11": {
          "name": "q1_11",
          "points": [
            0,
            0,
            0,
            4
          ],
          "suites": [
            {
              "cases": [
                {
                  "code": ">>> t = stats_for_year(1990)\n>>> t.labels == ('geo', 'population_total', 'children_per_woman_total_fertility', 'child_mortality_under_5_per_1000_born')\nTrue",
                  "hidden": false,
                  "locked": false
                },
                {
                  "code": ">>> t = stats_for_year(1990)\n>>> t.num_rows\n50",
                  "hidden": false,
                  "locked": false
                },
                {
                  "code": ">>> print(stats_for_year(1960).sort('geo').take(np.arange(5, 50, 5)))\ngeo  | population_total | children_per_woman_total_fertility | child_mortality_under_5_per_1000_born\ncan  | 17847404         | 3.88                               | 32.6\ndza  | 11057864         | 7.52                               | 242.54\ngbr  | 52370595         | 2.69                               | 26.56\nirq  | 7289753          | 6.25                               | 191.93\nmar  | 12328532         | 7.04                               | 237.06\nnga  | 45138460         | 6.35                               | 339.85\npol  | 29614201         | 3.11                               | 65.03\ntur  | 27472339         | 6.37                               | 258.29\nuzb  | 8526299          | 6.26                               | 169.4\n",
                  "hidden": false,
                  "locked": false
                },
                {
                  "code": ">>> print(stats_for_year(2010).sort('geo').take(np.arange(3, 50, 5)))\ngeo  | population_total | children_per_woman_total_fertility | child_mortality_under_5_per_1000_born\nbgd  | 147575433        | 2.28                               | 49.1\ncol  | 45222699         | 2.01                               | 18.47\neth  | 87639962         | 4.92                               | 82.94\nind  | 1234281163       | 2.6                                | 58.23\nken  | 42030684         | 4.37                               | 56.54\nmoz  | 23531567         | 5.56                               | 104.53\nper  | 29027680         | 2.55                               | 20.13\nsdn  | 34545014         | 4.88                               | 75.92\nukr  | 45792086         | 1.45                               | 11.72\nyem  | 23154854         | 4.67                               | 55.96\n",
                  "hidden": false,
                  "locked": false
                }
              ],
              "scored": true,
              "setup": "",
              "teardown": "",
              "type": "doctest"
            }
          ]
        },
        "q1_12": {
          "name": "q1_12",
          "points": [
            0,
            0
          ],
          "suites": [
            {
              "cases": [
                {
                  "code": ">>> pop_by_decade.labels == ('decade', 'population')\nTrue",
                  "hidden": false,
                  "locked": false
                },
                {
                  "code": ">>> pop_by_decade.column(0).item(0) == 1960\nTrue",
                  "hidden": false,
                  "locked": false
                }
              ],
              "scored": true,
              "setup": "",
              "teardown": "",
              "type": "doctest"
            }
          ]
        },
        "q1_12_0": {
          "name": "q1_12_0",
          "points": [
            0,
            0,
            0,
            0
          ],
          "suites": [
            {
              "cases": [
                {
                  "code": ">>> pop_for_year(1972) == 3355562066\nTrue",
                  "hidden": false,
                  "locked": false
                },
                {
                  "code": ">>> pop_for_year(2020) == 6765161289\nTrue",
                  "hidden": false,
                  "locked": false
                },
                {
                  "code": ">>> pop_for_year(1989) == 4576679948\nTrue",
                  "hidden": false,
                  "locked": false
                },
                {
                  "code": ">>> pop_for_year(2002) == 5514129422\nTrue",
                  "hidden": false,
                  "locked": false
                }
              ],
              "scored": true,
              "setup": "",
              "teardown": "",
              "type": "doctest"
            }
          ]
        },
        "q1_13": {
          "name": "q1_13",
          "points": [
            0,
            0
          ],
          "suites": [
            {
              "cases": [
                {
                  "code": ">>> region_counts.labels == ('region', 'count')\nTrue",
                  "hidden": false,
                  "locked": false
                },
                {
                  "code": ">>> sum(region_counts.column('count')) == 50\nTrue",
                  "hidden": false,
                  "locked": false
                }
              ],
              "scored": true,
              "setup": "",
              "teardown": "",
              "type": "doctest"
            }
          ]
        },
        "q1_14": {
          "name": "q1_14",
          "points": [
            0
          ],
          "suites": [
            {
              "cases": [
                {
                  "code": ">>> all((x in range(1, 6) for x in set(scatter_statements)))\nTrue",
                  "hidden": false,
                  "locked": false
                }
              ],
              "scored": true,
              "setup": "",
              "teardown": "",
              "type": "doctest"
            }
          ]
        },
        "q1_2": {
          "name": "q1_2",
          "points": [
            0,
            0
          ],
          "suites": [
            {
              "cases": [
                {
                  "code": ">>> first = round(b_five_growth.sort(0).column(2).item(0), 8)\n>>> 0.005 <= first <= 0.5\nTrue",
                  "hidden": false,
                  "locked": false
                },
                {
                  "code": ">>> max(b_five_growth.column(2)) < 0.03\nTrue",
                  "hidden": false,
                  "locked": false
                }
              ],
              "scored": true,
              "setup": "",
              "teardown": "",
              "type": "doctest"
            }
          ]
        },
        "q1_5": {
          "name": "q1_5",
          "points": [
            0,
            0,
            0
          ],
          "suites": [
            {
              "cases": [
                {
                  "code": ">>> fertility_over_time('usa', 2010).labels == ('Year', 'Children per woman')\nTrue",
                  "hidden": false,
                  "locked": false
                },
                {
                  "code": ">>> all(fertility_over_time('usa', 2010).column('Year') == np.arange(2010, 2021))\nTrue",
                  "hidden": false,
                  "locked": false
                },
                {
                  "code": ">>> all(fertility_over_time('usa', 2005).column('Year') == np.arange(2005, 2021))\nTrue",
                  "hidden": false,
                  "locked": false
                }
              ],
              "scored": true,
              "setup": "",
              "teardown": "",
              "type": "doctest"
            }
          ]
        },
        "q1_7": {
          "name": "q1_7",
          "points": [
            0,
            0
          ],
          "suites": [
            {
              "cases": [
                {
                  "code": ">>> post_1969_fertility_and_child_mortality.num_rows\n51",
                  "hidden": false,
                  "locked": false
                },
                {
                  "code": ">>> all([label in post_1969_fertility_and_child_mortality.labels for label in ['Children per woman', 'Child deaths per 1000 born']])\nTrue",
                  "hidden": false,
                  "locked": false
                }
              ],
              "scored": true,
              "setup": "",
              "teardown": "",
              "type": "doctest"
            }
          ]
        },
        "q1_9": {
          "name": "q1_9",
          "points": [
            0
          ],
          "suites": [
            {
              "cases": [
                {
                  "code": ">>> all((x in range(1, 7) for x in set(fertility_statements)))\nTrue",
                  "hidden": false,
                  "locked": false
                }
              ],
              "scored": true,
              "setup": "",
              "teardown": "",
              "type": "doctest"
            }
          ]
        },
        "q2_1": {
          "name": "q2_1",
          "points": [
            0,
            0
          ],
          "suites": [
            {
              "cases": [
                {
                  "code": ">>> latest_poverty.labels == ('geo', 'time', 'poverty_percent')\nTrue",
                  "hidden": false,
                  "locked": false
                },
                {
                  "code": ">>> latest_poverty.num_rows\n145",
                  "hidden": false,
                  "locked": false
                }
              ],
              "scored": true,
              "setup": "",
              "teardown": "",
              "type": "doctest"
            }
          ]
        },
        "q2_2": {
          "name": "q2_2",
          "points": [
            0,
            0,
            0
          ],
          "suites": [
            {
              "cases": [
                {
                  "code": ">>> recent_poverty_total.labels == ('geo', 'poverty_percent', 'population_total', 'poverty_total')\nTrue",
                  "hidden": false,
                  "locked": false
                },
                {
                  "code": ">>> recent_poverty_total.where('geo', 'aus').column(2).item(0)\n22154687",
                  "hidden": false,
                  "locked": false
                },
                {
                  "code": ">>> float(recent_poverty_total.where('geo', 'aus').column(3).item(0))\n301304.0",
                  "hidden": false,
                  "locked": false
                }
              ],
              "scored": true,
              "setup": "",
              "teardown": "",
              "type": "doctest"
            }
          ]
        },
        "q2_3": {
          "name": "q2_3",
          "points": [
            0
          ],
          "suites": [
            {
              "cases": [
                {
                  "code": ">>> 10 <= poverty_percent <= 20\nTrue",
                  "hidden": false,
                  "locked": false
                }
              ],
              "scored": true,
              "setup": "",
              "teardown": "",
              "type": "doctest"
            }
          ]
        },
        "q2_4": {
          "name": "q2_4",
          "points": [
            0,
            0
          ],
          "suites": [
            {
              "cases": [
                {
                  "code": ">>> poverty_map.labels == ('latitude', 'longitude', 'name', 'region', 'poverty_total')\nTrue",
                  "hidden": false,
                  "locked": false
                },
                {
                  "code": ">>> list(np.sort(np.unique(poverty_map.column('region'))))\n['africa', 'americas', 'asia', 'europe']",
                  "hidden": false,
                  "locked": false
                }
              ],
              "scored": true,
              "setup": "",
              "teardown": "",
              "type": "doctest"
            }
          ]
        },
        "q2_5": {
          "name": "q2_5",
          "points": [
            0,
            0,
            0
          ],
          "suites": [
            {
              "cases": [
                {
                  "code": ">>> largest.labels == ('name', 'poverty_total')\nTrue",
                  "hidden": false,
                  "locked": false
                },
                {
                  "code": ">>> largest.column(0).item(0)\n'India'",
                  "hidden": false,
                  "locked": false
                },
                {
                  "code": ">>> largest.num_rows\n10",
                  "hidden": false,
                  "locked": false
                }
              ],
              "scored": true,
              "setup": "",
              "teardown": "",
              "type": "doctest"
            }
          ]
        }
      }
    }
  },
  "nbformat_minor": 5,
  "nbformat": 4,
  "cells": [
    {
      "id": "cell-project1-0",
      "cell_type": "code",
      "source": "# Initialize Otter\nimport otter\ngrader = otter.Notebook(\"project1.ipynb\")",
      "metadata": {
        "deletable": false,
        "editable": false
      },
      "outputs": [],
      "execution_count": null
    },
    {
      "id": "16ea2341-40df-4d19-9b90-71b3d01e9ef6",
      "cell_type": "code",
      "source": "# The pip install can take a minute\n%pip install -q urllib3<2.0 otter-grader==5.5.0 datascience ipywidgets\nimport pyodide_http\npyodide_http.patch_all()\n\nimport otter\ngrader = otter.Notebook(\"project1.ipynb\")",
      "metadata": {
        "trusted": true
      },
      "outputs": [],
      "execution_count": 2
    },
    {
      "id": "cell-project1-1",
      "cell_type": "markdown",
      "source": "# Project 1: World Progress",
      "metadata": {}
    },
    {
      "id": "cell-project1-2",
      "cell_type": "markdown",
      "source": "In this project, you'll explore data from [Gapminder.org](http://gapminder.org), a website dedicated to providing a fact-based view of the world and how it has changed. That site includes several data visualizations and presentations, but also publishes the raw data that we will use in this project to recreate and extend some of their most famous visualizations.\n\nThe Gapminder website collects data from many sources and compiles them into tables that describe many countries around the world. All of the data they aggregate are published in the [Systema Globalis](https://github.com/open-numbers/ddf--gapminder--systema_globalis/blob/master/README.md). Their goal is \"to compile all public statistics; Social, Economic and Environmental; into a comparable total dataset.\" All data sets in this project are copied directly from the Systema Globalis without any changes.\n\nThis project is dedicated to [Hans Rosling](https://en.wikipedia.org/wiki/Hans_Rosling) (1948-2017), who championed the use of data to understand and prioritize global development challenges.",
      "metadata": {}
    },
    {
      "id": "cell-project1-3",
      "cell_type": "markdown",
      "source": "### Logistics\n\n**Rules.** Don't share your code with anybody but your partner. You are welcome to discuss questions with other students, but don't share the answers. The experience of solving the problems in this project will prepare you for exams (and life). If someone asks you for the answer, resist! Instead, you can demonstrate how you would solve a similar problem.\n\n**Support.** You are not alone! Come to office hours and talk to your classmates. If you want to ask about the details of your solution to a problem, come see me. If you're ever feeling overwhelmed or don't know how to make progress, email for help.\n\n**Tests.** The tests that are given are **not comprehensive** and passing the tests for a question **does not** mean that you answered the question correctly. Tests usually only check that your table has the correct column labels. However, more tests will be applied to verify the correctness of your submission in order to assign your final score, so be careful and check your work! You might want to create your own checks along the way to see if your answers make sense. Additionally, before you submit, make sure that none of your cells take a very long time to run (several minutes).\n\n**Free Response Questions:** Make sure that you put the answers to the written questions in the indicated cell we provide. **Every free response question should include an explanation** that adequately answers the question.\n\n**Tabular Thinking Guide:** Feel free to reference [Tabular Thinking Guide](https://drive.google.com/file/d/1QolEBR9azk18R7U3Ls8IZKfwrMM7IxYN/view?usp=drive_link) for extra guidance.\n\n**Advice.** Develop your answers incrementally. To perform a complicated table manipulation, break it up into steps, perform each step on a different line, give a new name to each result, and check that each intermediate result is what you expect. You can add any additional names or functions you want to the provided cells. Make sure that you are using distinct and meaningful variable names throughout the notebook. Along that line, **DO NOT** reuse the variable names that we use when we grade your answers. For example, in Question 1 of the Global Poverty section we ask you to assign an answer to `latest`. Do not reassign the variable name `latest` to anything else in your notebook, otherwise there is the chance that our tests grade against what `latest` was reassigned to.\n\nYou **never** have to use just one line in this project or any others. Use intermediate variables and multiple lines as much as you would like!\n\n---\n\nTo get started, load `datascience`, `numpy`, `plots`, and `otter`.",
      "metadata": {}
    },
    {
      "id": "cell-project1-4",
      "cell_type": "code",
      "source": "# Run this cell to set up the notebook, but please don't change it.\n\n# These lines import the NumPy and Datascience modules.\nfrom datascience import *\nimport numpy as np\n\n# These lines do some fancy plotting magic.\n%matplotlib inline\nimport matplotlib.pyplot as plots\nplots.style.use('fivethirtyeight')\n\nfrom ipywidgets import interact, interactive, fixed, interact_manual\nimport ipywidgets as widgets\nimport signal\n\n# we need to run interact ipywidgets and also handle automatic grading\ndef alarm_handler(signum, frame):\n       raise Exception\ndef safe_interact(data, **kwargs):\n       signal.signal(signal.SIGALRM, alarm_handler)\n       signal.alarm(1)\n       try:\n           widgets.interact(data, **kwargs)\n       except Exception:\n           print(\"Timeout: interact function hung.\")\n       finally:\n           signal.alarm(0)",
      "metadata": {
        "deletable": false,
        "trusted": true
      },
      "outputs": [
        {
          "name": "stderr",
          "output_type": "stream",
          "text": "Matplotlib is building the font cache; this may take a moment.\n"
        }
      ],
      "execution_count": 3
    },
    {
      "id": "cell-project1-5",
      "cell_type": "markdown",
      "source": "## 1. Global Population Growth",
      "metadata": {
        "deletable": false,
        "editable": false
      }
    },
    {
      "id": "cell-project1-6",
      "cell_type": "markdown",
      "source": "The global population of humans reached 1 billion around 1800, 3 billion around 1960, and 7 billion around 2011. The potential impact of exponential population growth has concerned scientists, economists, and politicians alike.\n\nThe UN Population Division estimates that the world population will likely continue to grow throughout the 21st century, but at a slower rate, perhaps reaching 11 billion by 2100. However, the UN does not rule out scenarios of more extreme growth.\n\n<a href=\"http://www.pewresearch.org/fact-tank/2015/06/08/scientists-more-worried-than-public-about-worlds-growing-population/ft_15-06-04_popcount/\"> \n <img src=\"pew_population_projection.png\"/> \n</a>\n\nIn this part of the project, we will examine some of the factors that influence population growth and how they have been changing over the years and around the world. There are two main sub-parts of this analysis.\n\n- First, we will examine the data for one country, Bangladesh. We will see how factors such as life expectancy, fertility rate, and child mortality have changed over time in Bangladesh, and how they are related to the rate of population growth.\n- Next, we will examine whether the changes we have observed for Bangladesh are particular to that country or whether they reflect general patterns observable in other countries too. We will study aspects of world population growth and see how they have been changing.\n\nThe first table we will consider contains the total population of each country over time. Run the cell below.",
      "metadata": {
        "deletable": false,
        "editable": false
      }
    },
    {
      "id": "cell-project1-7",
      "cell_type": "code",
      "source": "population = Table.read_table('https://raw.githubusercontent.com/data-8/materials-fds/refs/heads/main/project/project1/population.csv').where(\"time\", are.below(2021))\npopulation.show(3)",
      "metadata": {
        "deletable": false,
        "scrolled": true,
        "trusted": true
      },
      "outputs": [
        {
          "output_type": "display_data",
          "data": {
            "text/plain": "<IPython.core.display.HTML object>",
            "text/html": "<table border=\"1\" class=\"dataframe\">\n    <thead>\n        <tr>\n            <th>geo</th> <th>time</th> <th>population_total</th>\n        </tr>\n    </thead>\n    <tbody>\n        <tr>\n            <td>afg </td> <td>1800</td> <td>3280000         </td>\n        </tr>\n        <tr>\n            <td>afg </td> <td>1801</td> <td>3280000         </td>\n        </tr>\n        <tr>\n            <td>afg </td> <td>1802</td> <td>3280000         </td>\n        </tr>\n    </tbody>\n</table>\n<p>... (43534 rows omitted)</p>"
          },
          "metadata": {}
        }
      ],
      "execution_count": 4
    },
    {
      "id": "cell-project1-8",
      "cell_type": "markdown",
      "source": "**Note:** The population csv file can also be found [here](https://github.com/open-numbers/ddf--gapminder--systema_globalis/blob/master/countries-etc-datapoints/ddf--datapoints--population_total--by--geo--time.csv). The data for this project was downloaded in February 2017. ",
      "metadata": {}
    },
    {
      "id": "cell-project1-9",
      "cell_type": "markdown",
      "source": "### Bangladesh\n\nThe nation of [Bangladesh](https://en.wikipedia.org/wiki/Bangladesh#People's_Republic_of_Bangladesh) was established as a parliamentary democracy after the Bangladesh Liberation War ended in 1971. The war-ravaged fledgling nation was almost immediately faced with floods and famine. In this section of the project, we will examine aspects of the development of Bangladesh since that time.\n\nIn the `population` table, the `geo` column contains three-letter codes established by the [International Organization for Standardization](https://en.wikipedia.org/wiki/International_Organization_for_Standardization) (ISO) in the [Alpha-3](https://en.wikipedia.org/wiki/ISO_3166-1_alpha-3#Current_codes) standard. We will begin by taking a close look at Bangladesh. Use the Alpha-3 link to find the 3-letter code for Bangladesh.",
      "metadata": {
        "deletable": false
      }
    },
    {
      "id": "cell-project1-10",
      "cell_type": "markdown",
      "source": "**Question 1.** Create a table called `b_pop` that has two columns labeled `time` and `population_total`. The first column should contain the years from 1970 through 2020 (including both 1970 and 2020) and the second should contain the population of Bangladesh in each of those years.\n",
      "metadata": {
        "deletable": false,
        "editable": false
      }
    },
    {
      "id": "cell-project1-11",
      "cell_type": "code",
      "source": "b_pop = (population\n         .where(\"geo\", \"bgd\")\n         .where(\"time\", are.between_or_equal_to(1970, 2020))\n         .drop(\"geo\")\n)\nb_pop",
      "metadata": {
        "deletable": false,
        "tags": [
          "otter_answer_cell"
        ],
        "trusted": true
      },
      "outputs": [
        {
          "execution_count": 6,
          "output_type": "execute_result",
          "data": {
            "text/plain": "time | population_total\n1970 | 64232486\n1971 | 65531635\n1972 | 66625706\n1973 | 67637541\n1974 | 68742222\n1975 | 70066310\n1976 | 71652386\n1977 | 73463593\n1978 | 75450033\n1979 | 77529040\n... (41 rows omitted)",
            "text/html": "<table border=\"1\" class=\"dataframe\">\n    <thead>\n        <tr>\n            <th>time</th> <th>population_total</th>\n        </tr>\n    </thead>\n    <tbody>\n        <tr>\n            <td>1970</td> <td>64232486        </td>\n        </tr>\n        <tr>\n            <td>1971</td> <td>65531635        </td>\n        </tr>\n        <tr>\n            <td>1972</td> <td>66625706        </td>\n        </tr>\n        <tr>\n            <td>1973</td> <td>67637541        </td>\n        </tr>\n        <tr>\n            <td>1974</td> <td>68742222        </td>\n        </tr>\n        <tr>\n            <td>1975</td> <td>70066310        </td>\n        </tr>\n        <tr>\n            <td>1976</td> <td>71652386        </td>\n        </tr>\n        <tr>\n            <td>1977</td> <td>73463593        </td>\n        </tr>\n        <tr>\n            <td>1978</td> <td>75450033        </td>\n        </tr>\n        <tr>\n            <td>1979</td> <td>77529040        </td>\n        </tr>\n    </tbody>\n</table>\n<p>... (41 rows omitted)</p>"
          },
          "metadata": {}
        }
      ],
      "execution_count": 6
    },
    {
      "id": "cell-project1-12",
      "cell_type": "code",
      "source": "grader.check(\"q1_1\")",
      "metadata": {
        "deletable": false,
        "editable": false,
        "trusted": true
      },
      "outputs": [
        {
          "execution_count": 7,
          "output_type": "execute_result",
          "data": {
            "text/plain": "q1_1 results: All test cases passed!",
            "text/html": "<p><strong><pre style='display: inline;'>q1_1</pre></strong> passed! 💯</p>"
          },
          "metadata": {}
        }
      ],
      "execution_count": 7
    },
    {
      "id": "cell-project1-13",
      "cell_type": "markdown",
      "source": "Run the following cell to create a table called `b_five` that has the population of Bangladesh every five years. At a glance, it appears that the population of Bangladesh has been growing quickly indeed!",
      "metadata": {
        "deletable": false
      }
    },
    {
      "id": "cell-project1-14",
      "cell_type": "code",
      "source": "b_pop.set_format('population_total', NumberFormatter)\n\nfives = np.arange(1970, 2021, 5) # 1970, 1975, 1980, ...\nb_five = b_pop.sort('time').where('time', are.contained_in(fives))\nb_five.show()",
      "metadata": {
        "deletable": false,
        "trusted": true
      },
      "outputs": [
        {
          "output_type": "display_data",
          "data": {
            "text/plain": "<IPython.core.display.HTML object>",
            "text/html": "<table border=\"1\" class=\"dataframe\">\n    <thead>\n        <tr>\n            <th>time</th> <th>population_total</th>\n        </tr>\n    </thead>\n    <tbody>\n        <tr>\n            <td>1970</td> <td>64,232,486      </td>\n        </tr>\n        <tr>\n            <td>1975</td> <td>70,066,310      </td>\n        </tr>\n        <tr>\n            <td>1980</td> <td>79,639,498      </td>\n        </tr>\n        <tr>\n            <td>1985</td> <td>90,764,180      </td>\n        </tr>\n        <tr>\n            <td>1990</td> <td>103,171,957     </td>\n        </tr>\n        <tr>\n            <td>1995</td> <td>115,169,933     </td>\n        </tr>\n        <tr>\n            <td>2000</td> <td>127,657,862     </td>\n        </tr>\n        <tr>\n            <td>2005</td> <td>139,035,505     </td>\n        </tr>\n        <tr>\n            <td>2010</td> <td>147,575,433     </td>\n        </tr>\n        <tr>\n            <td>2015</td> <td>156,256,287     </td>\n        </tr>\n        <tr>\n            <td>2020</td> <td>164,689,383     </td>\n        </tr>\n    </tbody>\n</table>"
          },
          "metadata": {}
        }
      ],
      "execution_count": 8
    },
    {
      "id": "cell-project1-15",
      "cell_type": "markdown",
      "source": "**Question 2.** Assign `initial` to an array that contains the population for every five year interval from 1970 to 2015 (inclusive). Then, assign `changed` to an array that contains the population for every five year interval from 1975 to 2020 (inclusive). The first array should include both 1970 and 2015, and the second array should include both 1975 and 2020. You should use the `b_five` table to create both arrays, by first filtering the table to only contain the relevant years.\n\nThe annual growth rate for a time period is equal to:\n\n$$\\left(\\left(\\frac{\\text{Population at end of period}}{\\text{Population at start of period}}\\right)^{\\displaystyle\\frac{1}{\\text{number of years}}}\\right) -1$$\n\nWe have provided the code below that uses  `initial` and `changed` in order to add a column to `b_five` called `annual_growth`. Don't worry about the calculation of the growth rates; run the test below to test your solution.\n\nIf you are interested in how we came up with the formula for growth rates, consult the [growth rates](https://inferentialthinking.com/chapters/03/2/1/Growth.html) section of the textbook.\n",
      "metadata": {
        "deletable": false,
        "editable": false
      }
    },
    {
      "id": "cell-project1-16",
      "cell_type": "code",
      "source": "initial = b_five.\nchanged = ...\n\nb_1970_through_2015 = b_five.where('time', are.below_or_equal_to(2015)) \nb_five_growth = b_1970_through_2015.with_column('annual_growth', (changed/initial)**0.2-1)\nb_five_growth.set_format('annual_growth', PercentFormatter)",
      "metadata": {
        "tags": [
          "otter_answer_cell"
        ]
      },
      "outputs": [],
      "execution_count": null
    },
    {
      "id": "cell-project1-17",
      "cell_type": "code",
      "source": "grader.check(\"q1_2\")",
      "metadata": {
        "deletable": false,
        "editable": false
      },
      "outputs": [],
      "execution_count": null
    },
    {
      "id": "cell-project1-18",
      "cell_type": "markdown",
      "source": "While the population has grown every five years since 1970, the annual growth rate decreased dramatically from 1985 to 2015. Let's look at some other information in order to develop a possible explanation. Run the next cell to load three additional tables of measurements about countries over time.",
      "metadata": {
        "deletable": false
      }
    },
    {
      "id": "cell-project1-19",
      "cell_type": "code",
      "source": "life_expectancy = Table.read_table('life_expectancy.csv').where('time', are.below(2021))\nchild_mortality = Table.read_table('child_mortality.csv').relabel(2, 'child_mortality_under_5_per_1000_born').where('time', are.below(2021))\nfertility = Table.read_table('fertility.csv').where('time', are.below(2021))",
      "metadata": {
        "deletable": false
      },
      "outputs": [],
      "execution_count": null
    },
    {
      "id": "cell-project1-20",
      "cell_type": "markdown",
      "source": "The `life_expectancy` table contains a statistic that is often used to measure how long people live, called *life expectancy at birth*. This number, for a country in a given year, [does not measure how long babies born in that year are expected to live](http://blogs.worldbank.org/opendata/what-does-life-expectancy-birth-really-mean). Instead, it measures how long someone would live, on average, if the *mortality conditions* in that year persisted throughout their lifetime. These \"mortality conditions\" describe what fraction of people at each age survived the year. So, it is a way of measuring the proportion of people that are staying alive, aggregated over different age groups in the population.",
      "metadata": {
        "deletable": false,
        "editable": false
      }
    },
    {
      "id": "cell-project1-21",
      "cell_type": "markdown",
      "source": "Run the following cells below to see `life_expectancy`, `child_mortality`, and `fertility`. Refer back to these tables as they will be helpful for answering further questions!",
      "metadata": {}
    },
    {
      "id": "cell-project1-22",
      "cell_type": "code",
      "source": "life_expectancy.show(3)",
      "metadata": {},
      "outputs": [],
      "execution_count": null
    },
    {
      "id": "cell-project1-23",
      "cell_type": "code",
      "source": "child_mortality.show(3)",
      "metadata": {},
      "outputs": [],
      "execution_count": null
    },
    {
      "id": "cell-project1-24",
      "cell_type": "code",
      "source": "fertility.show(3)",
      "metadata": {},
      "outputs": [],
      "execution_count": null
    },
    {
      "id": "cell-project1-25",
      "cell_type": "markdown",
      "source": "<!-- BEGIN QUESTION -->\n\n**Question 3.** Perhaps population is growing more slowly because people aren't living as long. Use the `life_expectancy` table to draw a line graph with the years 1970 and later on the horizontal axis that shows how the *life expectancy at birth* has changed in Bangladesh.\n",
      "metadata": {
        "deletable": false,
        "editable": false
      }
    },
    {
      "id": "cell-project1-26",
      "cell_type": "code",
      "source": "#Fill in code here\n...",
      "metadata": {
        "deletable": false,
        "manual_grade": true,
        "manual_problem_id": "global_pop_3",
        "tags": [
          "otter_answer_cell"
        ]
      },
      "outputs": [],
      "execution_count": null
    },
    {
      "id": "cell-project1-27",
      "cell_type": "markdown",
      "source": "<!-- END QUESTION -->\n\n<!-- BEGIN QUESTION -->\n\n**Question 4.** Assuming everything else stays the same, do the trends in life expectancy in the graph above directly explain why the population growth rate decreased from 1985 to 2015 in Bangladesh? Why or why not? \n\nHint: What happened in Bangladesh in 1991, and does that event explain the overall change in population growth rate? This [webpage](https://en.wikipedia.org/wiki/1991_Bangladesh_cyclone) provides relevant context.\n",
      "metadata": {
        "deletable": false,
        "editable": false
      }
    },
    {
      "id": "cell-project1-28",
      "cell_type": "markdown",
      "source": "_Type your answer here, replacing this text._",
      "metadata": {
        "tags": [
          "otter_answer_cell"
        ]
      }
    },
    {
      "id": "cell-project1-29",
      "cell_type": "markdown",
      "source": "<!-- END QUESTION -->\n\nThe `fertility` table contains a statistic that is often used to measure how many babies are being born, the *total fertility rate*. This number describes the [number of children a woman would have in her lifetime](https://www.measureevaluation.org/prh/rh_indicators/specific/fertility/total-fertility-rate), on average, if the current rates of birth by age of the mother persisted throughout her child bearing years, assuming she survived through age 49. ",
      "metadata": {
        "deletable": false,
        "editable": false
      }
    },
    {
      "id": "cell-project1-30",
      "cell_type": "markdown",
      "source": "**Question 5.** Complete the function `fertility_over_time`. It takes the Alpha-3 code of a country as `country_code` and a `start` year. It returns a two-column table with labels `Year` and `Children per woman` that can be used to generate a line chart of the country's fertility rate each year, starting at the `start` year. The plot should include the `start` year and all later years that appear in the `fertility` table. \n\nThen, determine the Alpha-3 code for Bangladesh. The code for Bangladesh and the year 1970 are used in the call to your `fertility_over_time` function in order to plot how Bangladesh's fertility rate has changed since 1970. Note that the function `fertility_over_time` should not return the plot itself. **The expression that draws the line plot is provided for you; please don't change it.**\n",
      "metadata": {
        "deletable": false,
        "editable": false
      }
    },
    {
      "id": "cell-project1-31",
      "cell_type": "code",
      "source": "def fertility_over_time(country_code, start):\n    \"\"\"Create a two-column table that describes a country's total fertility rate each year.\"\"\"\n    country_fertility = ...\n    country_fertility_after_start = ...\n    cleaned_table = ...\n    ...\n\nbangladesh_code = ...\nfertility_over_time(bangladesh_code, 1970).plot(0, 1) # You should *not* change this line.",
      "metadata": {
        "deletable": false,
        "tags": [
          "otter_answer_cell"
        ]
      },
      "outputs": [],
      "execution_count": null
    },
    {
      "id": "cell-project1-32",
      "cell_type": "code",
      "source": "grader.check(\"q1_5\")",
      "metadata": {
        "deletable": false,
        "editable": false
      },
      "outputs": [],
      "execution_count": null
    },
    {
      "id": "cell-project1-33",
      "cell_type": "markdown",
      "source": "<!-- BEGIN QUESTION -->\n\n**Question 6.** Assuming everything else is constant, do the trends in fertility in the graph above help directly explain why the population growth rate decreased from 1980 to 2020 in Bangladesh? Why or why not?\n",
      "metadata": {
        "deletable": false,
        "editable": false
      }
    },
    {
      "id": "cell-project1-34",
      "cell_type": "markdown",
      "source": "_Type your answer here, replacing this text._",
      "metadata": {
        "tags": [
          "otter_answer_cell"
        ]
      }
    },
    {
      "id": "cell-project1-35",
      "cell_type": "markdown",
      "source": "<!-- END QUESTION -->\n\nIt has been [observed](https://www.ageing.ox.ac.uk/download/143) that lower fertility rates are often associated with lower child mortality rates. The link has been attributed to family planning: if parents can expect that their children will all survive into adulthood, then they will choose to have fewer children. In the reverse direction, having fewer children may allow families to devote more resources to each child, reducing child mortality. We can see if this association is evident in Bangladesh by plotting the relationship between total fertility rate and [child mortality rate per 1000 children](https://en.wikipedia.org/wiki/Child_mortality).",
      "metadata": {
        "deletable": false,
        "editable": false
      }
    },
    {
      "id": "cell-project1-36",
      "cell_type": "markdown",
      "source": "**Question 7.** Using both the `fertility` and `child_mortality` tables, draw a scatter diagram that has Bangladesh's total fertility on the horizontal axis and its child mortality on the vertical axis with one point for each year, starting with 1970.\n\n**The code that draws the scatter diagram is provided for you; please don't change it.** Instead, create a table called `post_1969_fertility_and_child_mortality` with the appropriate column labels and data in order to generate the chart correctly. Use the label `Children per woman` to describe total fertility and the label `Child deaths per 1000 born` to describe child mortality.\n\n*Hint*: Do not drop the `time` column or you will get an error in the scatterplot in the next cell!\n",
      "metadata": {
        "deletable": false,
        "editable": false
      }
    },
    {
      "id": "cell-project1-37",
      "cell_type": "code",
      "source": "bgd_fertility = ...\nbgd_child_mortality = ...\nfertility_and_child_mortality = ...\npost_1969_fertility_and_child_mortality = ...\n\n# Don't change anything below this line!\nx_births = post_1969_fertility_and_child_mortality.column(\"Children per woman\")\ny_deaths = post_1969_fertility_and_child_mortality.column(\"Child deaths per 1000 born\")\ntime_colors = post_1969_fertility_and_child_mortality.column(\"time\")\n\nplots.figure(figsize=(6,6))\nplots.scatter(x_births, y_deaths, c=time_colors, cmap=\"Blues_r\")\nplots.colorbar()                  \nplots.xlabel(\"Children per woman\")\nplots.ylabel(\"Child deaths per 1000 born\");",
      "metadata": {
        "deletable": false,
        "tags": [
          "otter_answer_cell"
        ]
      },
      "outputs": [],
      "execution_count": null
    },
    {
      "id": "cell-project1-38",
      "cell_type": "code",
      "source": "grader.check(\"q1_7\")",
      "metadata": {
        "deletable": false,
        "editable": false
      },
      "outputs": [],
      "execution_count": null
    },
    {
      "id": "cell-project1-39",
      "cell_type": "markdown",
      "source": "The plot above uses **color** to encode data about the `time` column from the table `post_1969_fertility_and_child_mortality`. The colors, ranging from dark blue to white, represent the passing of time between the 1970s to the 2020s. For example, a point on the scatter plot representing data from the 1970s would appear as **dark blue** and a point from the 2010s would appear as **light blue**.\n",
      "metadata": {}
    },
    {
      "id": "cell-project1-40",
      "cell_type": "markdown",
      "source": "<!-- BEGIN QUESTION -->\n\n**Question 8.** In one or two sentences, describe the association (if any) that is illustrated by this scatter diagram. Does the diagram show that reduced child mortality *causes* parents to choose to have fewer children?\n",
      "metadata": {
        "deletable": false,
        "editable": false
      }
    },
    {
      "id": "cell-project1-41",
      "cell_type": "markdown",
      "source": "_Type your answer here, replacing this text._",
      "metadata": {
        "tags": [
          "otter_answer_cell"
        ]
      }
    },
    {
      "id": "cell-project1-42",
      "cell_type": "markdown",
      "source": "<!-- END QUESTION -->\n\n<img src=\"yoshi.jpg\" alt=\"drawing\" width=\"500\"/>\n\n**WOOOHOO Yoshi and friends want to congratulate you on getting this far!**\n\n",
      "metadata": {
        "deletable": false,
        "editable": false
      }
    },
    {
      "id": "cell-project1-43",
      "cell_type": "markdown",
      "source": "--- \n\nTo double check your work, the cell below will rerun all of the autograder tests for Section 1. ",
      "metadata": {}
    },
    {
      "id": "cell-project1-44",
      "cell_type": "code",
      "source": "try:\n    checkpoint_tests = [\"q1_1\", \"q1_2\", \"q1_5\", \"q1_7\"]\n    for test in checkpoint_tests:\n        display(grader.check(test))\nexcept:\n    print(\"This works for students not in the development notebook\")",
      "metadata": {},
      "outputs": [],
      "execution_count": null
    },
    {
      "id": "cell-project1-45",
      "cell_type": "markdown",
      "source": "## Submission\nIf your instructor would like you to submit the work in part one as a checkpoint to the project, follow the instructions below.\n\nMake sure you have run all cells in your notebook in order before running the cell below, so that all images/graphs appear in the output. The cell below will generate a zip file for you to submit. **Please save before exporting!**",
      "metadata": {}
    },
    {
      "id": "cell-project1-46",
      "cell_type": "code",
      "source": "# Save your notebook first, then run this cell to export your submission.\ngrader.export(pdf=False)",
      "metadata": {},
      "outputs": [],
      "execution_count": null
    },
    {
      "id": "cell-project1-47",
      "cell_type": "markdown",
      "source": "### The World\n\nThe change observed in Bangladesh since 1970 can also be observed in many other developing countries: health services improve, life expectancy increases, and child mortality decreases. At the same time, the fertility rate often plummets, and so the population growth rate decreases despite increasing longevity.",
      "metadata": {
        "deletable": false
      }
    },
    {
      "id": "cell-project1-48",
      "cell_type": "markdown",
      "source": "Run the cell below to generate two overlaid histograms, one for 1962 and one for 2010, that show the distributions of total fertility rates for these two years among all 201 countries in the `fertility` table.",
      "metadata": {
        "deletable": false
      }
    },
    {
      "id": "cell-project1-49",
      "cell_type": "code",
      "source": "Table().with_columns(\n    '1962', fertility.where('time', 1962).column(2),\n    '2010', fertility.where('time', 2010).column(2)\n).hist(bins=np.arange(0, 10, 0.5), unit='child per woman')\n_ = plots.xlabel('Children per woman')\n_ = plots.ylabel('Percent per children per woman')\n_ = plots.xticks(np.arange(10))",
      "metadata": {
        "deletable": false
      },
      "outputs": [],
      "execution_count": null
    },
    {
      "id": "cell-project1-50",
      "cell_type": "markdown",
      "source": "**Question 9.** Assign `fertility_statements` to an array of the numbers of each statement below that can be correctly inferred from these histograms.\n\n1. About the same number of countries had a fertility rate between 3.5 and 4.5 in both 1962 and 2010.\n1. In 1962, less than 20% of countries had a fertility rate below 3.\n1. At least half of countries had a fertility rate between 5 and 8 in 1962.\n1. In 2010, about 40% of countries had a fertility rate between 1.5 and 2.\n1. At least half of countries had a fertility rate below 3 in 2010.\n1. More countries had a fertility rate above 3 in 1962 than in 2010.\n",
      "metadata": {
        "deletable": false,
        "editable": false
      }
    },
    {
      "id": "cell-project1-51",
      "cell_type": "code",
      "source": "fertility_statements = ...",
      "metadata": {
        "deletable": false,
        "tags": [
          "otter_answer_cell"
        ]
      },
      "outputs": [],
      "execution_count": null
    },
    {
      "id": "cell-project1-52",
      "cell_type": "code",
      "source": "grader.check(\"q1_9\")",
      "metadata": {
        "deletable": false,
        "editable": false
      },
      "outputs": [],
      "execution_count": null
    },
    {
      "id": "cell-project1-53",
      "cell_type": "markdown",
      "source": "<!-- BEGIN QUESTION -->\n\n**Question 10.** Draw a line plot of the world population from 1800 through 2020 (inclusive of both endpoints). The world population is the sum of all of the countries' populations. You should use the `population` table defined earlier in the project. \n",
      "metadata": {
        "deletable": false,
        "editable": false
      }
    },
    {
      "id": "cell-project1-54",
      "cell_type": "code",
      "source": "#Fill in code here\n...",
      "metadata": {
        "deletable": false,
        "manual_grade": true,
        "manual_problem_id": "global_pop_10",
        "tags": [
          "otter_answer_cell"
        ]
      },
      "outputs": [],
      "execution_count": null
    },
    {
      "id": "cell-project1-55",
      "cell_type": "markdown",
      "source": "<!-- END QUESTION -->\n\n**Question 11.** Create a function `stats_for_year` that takes a `year` and returns a table of statistics. The table it returns should have four columns: `geo`, `population_total`, `children_per_woman_total_fertility`, and `child_mortality_under_5_per_1000_born`. Each row should contain one unique Alpha-3 country code and three statistics: population, fertility rate, and child mortality for that `year` from the `population`, `fertility` and `child_mortality` tables. Only include rows for which all three statistics are available for the country and year.\n\nIn addition, restrict the result to country codes that appears in `big_50`, an array of the 50 most populous countries in 2020. This restriction will speed up computations later in the project.\n\nAfter you write `stats_for_year`, try calling `stats_for_year` on any year between 1960 and 2020. Try to understand the output of stats_for_year.\n\n*Hint*: The tests for this question are quite comprehensive, so if you pass the tests, your function is probably correct. However, without calling your function yourself and looking at the output, it will be very difficult to understand any problems you have, so try your best to write the function correctly and check that it works before you rely on the `grader` tests to confirm your work.\n\n*Hint*: What do all three tables have in common (pay attention to column names)?\n",
      "metadata": {
        "deletable": false,
        "editable": false
      }
    },
    {
      "id": "cell-project1-56",
      "cell_type": "code",
      "source": "# We first create a population table that only includes the \n# 50 countries with the largest 2020 populations. We focus on \n# these 50 countries only so that plotting later will run faster.\nbig_50 = population.where('time', are.equal_to(2020)).sort(\"population_total\", descending=True).take(np.arange(50)).column('geo')\npopulation_of_big_50 = population.where('time', are.above(1959)).where('geo', are.contained_in(big_50))\n\ndef stats_for_year(year):\n    \"\"\"Return a table of the stats for each country that year.\"\"\"\n    p = population_of_big_50.where('time', are.equal_to(year)).drop('time')\n    f = fertility.where('time', are.equal_to(year)).drop('time')\n    c = child_mortality.where('time', are.equal_to(year)).drop('time')\n    ...\n\n...",
      "metadata": {
        "deletable": false,
        "tags": [
          "otter_answer_cell"
        ]
      },
      "outputs": [],
      "execution_count": null
    },
    {
      "id": "cell-project1-57",
      "cell_type": "code",
      "source": "grader.check(\"q1_11\")",
      "metadata": {
        "deletable": false,
        "editable": false
      },
      "outputs": [],
      "execution_count": null
    },
    {
      "id": "cell-project1-58",
      "cell_type": "markdown",
      "source": "**Question 12.** Create a table called `pop_by_decade` with two columns called `decade` and `population`, in this order. It has a row for each year that starts a decade, in increasing order starting with 1960 and ending with 2020. For example, 1960 is the start of the 1960's decade. The `population` column contains the total population of all countries included in the result of `stats_for_year(year)` for the first `year` of the decade. You should see that these countries contain most of the world's population.\n\n*Hint:* One approach is to define a function `pop_for_year` that computes this total population, then `apply` it to the `decade` column.  The `stats_for_year` function from the previous question may be useful here.\n\nThis first test is just a sanity check for your helper function if you choose to use it. You will not lose points for not implementing the function `pop_for_year`.\n\n**Note:** The cell where you will generate the `pop_by_decade` table is below the cell where you can choose to define the helper function `pop_for_year`. You should define your `pop_by_decade` table in the cell that starts with the table `decades` being defined. \n",
      "metadata": {
        "deletable": false,
        "editable": false
      }
    },
    {
      "id": "cell-project1-59",
      "cell_type": "code",
      "source": "def pop_for_year(year):\n    \"\"\"Return the total population for the specified year.\"\"\"\n    ...",
      "metadata": {
        "tags": [
          "otter_answer_cell"
        ]
      },
      "outputs": [],
      "execution_count": null
    },
    {
      "id": "cell-project1-60",
      "cell_type": "code",
      "source": "grader.check(\"q1_12_0\")",
      "metadata": {
        "deletable": false,
        "editable": false
      },
      "outputs": [],
      "execution_count": null
    },
    {
      "id": "cell-project1-61",
      "cell_type": "markdown",
      "source": "Now that you've defined your helper function (if you've chosen to do so), define the `pop_by_decade` table.\n",
      "metadata": {
        "deletable": false,
        "editable": false
      }
    },
    {
      "id": "cell-project1-62",
      "cell_type": "code",
      "source": "decades = Table().with_column('decade', np.arange(1960, 2021, 10))\n\npop_by_decade = ...\npop_by_decade.set_format(1, NumberFormatter)",
      "metadata": {
        "deletable": false,
        "tags": [
          "otter_answer_cell"
        ]
      },
      "outputs": [],
      "execution_count": null
    },
    {
      "id": "cell-project1-63",
      "cell_type": "code",
      "source": "grader.check(\"q1_12\")",
      "metadata": {
        "deletable": false,
        "editable": false
      },
      "outputs": [],
      "execution_count": null
    },
    {
      "id": "cell-project1-64",
      "cell_type": "markdown",
      "source": "The `countries` table describes various characteristics of countries. The `country` column contains the same codes as the `geo` column in each of the other data tables (`population`, `fertility`, and `child_mortality`). The `world_6region` column classifies each country into a region of the world. Run the cell below to inspect the data.",
      "metadata": {
        "deletable": false,
        "editable": false
      }
    },
    {
      "id": "cell-project1-65",
      "cell_type": "code",
      "source": "countries = Table.read_table('countries.csv').where('country', are.contained_in(population.group('geo').column('geo')))\ncountries.select('country', 'name', 'world_6region')",
      "metadata": {},
      "outputs": [],
      "execution_count": null
    },
    {
      "id": "cell-project1-66",
      "cell_type": "markdown",
      "source": "**Question 13.** Create a table called `region_counts`. It should contain two columns called `region` and `count`. The `region` column should contain regions of the world, and the `count` column should contain the number of countries in each region that appears in the result of `stats_for_year(2020)`. \n\nFor example, one row would have `south_asia` as its `region` value and an integer as its `count` value: the number of large South Asian countries for which we have population, fertility, and child mortality numbers from 2020.\n\n*Hint*: You may have to relabel a column to name it `region`. \n",
      "metadata": {
        "deletable": false,
        "editable": false
      }
    },
    {
      "id": "cell-project1-67",
      "cell_type": "code",
      "source": "stats_for_2020 = ...\nregion_counts = ...\nregion_counts",
      "metadata": {
        "deletable": false,
        "tags": [
          "otter_answer_cell"
        ]
      },
      "outputs": [],
      "execution_count": null
    },
    {
      "id": "cell-project1-68",
      "cell_type": "code",
      "source": "grader.check(\"q1_13\")",
      "metadata": {
        "deletable": false,
        "editable": false
      },
      "outputs": [],
      "execution_count": null
    },
    {
      "id": "cell-project1-69",
      "cell_type": "markdown",
      "source": "The following scatter diagram compares total fertility rate and child mortality rate for each country in 1960. The area of each dot represents the population of the country, and the color represents its region of the world. Run the cell. Do you think you can identify any of the dots?",
      "metadata": {
        "deletable": false
      }
    },
    {
      "id": "cell-project1-70",
      "cell_type": "code",
      "source": "from functools import lru_cache as cache\n\n# This cache annotation makes sure that if the same year\n# is passed as an argument twice, the work of computing\n# the result is only carried out once.\n@cache(None)\ndef stats_relabeled(year):\n    \"\"\"Relabeled and cached version of stats_for_year.\"\"\"\n    return stats_for_year(year).relabel(2, 'Children per woman').relabel(3, 'Child deaths per 1000 born')\n\ndef fertility_vs_child_mortality(year):\n    \"\"\"Draw a color scatter diagram comparing child mortality and fertility.\"\"\"\n    with_region = stats_relabeled(year).join('geo', countries.select('country', 'world_6region'), 'country')\n    with_region.scatter(2, 3, sizes=1, group=4, s=500)\n    plots.xlim(0,10)\n    plots.ylim(-50, 500)\n    plots.title(year)\n    plots.show()\n\nfertility_vs_child_mortality(1960)",
      "metadata": {
        "deletable": false
      },
      "outputs": [],
      "execution_count": null
    },
    {
      "id": "cell-project1-71",
      "cell_type": "markdown",
      "source": "**Question 14.** Assign `scatter_statements` to an array of the numbers of each statement below that can be inferred from this scatter diagram for 1960. \n1. As a whole, the `europe_central_asia` region had the lowest child mortality rate.\n1. The lowest child mortality rate of any country was from an `east_asia_pacific` country.\n1. Most countries had a fertility rate above 5.\n1. There was an association between child mortality and fertility.\n1. The two largest countries by population also had the two highest child mortality rates.\n",
      "metadata": {
        "deletable": false,
        "editable": false
      }
    },
    {
      "id": "cell-project1-72",
      "cell_type": "code",
      "source": "scatter_statements = ...",
      "metadata": {
        "deletable": false,
        "tags": [
          "otter_answer_cell"
        ]
      },
      "outputs": [],
      "execution_count": null
    },
    {
      "id": "cell-project1-73",
      "cell_type": "code",
      "source": "grader.check(\"q1_14\")",
      "metadata": {
        "deletable": false,
        "editable": false
      },
      "outputs": [],
      "execution_count": null
    },
    {
      "id": "cell-project1-74",
      "cell_type": "markdown",
      "source": "The result of the cell below is interactive. Drag the slider to the right to see how countries have changed over time. You'll find that the great divide between so-called \"Western\" and \"developing\" countries that existed in the 1960's has nearly disappeared. This shift in fertility rates is the reason that the global population is expected to grow more slowly in the 21st century than it did in the 19th and 20th centuries.\n\n**Note:** Don't worry if a red warning pops up when running the cell below. You'll still be able to run the cell!",
      "metadata": {
        "deletable": false
      }
    },
    {
      "id": "cell-project1-75",
      "cell_type": "code",
      "source": "safe_interact(fertility_vs_child_mortality, year=widgets.IntSlider(min=1960, max=2020, value=1960))",
      "metadata": {
        "deletable": false,
        "scrolled": true
      },
      "outputs": [],
      "execution_count": null
    },
    {
      "id": "cell-project1-76",
      "cell_type": "markdown",
      "source": "Now is a great time to take a break and watch the same data presented by [Hans Rosling in a 2010 TEDx talk](https://www.gapminder.org/videos/reducing-child-mortality-a-moral-and-environmental-imperative) with smoother animation and witty commentary.",
      "metadata": {
        "deletable": false,
        "editable": false
      }
    },
    {
      "id": "cell-project1-77",
      "cell_type": "markdown",
      "source": "## 2. Global Poverty",
      "metadata": {
        "deletable": false
      }
    },
    {
      "id": "cell-project1-78",
      "cell_type": "code",
      "source": "# Run this cell to set up the notebook, but please don't change it.\n\n# These lines import the Numpy and Datascience modules.\nimport numpy as np\nfrom datascience import *\n\n# These lines do some fancy plotting magic.\nimport matplotlib\n%matplotlib inline\nimport matplotlib.pyplot as plots\nplots.style.use('fivethirtyeight')\n\nfrom ipywidgets import interact, interactive, fixed, interact_manual\nimport ipywidgets as widgets\n",
      "metadata": {},
      "outputs": [],
      "execution_count": null
    },
    {
      "id": "cell-project1-79",
      "cell_type": "markdown",
      "source": "In 1800, 85% of the world's 1 billion people lived in [extreme poverty](https://en.wikipedia.org/wiki/Extreme_poverty), defined by the United Nations as \"a condition characterized by severe deprivation of basic human needs, including food, safe drinking water, sanitation facilities, health, shelter, education and information.\" At the time when the data in this project were gathered, a common definition of extreme poverty was a person living on less than \\$1.25 a day.\n\nIn 2018, the proportion of people living in extreme poverty was estimated to be [about 9\\%](https://unstats.un.org/sdgs/report/2019/goal-01/). Although the world rate of extreme poverty has declined consistently for hundreds of years, the number of people living in extreme poverty is still over 600 million. The United Nations adopted an [ambitious goal](http://www.un.org/sustainabledevelopment/poverty/): \"By 2030, eradicate extreme poverty for all people everywhere.\" In this part of the project we will examine aspects of global poverty that might affect whether the goal is achievable.",
      "metadata": {
        "deletable": false
      }
    },
    {
      "id": "cell-project1-80",
      "cell_type": "markdown",
      "source": "First, load the population and poverty rate by country and year and the country descriptions. While the `population` table has values for every recent year for many countries, the `poverty` table only includes certain years for each country in which a measurement of the rate of extreme poverty was available.",
      "metadata": {
        "deletable": false,
        "editable": false
      }
    },
    {
      "id": "cell-project1-81",
      "cell_type": "code",
      "source": "population = Table.read_table('population.csv')\ncountries = Table.read_table('countries.csv').where('country', are.contained_in(population.group('geo').column('geo')))\npoverty = Table.read_table('poverty.csv')\npoverty.show(3)",
      "metadata": {},
      "outputs": [],
      "execution_count": null
    },
    {
      "id": "cell-project1-82",
      "cell_type": "markdown",
      "source": "**Question 1.** Assign `latest_poverty` to a three-column table with one row for each country that appears in the `poverty` table. The first column should contain the 3-letter code for the country. The second column should contain the most recent year for which an extreme poverty rate is available for the country. The third column should contain the poverty rate in that year. **Do not change the last line, so that the labels of your table are set correctly.**\n\n*Hint*: think about how ```group``` works: it does a sequential search of the table (from top to bottom) and collects values in the array in the order in which they appear, and then applies a function to that array. The `first` function may be helpful, but you are not required to use it.\n",
      "metadata": {
        "deletable": false,
        "editable": false
      }
    },
    {
      "id": "cell-project1-83",
      "cell_type": "code",
      "source": "def first(values):\n    return values.item(0)\n\nlatest_poverty = ...\nlatest_poverty = latest_poverty.relabeled(0, 'geo').relabeled(1, 'time').relabeled(2, 'poverty_percent') # You should *not* change this line.\nlatest_poverty",
      "metadata": {
        "deletable": false,
        "tags": [
          "otter_answer_cell"
        ]
      },
      "outputs": [],
      "execution_count": null
    },
    {
      "id": "cell-project1-84",
      "cell_type": "code",
      "source": "grader.check(\"q2_1\")",
      "metadata": {
        "deletable": false,
        "editable": false
      },
      "outputs": [],
      "execution_count": null
    },
    {
      "id": "cell-project1-85",
      "cell_type": "markdown",
      "source": "**Question 2.** Using both `latest_poverty` and `population`, create a four-column table called `recent_poverty_total` with one row for each country in `latest_poverty`. The four columns should have the following labels and contents:\n1. `geo` contains the 3-letter country code,\n1. `poverty_percent` contains the most recent poverty percent,\n1. `population_total` contains the population of the country in 2010,\n1. `poverty_total` contains the number of people in poverty **rounded to the nearest integer**, based on the 2010 population and most recent poverty rate.\n\n*Hint*: You are not required to use `poverty_and_pop`, and you are always welcome to add any additional names. ",
      "metadata": {
        "deletable": false,
        "editable": false
      }
    },
    {
      "id": "cell-project1-86",
      "cell_type": "code",
      "source": "poverty_and_pop = ...\nrecent_poverty_total = ...\nrecent_poverty_total",
      "metadata": {
        "deletable": false,
        "tags": [
          "otter_answer_cell"
        ]
      },
      "outputs": [],
      "execution_count": null
    },
    {
      "id": "cell-project1-87",
      "cell_type": "code",
      "source": "grader.check(\"q2_2\")",
      "metadata": {
        "deletable": false,
        "editable": false
      },
      "outputs": [],
      "execution_count": null
    },
    {
      "id": "cell-project1-88",
      "cell_type": "markdown",
      "source": "**Question 3.** Assign the name `poverty_percent` to the known percentage of the world’s 2010 population that were living in extreme poverty. Assume that the `poverty_total` numbers in the `recent_poverty_total` table describe **all** people in 2010 living in extreme poverty. You should get a number that is above the 2018 global estimate of 9%, since many country-specific poverty rates are older than 2018.\n\n*Hint*: The sum of the `population_total` column in the `recent_poverty_total` table is not the world population, because only a subset of the world's countries are included in the `recent_poverty_total` table (only some countries have known poverty rates). Use the `population` table to compute the world's 2010 total population.\n\n*Hint*: We are computing a percentage (value between 0 and 100), not a proportion (value between 0 and 1).\n",
      "metadata": {
        "deletable": false,
        "editable": false
      }
    },
    {
      "id": "cell-project1-89",
      "cell_type": "code",
      "source": "poverty_percent = ...\npoverty_percent",
      "metadata": {
        "deletable": false,
        "tags": [
          "otter_answer_cell"
        ]
      },
      "outputs": [],
      "execution_count": null
    },
    {
      "id": "cell-project1-90",
      "cell_type": "code",
      "source": "grader.check(\"q2_3\")",
      "metadata": {
        "deletable": false,
        "editable": false
      },
      "outputs": [],
      "execution_count": null
    },
    {
      "id": "cell-project1-91",
      "cell_type": "markdown",
      "source": "The `countries` table includes not only the name and region of countries, but also their positions on the globe.",
      "metadata": {
        "deletable": false,
        "editable": false
      }
    },
    {
      "id": "cell-project1-92",
      "cell_type": "code",
      "source": "countries.select('country', 'name', 'world_4region', 'latitude', 'longitude')",
      "metadata": {
        "deletable": false,
        "editable": false
      },
      "outputs": [],
      "execution_count": null
    },
    {
      "id": "cell-project1-93",
      "cell_type": "markdown",
      "source": "**Question 4.** Using both `countries` and `recent_poverty_total`, create a five-column table called `poverty_map` with one row for every country in `recent_poverty_total`.  The five columns should have the following labels and contents:\n1. `latitude` contains the country's latitude,\n1. `longitude` contains the country's longitude,\n1. `name` contains the country's name,\n1. `region` contains the country's region from the `world_4region` column of `countries`,\n1. `poverty_total` contains the country's poverty total.\n",
      "metadata": {
        "deletable": false,
        "editable": false
      }
    },
    {
      "id": "cell-project1-94",
      "cell_type": "code",
      "source": "poverty_map = ...\npoverty_map",
      "metadata": {
        "deletable": false,
        "tags": [
          "otter_answer_cell"
        ]
      },
      "outputs": [],
      "execution_count": null
    },
    {
      "id": "cell-project1-95",
      "cell_type": "code",
      "source": "grader.check(\"q2_4\")",
      "metadata": {
        "deletable": false,
        "editable": false
      },
      "outputs": [],
      "execution_count": null
    },
    {
      "id": "cell-project1-96",
      "cell_type": "markdown",
      "source": "Run the cell below to draw a map of the world in which the areas of circles represent the number of people living in extreme poverty. Double-click on the map to zoom in.",
      "metadata": {
        "deletable": false,
        "editable": false
      }
    },
    {
      "id": "cell-project1-97",
      "cell_type": "code",
      "source": "# It may take a few seconds to generate this map.\ncolors = {'africa': 'blue', 'europe': 'black', 'asia': 'red', 'americas': 'green'}\nscaled = poverty_map.with_columns(\n    'labels', poverty_map.column('name'),\n    'colors', poverty_map.apply(colors.get, 'region'),\n    'areas', 1e-4 * poverty_map.column('poverty_total')\n).drop('name', 'region', 'poverty_total')\n\nCircle.map_table(scaled)",
      "metadata": {
        "deletable": false,
        "editable": false,
        "scrolled": true,
        "tags": [
          "otter_ingnore"
        ]
      },
      "outputs": [],
      "execution_count": null
    },
    {
      "id": "cell-project1-98",
      "cell_type": "markdown",
      "source": "Although people lived in extreme poverty throughout the world in 2010 (with more than 5 million in the United States), the largest numbers were in Asia and Africa.",
      "metadata": {
        "deletable": false,
        "editable": false
      }
    },
    {
      "id": "cell-project1-99",
      "cell_type": "markdown",
      "source": "**Question 5.** Assign `largest` to a two-column table with the `name` (not the 3-letter code) and `poverty_total` of the 10 countries with the largest number of people living in extreme poverty.\n\n*Hint*: How can we use `take` and `np.arange` in conjunction with each other?\n",
      "metadata": {
        "deletable": false,
        "editable": false
      }
    },
    {
      "id": "cell-project1-100",
      "cell_type": "code",
      "source": "largest = ...\nlargest.set_format('poverty_total', NumberFormatter)",
      "metadata": {
        "deletable": false,
        "tags": [
          "otter_answer_cell"
        ]
      },
      "outputs": [],
      "execution_count": null
    },
    {
      "id": "cell-project1-101",
      "cell_type": "code",
      "source": "grader.check(\"q2_5\")",
      "metadata": {
        "deletable": false,
        "editable": false
      },
      "outputs": [],
      "execution_count": null
    },
    {
      "id": "cell-project1-102",
      "cell_type": "markdown",
      "source": "<!-- BEGIN QUESTION -->\n\n**Question 6.** It is important to study the absolute number of people living in poverty, not just the percent. The absolute number is an important factor in determining the amount of resources needed to support people living in poverty. In the next two questions you will explore this.\n\nIn Question 7, you will be asked to write a function called `poverty_timeline` that takes **the name of a country** as its argument  (not the Alpha-3 country code). It should draw a line plot of the number of people living in poverty in that country with time on the horizontal axis. The line plot should have a point for each row in the `poverty` table for that country. To compute the population living in poverty from a poverty percentage, multiply by the population of the country **in that year**.\n\nFor this question, write out a generalized process for Question 7. What should this function output, and what steps will you take within the function?\n",
      "metadata": {
        "deletable": false,
        "editable": false
      }
    },
    {
      "id": "cell-project1-103",
      "cell_type": "markdown",
      "source": "_Type your answer here, replacing this text._",
      "metadata": {
        "tags": [
          "otter_answer_cell"
        ]
      }
    },
    {
      "id": "cell-project1-104",
      "cell_type": "markdown",
      "source": "<!-- END QUESTION -->\n\n**Question 7.** Now, we'll actually write the function called `poverty_timeline`. Recall that `poverty_timeline` takes **the name of a country** as its argument (not the Alpha-3 country code). It should draw a line plot of the number of people living in poverty in that country with time on the horizontal axis. The line plot should have a point for each row in the `poverty` table for that country. To compute the population living in poverty from a poverty percentage, multiply by the population of the country **in that year**.\n\n*Hint:* This question is long. Feel free to create cells and experiment. You can create cells by going to the toolbar and hitting the `+` button, or by going to the `Insert` tab.",
      "metadata": {
        "deletable": false,
        "editable": false
      }
    },
    {
      "id": "cell-project1-105",
      "cell_type": "code",
      "source": "def poverty_timeline(country):\n    '''Draw a timeline of people living in extreme poverty in a country.'''\n    geo = ...\n    # This solution will take multiple lines of code. Use as many as you need\n    ...\n    # Don't change anything below this line. \n    plots.title(country)\n    plots.ylim(bottom=0)\n    plots.show() # This should be the last line of your function. ",
      "metadata": {
        "tags": [
          "otter_answer_cell"
        ]
      },
      "outputs": [],
      "execution_count": null
    },
    {
      "id": "cell-project1-106",
      "cell_type": "code",
      "source": "poverty_timeline('India')\npoverty_timeline('Nigeria')\npoverty_timeline('China')\npoverty_timeline('Colombia')\npoverty_timeline('United States')",
      "metadata": {
        "deletable": false,
        "tags": [
          "otter_answer_cell"
        ]
      },
      "outputs": [],
      "execution_count": null
    },
    {
      "id": "cell-project1-107",
      "cell_type": "markdown",
      "source": "Although the number of people living in extreme poverty increased in some countries including Nigeria and the United States, the decreases in other countries, most notably the massive decreases in China and India, have shaped the overall trend that extreme poverty is decreasing worldwide, both in percentage and in absolute number. \n\nTo learn more, watch [Hans Rosling in a 2015 film](https://www.gapminder.org/videos/dont-panic-end-poverty/) about the UN goal of eradicating extreme poverty from the world. \n\nBelow, we've also added an interactive dropdown menu for you to visualize `poverty_timeline` graphs for other countries. Note that each dropdown menu selection may take a few seconds to run.",
      "metadata": {
        "deletable": false
      }
    },
    {
      "id": "cell-project1-108",
      "cell_type": "code",
      "source": "# Just run this cell\nall_countries = poverty_map.column('name')\nsafe_interact(poverty_timeline, country=list(all_countries))",
      "metadata": {
        "deletable": false,
        "editable": false
      },
      "outputs": [],
      "execution_count": null
    },
    {
      "id": "cell-project1-109",
      "cell_type": "markdown",
      "source": "\n\n<img src=\"mochi.jpg\" alt=\"drawing\" width=\"300\"/>\n\n**Mochi wants to tell you, you're finished!** Congratulations on discovering many important facts about global poverty and demonstrating your mastery of table manipulation and data visualization. Time to submit.\n\n**Important submission steps:** \n1. **Run** the `grader.check_all` cell below before exporting.\n2. Then choose **Save Notebook** from the **File** menu, to save all the outputs.\n3. Then **run the final cell**: `grader.export` \n3. Click the link to download the zip file.\n4. Then submit the zip file to the corresponding assignment according to your instructor's directions. \n\n**It is your responsibility to make sure your work is saved before running the last cell.**",
      "metadata": {
        "deletable": false
      }
    },
    {
      "id": "cell-project1-110",
      "cell_type": "markdown",
      "source": "---\n\nTo double-check your work, the cell below will rerun all of the autograder tests.",
      "metadata": {
        "deletable": false,
        "editable": false
      }
    },
    {
      "id": "cell-project1-111",
      "cell_type": "code",
      "source": "grader.check_all()",
      "metadata": {
        "deletable": false,
        "editable": false
      },
      "outputs": [],
      "execution_count": null
    },
    {
      "id": "cell-project1-112",
      "cell_type": "markdown",
      "source": "## Submission\n\nMake sure you have run all cells in your notebook in order before running the cell below, so that all images/graphs appear in the output. The cell below will generate a zip file for you to submit. **Please save before exporting!**",
      "metadata": {
        "deletable": false,
        "editable": false
      }
    },
    {
      "id": "cell-project1-113",
      "cell_type": "code",
      "source": "# Save your notebook first, then run this cell to export your submission.\ngrader.export()",
      "metadata": {
        "deletable": false,
        "editable": false
      },
      "outputs": [],
      "execution_count": null
    },
    {
      "id": "cell-project1-114",
      "cell_type": "markdown",
      "source": " ",
      "metadata": {}
    }
  ]
}