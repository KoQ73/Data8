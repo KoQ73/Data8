{
  "metadata": {
    "kernelspec": {
      "name": "python",
      "display_name": "Python (Pyodide)",
      "language": "python"
    },
    "language_info": {
      "codemirror_mode": {
        "name": "python",
        "version": 3
      },
      "file_extension": ".py",
      "mimetype": "text/x-python",
      "name": "python",
      "nbconvert_exporter": "python",
      "pygments_lexer": "ipython3",
      "version": "3.8"
    },
    "otter": {
      "OK_FORMAT": true,
      "tests": {
        "q1_1": {
          "name": "q1_1",
          "points": [
            0,
            0,
            2
          ],
          "suites": [
            {
              "cases": [
                {
                  "code": ">>> type(one_resampled_percentage(votes)) in set([float, np.float64])\nTrue",
                  "hidden": false,
                  "locked": false
                },
                {
                  "code": ">>> one_resampled_percentage(votes) <= 0\nFalse",
                  "hidden": false,
                  "locked": false
                },
                {
                  "code": ">>> 35 <= one_resampled_percentage(votes) <= 65\nTrue",
                  "hidden": false,
                  "locked": false
                }
              ],
              "scored": true,
              "setup": "",
              "teardown": "",
              "type": "doctest"
            }
          ]
        },
        "q1_2": {
          "name": "q1_2",
          "points": [
            0
          ],
          "suites": [
            {
              "cases": [
                {
                  "code": ">>> len(percentages_in_resamples()) == 2022\nTrue",
                  "hidden": false,
                  "locked": false
                }
              ],
              "scored": true,
              "setup": "",
              "teardown": "",
              "type": "doctest"
            }
          ]
        },
        "q1_3": {
          "name": "q1_3",
          "points": [
            0
          ],
          "suites": [
            {
              "cases": [
                {
                  "code": ">>> 45 <= imm_lower_bound <= imm_upper_bound <= 65\nTrue",
                  "hidden": false,
                  "locked": false
                }
              ],
              "scored": true,
              "setup": "",
              "teardown": "",
              "type": "doctest"
            }
          ]
        },
        "q1_4": {
          "name": "q1_4",
          "points": [
            0
          ],
          "suites": [
            {
              "cases": [
                {
                  "code": ">>> type(one_resampled_difference(votes)) in set([float, np.float64])\nTrue",
                  "hidden": false,
                  "locked": false
                }
              ],
              "scored": true,
              "setup": "",
              "teardown": "",
              "type": "doctest"
            }
          ]
        },
        "q1_6": {
          "name": "q1_6",
          "points": [
            0
          ],
          "suites": [
            {
              "cases": [
                {
                  "code": ">>> -5 <= diff_lower_bound <= diff_upper_bound <= 20\nTrue",
                  "hidden": false,
                  "locked": false
                }
              ],
              "scored": true,
              "setup": "",
              "teardown": "",
              "type": "doctest"
            }
          ]
        },
        "q2_2": {
          "name": "q2_2",
          "points": [
            0
          ],
          "suites": [
            {
              "cases": [
                {
                  "code": ">>> 1000 <= true_percentage_intervals <= 10000\nTrue",
                  "hidden": false,
                  "locked": false
                }
              ],
              "scored": true,
              "setup": "",
              "teardown": "",
              "type": "doctest"
            }
          ]
        },
        "q2_3": {
          "name": "q2_3",
          "points": [
            0,
            0,
            0
          ],
          "suites": [
            {
              "cases": [
                {
                  "code": ">>> 1 <= cutoff_five_percent <= 3\nTrue",
                  "hidden": false,
                  "locked": false
                },
                {
                  "code": ">>> cutoff_five_percent == 3\nFalse",
                  "hidden": false,
                  "locked": false
                },
                {
                  "code": ">>> cutoff_five_percent == 2\nFalse",
                  "hidden": false,
                  "locked": false
                }
              ],
              "scored": true,
              "setup": "",
              "teardown": "",
              "type": "doctest"
            }
          ]
        },
        "q2_4": {
          "name": "q2_4",
          "points": [
            0
          ],
          "suites": [
            {
              "cases": [
                {
                  "code": ">>> 1 <= cutoff_one_percent <= 3\nTrue",
                  "hidden": false,
                  "locked": false
                }
              ],
              "scored": true,
              "setup": "",
              "teardown": "",
              "type": "doctest"
            }
          ]
        },
        "q2_5": {
          "name": "q2_5",
          "points": [
            0
          ],
          "suites": [
            {
              "cases": [
                {
                  "code": ">>> 1 <= cutoff_ten_percent <= 3\nTrue",
                  "hidden": false,
                  "locked": false
                }
              ],
              "scored": true,
              "setup": "",
              "teardown": "",
              "type": "doctest"
            }
          ]
        }
      }
    }
  },
  "nbformat_minor": 5,
  "nbformat": 4,
  "cells": [
    {
      "id": "cell-hw08-0",
      "cell_type": "code",
      "source": "# The pip install can take a minute\n%pip install -q urllib3<2.0 otter-grader==5.5.0 datascience ipywidgets\nimport pyodide_http\npyodide_http.patch_all()\n\n# Initialize Otter\nimport otter\ngrader = otter.Notebook(\"hw08.ipynb\", jupyterlite=True)",
      "metadata": {
        "deletable": false,
        "editable": false,
        "trusted": true
      },
      "outputs": [],
      "execution_count": 1
    },
    {
      "id": "cell-hw08-1",
      "cell_type": "markdown",
      "source": "# Homework 8: Confidence Intervals",
      "metadata": {}
    },
    {
      "id": "cell-hw08-2",
      "cell_type": "markdown",
      "source": "**Helpful Resource:**\n\n- [Python Reference](http://data8.org/sp22/python-reference.html): Cheat sheet of helpful array & table methods used in Data 8!\n\n**Recommended Reading**: \n\n* [Estimation](https://www.inferentialthinking.com/chapters/13/Estimation)",
      "metadata": {}
    },
    {
      "id": "cell-hw08-3",
      "cell_type": "markdown",
      "source": "Please complete this notebook by filling in the cells provided. Before you begin, execute the following cell to setup the notebook by importing some helpful libraries. Each time you start your server, you will need to execute this cell again.\n\nFor all problems that you must write explanations and sentences for, you **must** provide your answer in the designated space. **Moreover, throughout this homework and all future ones, please be sure to not re-assign variables throughout the notebook!** For example, if you use `max_temperature` in your answer to one question, do not reassign it later on. Otherwise, you will fail tests that you thought you were passing previously!\n\n\n**Note: This homework has hidden tests on it. That means even though the tests may say 100% passed, it doesn't mean your final grade will be 100%. We will be running more tests for correctness once everyone turns in the homework.**\n\n\nDirectly sharing answers is not okay, but discussing problems with the course staff or with other students is encouraged. \n\nYou should start early so that you have time to get help if you're stuck.",
      "metadata": {}
    },
    {
      "id": "cell-hw08-4",
      "cell_type": "code",
      "source": "# Don't change this cell; just run it. \n\nimport numpy as np\nfrom datascience import *\n\n\n# These lines do some fancy plotting magic.\",\nimport matplotlib\n%matplotlib inline\nimport matplotlib.pyplot as plt\nplt.style.use('fivethirtyeight')\nimport warnings\nwarnings.simplefilter('ignore', FutureWarning)",
      "metadata": {
        "trusted": true
      },
      "outputs": [
        {
          "name": "stderr",
          "output_type": "stream",
          "text": "Matplotlib is building the font cache; this may take a moment.\n"
        }
      ],
      "execution_count": 2
    },
    {
      "id": "cell-hw08-5",
      "cell_type": "markdown",
      "source": "## 1. Thai Restaurants in Berkeley",
      "metadata": {}
    },
    {
      "id": "cell-hw08-6",
      "cell_type": "markdown",
      "source": "Oswaldo and Varun are trying to see what the best Thai restaurant in Berkeley is. They survey 1,500 UC Berkeley students selected uniformly at random and ask each student what Thai restaurant is the best. (*Note: This data is fabricated for the purposes of this homework.*) The choices of Thai restaurants are [Lucky House](https://www.google.com/maps/place/Lucky+House+Thai+Cuisine/@37.8707428,-122.270045,15.32z/data=!4m5!3m4!1s0x80857e9e69a8c921:0x7b6d80f58406fb26!8m2!3d37.8721393!4d-122.2672699), [Imm Thai](https://www.google.com/maps/place/Imm+Thai+Street+Food/@37.8704926,-122.2687372,15.51z/data=!4m5!3m4!1s0x80857e9eec4f1e63:0x5f54d96f0dccdb72!8m2!3d37.8719079!4d-122.2691186), [Thai Temple](https://www.google.com/maps/place/Wat+Mongkolratanaram/@37.8689514,-122.2698649,14.75z/data=!4m5!3m4!1s0x80857e886e39daf1:0xe309caa1b5710fc0!8m2!3d37.8563633!4d-122.2707584), and [Thai Basil](https://www.google.com/maps/place/Thai+Basil/@37.8691911,-122.266539,15.37z/data=!4m5!3m4!1s0x80857c2f6ae0e2f1:0x6978b6e8a72d58d4!8m2!3d37.868327!4d-122.258081). After compiling the results, Oswaldo and Varun release the following percentages from their sample:\n\n|Thai Restaurant  | Percentage|\n|:------------:|:------------:|\n|Lucky House | 8% |\n|Imm Thai | 53% |\n|Thai Temple | 25% |\n|Thai Basil | 14% |\n\nThese percentages represent a uniform random sample of the population of UC Berkeley students. We will attempt to estimate the corresponding *parameters*, or the percentage of the votes that each restaurant will receive from the population (i.e. all UC Berkeley students). We will use confidence intervals to compute a range of values that reflects the uncertainty of our estimates.\n\nThe table `votes` contains the results of Oswaldo and Varun's survey.",
      "metadata": {}
    },
    {
      "id": "cell-hw08-7",
      "cell_type": "code",
      "source": "# Just run this cell\nvotes = Table.read_table('https://ds-modules.github.io/materials-sp22-assets/hw/hw08/votes.csv')\nvotes",
      "metadata": {
        "deletable": false,
        "editable": false,
        "trusted": true
      },
      "outputs": [
        {
          "execution_count": 3,
          "output_type": "execute_result",
          "data": {
            "text/plain": "Vote\nLucky House\nLucky House\nLucky House\nLucky House\nLucky House\nLucky House\nLucky House\nLucky House\nLucky House\nLucky House\n... (1490 rows omitted)",
            "text/html": "<table border=\"1\" class=\"dataframe\">\n    <thead>\n        <tr>\n            <th>Vote</th>\n        </tr>\n    </thead>\n    <tbody>\n        <tr>\n            <td>Lucky House</td>\n        </tr>\n        <tr>\n            <td>Lucky House</td>\n        </tr>\n        <tr>\n            <td>Lucky House</td>\n        </tr>\n        <tr>\n            <td>Lucky House</td>\n        </tr>\n        <tr>\n            <td>Lucky House</td>\n        </tr>\n        <tr>\n            <td>Lucky House</td>\n        </tr>\n        <tr>\n            <td>Lucky House</td>\n        </tr>\n        <tr>\n            <td>Lucky House</td>\n        </tr>\n        <tr>\n            <td>Lucky House</td>\n        </tr>\n        <tr>\n            <td>Lucky House</td>\n        </tr>\n    </tbody>\n</table>\n<p>... (1490 rows omitted)</p>"
          },
          "metadata": {}
        }
      ],
      "execution_count": 3
    },
    {
      "id": "cell-hw08-8",
      "cell_type": "markdown",
      "source": "**Question 1.1.** Complete the function `one_resampled_percentage` below. It should return Imm Thai's ***percentage*** of votes after taking the original table (`tbl`) and performing one bootstrap sample of it. Reminder that a percentage is between 0 and 100. **(9 Points)**\n\n*Note:* `tbl` will always be in the same format as `votes`.\n\n*Hint:* Given a table of votes, how can you figure out what percentage of the votes are for a certain restaurant? **Be sure to use percentages, not proportions, for this question!**\n",
      "metadata": {
        "deletable": false,
        "editable": false
      }
    },
    {
      "id": "cell-hw08-9",
      "cell_type": "code",
      "source": "def one_resampled_percentage(tbl):\n    resampled_tbl = tbl.sample()\n    imm_count = sum(resampled_tbl.column(\"Vote\") == \"Imm Thai\")\n    return imm_count / tbl.num_rows * 100\n\none_resampled_percentage(votes)",
      "metadata": {
        "tags": [],
        "trusted": true
      },
      "outputs": [
        {
          "execution_count": 6,
          "output_type": "execute_result",
          "data": {
            "text/plain": "53.86666666666666"
          },
          "metadata": {}
        }
      ],
      "execution_count": 6
    },
    {
      "id": "cell-hw08-10",
      "cell_type": "code",
      "source": "grader.check(\"q1_1\")",
      "metadata": {
        "deletable": false,
        "editable": false,
        "trusted": true
      },
      "outputs": [
        {
          "execution_count": 7,
          "output_type": "execute_result",
          "data": {
            "text/plain": "q1_1 results: All test cases passed!",
            "text/html": "<p><strong><pre style='display: inline;'>q1_1</pre></strong> passed! 🌈</p>"
          },
          "metadata": {}
        }
      ],
      "execution_count": 7
    },
    {
      "id": "cell-hw08-11",
      "cell_type": "markdown",
      "source": "**Question 1.2.** Complete the `percentages_in_resamples` function such that it simulates and returns an array of 2022 elements, where each element represents a bootstrapped estimate of the percentage of voters who will vote for Imm Thai. You should use the `one_resampled_percentage` function you wrote above. **(9 Points)**\n",
      "metadata": {
        "deletable": false,
        "editable": false
      }
    },
    {
      "id": "cell-hw08-12",
      "cell_type": "code",
      "source": "def percentages_in_resamples():\n    percentage_imm = make_array()\n    for i in np.arange(2022):\n        stat = one_resampled_percentage(votes)\n        percentage_imm = np.append(percentage_imm, stat)\n    return percentage_imm",
      "metadata": {
        "for_assignment_type": "solution",
        "tags": [],
        "trusted": true
      },
      "outputs": [],
      "execution_count": 8
    },
    {
      "id": "cell-hw08-13",
      "cell_type": "code",
      "source": "grader.check(\"q1_2\")",
      "metadata": {
        "deletable": false,
        "editable": false,
        "trusted": true
      },
      "outputs": [
        {
          "execution_count": 9,
          "output_type": "execute_result",
          "data": {
            "text/plain": "q1_2 results: All test cases passed!",
            "text/html": "<p><strong><pre style='display: inline;'>q1_2</pre></strong> passed! 🌈</p>"
          },
          "metadata": {}
        }
      ],
      "execution_count": 9
    },
    {
      "id": "cell-hw08-14",
      "cell_type": "markdown",
      "source": "In the following cell, we run the function you just defined, `percentages_in_resamples`, and create a histogram of the calculated statistic for the 2022 bootstrap estimates of the percentage of voters who voted for Imm Thai. \n\n*Note:* This might take a few seconds to run.",
      "metadata": {}
    },
    {
      "id": "cell-hw08-15",
      "cell_type": "code",
      "source": "resampled_percentages = percentages_in_resamples()\nTable().with_column('Estimated Percentage', resampled_percentages).hist(\"Estimated Percentage\")",
      "metadata": {
        "trusted": true
      },
      "outputs": [
        {
          "output_type": "display_data",
          "data": {
            "text/plain": "<Figure size 600x400 with 1 Axes>",
            "image/png": "[encoded data removed]"
          },
          "metadata": {}
        }
      ],
      "execution_count": 10
    },
    {
      "id": "cell-hw08-16",
      "cell_type": "markdown",
      "source": "**Question 1.3.** Using the array `resampled_percentages`, find the values at the two edges of the middle 95% of the bootstrapped percentage estimates. Compute the lower and upper ends of the interval, named `imm_lower_bound` and `imm_upper_bound` respectively. **(9 Points)**\n\n*Hint:* If you are stuck on this question, try looking over [Chapter 13](https://inferentialthinking.com/chapters/13/Estimation.html) of the textbook.\n",
      "metadata": {
        "deletable": false,
        "editable": false
      }
    },
    {
      "id": "cell-hw08-17",
      "cell_type": "code",
      "source": "imm_lower_bound = percentile(2.5, resampled_percentages)\nimm_upper_bound = percentile(97.5, resampled_percentages)\nprint(f\"Bootstrapped 95% confidence interval for the percentage of Imm Thai voters in the population: [{imm_lower_bound:.2f}, {imm_upper_bound:.2f}]\")",
      "metadata": {
        "deletable": false,
        "tags": [],
        "trusted": true
      },
      "outputs": [
        {
          "name": "stdout",
          "output_type": "stream",
          "text": "Bootstrapped 95% confidence interval for the percentage of Imm Thai voters in the population: [50.53, 55.53]\n"
        }
      ],
      "execution_count": 12
    },
    {
      "id": "cell-hw08-18",
      "cell_type": "code",
      "source": "grader.check(\"q1_3\")",
      "metadata": {
        "deletable": false,
        "editable": false,
        "trusted": true
      },
      "outputs": [
        {
          "execution_count": 13,
          "output_type": "execute_result",
          "data": {
            "text/plain": "q1_3 results: All test cases passed!",
            "text/html": "<p><strong><pre style='display: inline;'>q1_3</pre></strong> passed! ✨</p>"
          },
          "metadata": {}
        }
      ],
      "execution_count": 13
    },
    {
      "id": "cell-hw08-19",
      "cell_type": "markdown",
      "source": "**Question 1.4.** The survey results seem to indicate that Imm Thai is beating all the other Thai restaurants among the voters. We would like to use confidence intervals to determine a range of likely values for Imm Thai's true lead over all the other restaurants combined. The calculation for Imm Thai's lead over Lucky House, Thai Temple, and Thai Basil combined is:\n\n$$\\text{Imm Thai's percent of the vote} - (\\text{100 percent} - \\text{Imm Thai's percent of vote})$$\n\nDefine the function `one_resampled_difference` that returns **exactly one value** of Imm Thai's percentage lead over Lucky House, Thai Temple, and Thai Basil combined from one bootstrap sample of `tbl`. **(9 Points)**\n\n*Hint 1:* Imm Thai's lead can be negative.\n\n*Hint 2:* Given a table of votes, how can you figure out what percentage of the votes are for a certain restaurant? **Be sure to use percentages, not proportions, for this question!**\n\n*Note:* If the skeleton code provided within the function is not helpful for you, feel free to approach the question using your own variables.\n",
      "metadata": {
        "deletable": false,
        "editable": false
      }
    },
    {
      "id": "cell-hw08-20",
      "cell_type": "code",
      "source": "def one_resampled_difference(tbl):\n    bootstrap = one_resampled_percentage(tbl)\n    imm_percentage = bootstrap - (100 - bootstrap)\n    return imm_percentage",
      "metadata": {
        "tags": [],
        "trusted": true
      },
      "outputs": [],
      "execution_count": 14
    },
    {
      "id": "cell-hw08-21",
      "cell_type": "code",
      "source": "grader.check(\"q1_4\")",
      "metadata": {
        "deletable": false,
        "editable": false,
        "trusted": true
      },
      "outputs": [
        {
          "execution_count": 15,
          "output_type": "execute_result",
          "data": {
            "text/plain": "q1_4 results: All test cases passed!",
            "text/html": "<p><strong><pre style='display: inline;'>q1_4</pre></strong> passed! 🍀</p>"
          },
          "metadata": {}
        }
      ],
      "execution_count": 15
    },
    {
      "id": "cell-hw08-22",
      "cell_type": "markdown",
      "source": "<!-- BEGIN QUESTION -->\n\n**Question 1.5.** Write a function called `leads_in_resamples` that returns an array of 2022 elements representing the bootstrapped estimates (the result of calling `one_resampled_difference`) of Imm Thai's lead over Lucky House, Thai Temple, and Thai Basil combined. Afterwards, run the cell to plot a histogram of the resulting samples. **(9 Points)**\n\n*Hint:* If you see an error involving `NoneType`, consider what components a function needs to have!\n",
      "metadata": {
        "deletable": false,
        "editable": false
      }
    },
    {
      "id": "cell-hw08-23",
      "cell_type": "code",
      "source": "def leads_in_resamples():\n    imm_percentages = make_array()\n    for i in np.arange(2022):\n        stat = one_resampled_difference(votes)\n        imm_percentages = np.append(imm_percentages, stat)\n    return imm_percentages\n\nsampled_leads = leads_in_resamples()\nTable().with_column('Estimated Lead', sampled_leads).hist(\"Estimated Lead\")",
      "metadata": {
        "for_assignment_type": "solution",
        "tags": [],
        "trusted": true
      },
      "outputs": [
        {
          "output_type": "display_data",
          "data": {
            "text/plain": "<Figure size 600x400 with 1 Axes>",
            "image/png": "[encoded data removed]"
          },
          "metadata": {}
        }
      ],
      "execution_count": 16
    },
    {
      "id": "cell-hw08-24",
      "cell_type": "markdown",
      "source": "<!-- END QUESTION -->\n\n**Question 1.6.** Use the simulated data in `sampled_leads` from Question 1.5 to compute an approximate 95% confidence interval for Imm Thai's true lead over Lucky House, Thai Temple, and Thai Basil combined. **(9 Points)**\n",
      "metadata": {
        "deletable": false,
        "editable": false
      }
    },
    {
      "id": "cell-hw08-25",
      "cell_type": "code",
      "source": "diff_lower_bound = percentile(2.5, sampled_leads)\ndiff_upper_bound = percentile(97.5, sampled_leads)\nprint(\"Bootstrapped 95% confidence interval for Imm Thai's true lead over Lucky House, Thai Temple, and Thai Basil combined: [{:f}%, {:f}%]\".format(diff_lower_bound, diff_upper_bound))",
      "metadata": {
        "deletable": false,
        "tags": [],
        "trusted": true
      },
      "outputs": [
        {
          "name": "stdout",
          "output_type": "stream",
          "text": "Bootstrapped 95% confidence interval for Imm Thai's true lead over Lucky House, Thai Temple, and Thai Basil combined: [0.933333%, 11.066667%]\n"
        }
      ],
      "execution_count": 17
    },
    {
      "id": "cell-hw08-26",
      "cell_type": "code",
      "source": "grader.check(\"q1_6\")",
      "metadata": {
        "deletable": false,
        "editable": false,
        "trusted": true
      },
      "outputs": [
        {
          "execution_count": 18,
          "output_type": "execute_result",
          "data": {
            "text/plain": "q1_6 results: All test cases passed!",
            "text/html": "<p><strong><pre style='display: inline;'>q1_6</pre></strong> passed! 🌟</p>"
          },
          "metadata": {}
        }
      ],
      "execution_count": 18
    },
    {
      "id": "cell-hw08-27",
      "cell_type": "markdown",
      "source": "## 2. Interpreting Confidence Intervals ",
      "metadata": {}
    },
    {
      "id": "cell-hw08-28",
      "cell_type": "markdown",
      "source": "The staff computed the following 95% confidence interval for the percentage of Imm Thai voters: \n\n$$[50.53, 55.53]$$\n\n(Your answer may have been a bit different due to randomness; that doesn't mean it was wrong!)",
      "metadata": {}
    },
    {
      "id": "cell-hw08-29",
      "cell_type": "markdown",
      "source": "<!-- BEGIN QUESTION -->\n\n**Question 2.1.** The staff also created 70%, 90%, and 99% confidence intervals from the same sample, but we forgot to label which confidence interval represented which percentages! **First**, match each confidence level (70%, 90%, 99%) with its corresponding interval in the cell below (e.g. __ % CI: [52.1, 54] $\\rightarrow$ replace the blank with one of the three confidence levels). **Then**, explain your thought process and how you came up with your answers. **(10 Points)**\n\nThe intervals are below:\n\n* [50.03, 55.94]\n* [52.1, 54]\n* [50.97, 54.99]\n\n",
      "metadata": {
        "deletable": false,
        "editable": false
      }
    },
    {
      "id": "cell-hw08-30",
      "cell_type": "markdown",
      "source": "70% CI:[52.1, 54]\n90% CI:[50.97, 54.99]\n99% CI:[50.03, 55.94]\nThe lower the confidence interval the tighter the interval.",
      "metadata": {}
    },
    {
      "id": "cell-hw08-31",
      "cell_type": "markdown",
      "source": "<!-- END QUESTION -->\n\n**Question 2.2.** Suppose we produced 6,000 new samples (each one a new/distinct uniform random sample of 1,500 students) from the population and created a 95% confidence interval from each one. Roughly how many of those 6,000 intervals do you expect will actually contain the true percentage of the population? **(9 Points)**\n\nAssign your answer to `true_percentage_intervals`.\n",
      "metadata": {
        "deletable": false,
        "editable": false
      }
    },
    {
      "id": "cell-hw08-32",
      "cell_type": "code",
      "source": "true_percentage_intervals = 6000 * 95 / 100",
      "metadata": {
        "deletable": false,
        "tags": [],
        "trusted": true
      },
      "outputs": [],
      "execution_count": 23
    },
    {
      "id": "cell-hw08-33",
      "cell_type": "code",
      "source": "grader.check(\"q2_2\")",
      "metadata": {
        "deletable": false,
        "editable": false,
        "trusted": true
      },
      "outputs": [
        {
          "execution_count": 24,
          "output_type": "execute_result",
          "data": {
            "text/plain": "q2_2 results: All test cases passed!",
            "text/html": "<p><strong><pre style='display: inline;'>q2_2</pre></strong> passed! 💯</p>"
          },
          "metadata": {}
        }
      ],
      "execution_count": 24
    },
    {
      "id": "cell-hw08-34",
      "cell_type": "markdown",
      "source": "Recall the second bootstrap confidence interval you created, which estimated Imm Thai's lead over Lucky House, Thai Temple, and Thai Basil combined. Among\nvoters in the sample, Imm Thai's lead was 6%. The staff's 95% confidence interval for the true lead (in the population of all voters) was:\n\n$$[1.2, 11.2]$$\n\nSuppose we are interested in testing a simple yes-or-no question:\n\n> \"Is the percentage of votes for Imm Thai equal to the percentage of votes for Lucky House, Thai Temple, and Thai Basil combined?\"\n\nOur null hypothesis is that the percentages are equal, or equivalently, that Imm Thai's lead is exactly 0. Our alternative hypothesis is that Imm Thai's lead is not equal to 0.  In the questions below, don't compute any confidence interval yourself—use only the staff's 95% confidence interval.",
      "metadata": {}
    },
    {
      "id": "cell-hw08-35",
      "cell_type": "markdown",
      "source": "**Question 2.3.** Say we use a 5% p-value cutoff. Do we reject the null, fail to reject the null, or are we unable to tell using the staff's confidence interval? **(9 Points)**\n\nAssign `cutoff_five_percent` to the number corresponding to the correct answer.\n\n1. Reject the null / Data is consistent with the alternative hypothesis\n2. Fail to reject the null / Data is consistent with the null hypothesis\n3. Unable to tell using our staff confidence interval\n\n*Hint:* Consider the relationship between the p-value cutoff and confidence. If you're confused, take a look at [this chapter](https://inferentialthinking.com/chapters/13/4/Using_Confidence_Intervals.html) of the textbook.\n",
      "metadata": {
        "deletable": false,
        "editable": false
      }
    },
    {
      "id": "cell-hw08-36",
      "cell_type": "code",
      "source": "cutoff_five_percent = 1",
      "metadata": {
        "deletable": false,
        "tags": [],
        "trusted": true
      },
      "outputs": [],
      "execution_count": 29
    },
    {
      "id": "cell-hw08-37",
      "cell_type": "code",
      "source": "grader.check(\"q2_3\")",
      "metadata": {
        "deletable": false,
        "editable": false,
        "trusted": true
      },
      "outputs": [
        {
          "execution_count": 30,
          "output_type": "execute_result",
          "data": {
            "text/plain": "q2_3 results: All test cases passed!",
            "text/html": "<p><strong><pre style='display: inline;'>q2_3</pre></strong> passed! 🌈</p>"
          },
          "metadata": {}
        }
      ],
      "execution_count": 30
    },
    {
      "id": "cell-hw08-38",
      "cell_type": "markdown",
      "source": "**Question 2.4.** What if, instead, we use a p-value cutoff of 1%? Do we reject the null, fail to reject the null, or are we unable to tell using our staff confidence interval? **(9 Points)**\n\nAssign `cutoff_one_percent` to the number corresponding to the correct answer.\n\n1. Reject the null / Data is consistent with the alternative hypothesis\n2. Fail to reject the null / Data is consistent with the null hypothesis\n3. Unable to tell using our staff confidence interval\n",
      "metadata": {
        "deletable": false,
        "editable": false
      }
    },
    {
      "id": "cell-hw08-39",
      "cell_type": "code",
      "source": "cutoff_one_percent = 3",
      "metadata": {
        "deletable": false,
        "tags": [],
        "trusted": true
      },
      "outputs": [],
      "execution_count": 37
    },
    {
      "id": "cell-hw08-40",
      "cell_type": "code",
      "source": "grader.check(\"q2_4\")",
      "metadata": {
        "deletable": false,
        "editable": false,
        "trusted": true
      },
      "outputs": [
        {
          "execution_count": 38,
          "output_type": "execute_result",
          "data": {
            "text/plain": "q2_4 results: All test cases passed!",
            "text/html": "<p><strong><pre style='display: inline;'>q2_4</pre></strong> passed! 🌈</p>"
          },
          "metadata": {}
        }
      ],
      "execution_count": 38
    },
    {
      "id": "cell-hw08-41",
      "cell_type": "markdown",
      "source": "**Question 2.5.** What if we use a p-value cutoff of 10%? Do we reject, fail to reject, or are we unable to tell using our confidence interval? **(9 Points)**\n\nAssign `cutoff_ten_percent` to the number corresponding to the correct answer.\n\n1. Reject the null / Data is consistent with the alternative hypothesis\n2. Fail to reject the null / Data is consistent with the null hypothesis\n3. Unable to tell using our staff confidence interval\n",
      "metadata": {
        "deletable": false,
        "editable": false
      }
    },
    {
      "id": "cell-hw08-42",
      "cell_type": "code",
      "source": "cutoff_ten_percent = 3",
      "metadata": {
        "deletable": false,
        "tags": [],
        "trusted": true
      },
      "outputs": [],
      "execution_count": 39
    },
    {
      "id": "cell-hw08-43",
      "cell_type": "code",
      "source": "grader.check(\"q2_5\")",
      "metadata": {
        "deletable": false,
        "editable": false,
        "trusted": true
      },
      "outputs": [
        {
          "execution_count": 40,
          "output_type": "execute_result",
          "data": {
            "text/plain": "q2_5 results: All test cases passed!",
            "text/html": "<p><strong><pre style='display: inline;'>q2_5</pre></strong> passed! 🌈</p>"
          },
          "metadata": {}
        }
      ],
      "execution_count": 40
    },
    {
      "id": "cell-hw08-44",
      "cell_type": "markdown",
      "source": "You're done with Homework 8!  \n\n**Important submission steps:** \n1. Run the tests and verify that they all pass.\n2. Choose **Save Notebook** from the **File** menu, then **run the final cell**. \n3. Click the link to download the zip file.\n4. Then submit the zip file to the corresponding assignment according to your instructor's directions. \n\n**It is your responsibility to make sure your work is saved before running the last cell.**",
      "metadata": {}
    },
    {
      "id": "cell-hw08-45",
      "cell_type": "markdown",
      "source": "## Submission\n\nMake sure you have run all cells in your notebook in order before running the cell below, so that all images/graphs appear in the output. The cell below will generate a zip file for you to submit. **Please save before exporting!**",
      "metadata": {
        "deletable": false,
        "editable": false
      }
    },
    {
      "id": "cell-hw08-46",
      "cell_type": "code",
      "source": "# Save your notebook first, then run this cell to export your submission.\ngrader.export(run_tests=True)",
      "metadata": {
        "deletable": false,
        "editable": false
      },
      "outputs": [],
      "execution_count": null
    },
    {
      "id": "cell-hw08-47",
      "cell_type": "markdown",
      "source": " ",
      "metadata": {}
    }
  ]
}