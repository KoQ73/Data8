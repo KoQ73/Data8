{
  "metadata": {
    "kernelspec": {
      "name": "python",
      "display_name": "Python (Pyodide)",
      "language": "python"
    },
    "language_info": {
      "codemirror_mode": {
        "name": "python",
        "version": 3
      },
      "file_extension": ".py",
      "mimetype": "text/x-python",
      "name": "python",
      "nbconvert_exporter": "python",
      "pygments_lexer": "ipython3",
      "version": "3.8"
    },
    "otter": {
      "OK_FORMAT": true,
      "tests": {
        "q2_1": {
          "name": "q2_1",
          "points": [
            0
          ],
          "suites": [
            {
              "cases": [
                {
                  "code": ">>> 1100 <= smallest <= 1150\nTrue",
                  "hidden": false,
                  "locked": false
                }
              ],
              "scored": true,
              "setup": "",
              "teardown": "",
              "type": "doctest"
            }
          ]
        },
        "q2_3": {
          "name": "q2_3",
          "points": [
            0
          ],
          "suites": [
            {
              "cases": [
                {
                  "code": ">>> 700 <= smallest_num <= 800\nTrue",
                  "hidden": false,
                  "locked": false
                }
              ],
              "scored": true,
              "setup": "",
              "teardown": "",
              "type": "doctest"
            }
          ]
        },
        "q2_5": {
          "name": "q2_5",
          "points": [
            0
          ],
          "suites": [
            {
              "cases": [
                {
                  "code": ">>> type(option) == int\nTrue",
                  "hidden": false,
                  "locked": false
                }
              ],
              "scored": true,
              "setup": "",
              "teardown": "",
              "type": "doctest"
            }
          ]
        },
        "q3_1": {
          "name": "q3_1",
          "points": [
            1,
            5
          ],
          "suites": [
            {
              "cases": [
                {
                  "code": ">>> len(resample_yes_proportions) == 10000\nTrue",
                  "hidden": false,
                  "locked": false
                },
                {
                  "code": ">>> abs(np.mean(resample_yes_proportions) - 0.525) < 0.025 and np.std(resample_yes_proportions) < 0.08\nTrue",
                  "hidden": false,
                  "locked": false
                }
              ],
              "scored": true,
              "setup": "",
              "teardown": "",
              "type": "doctest"
            }
          ]
        },
        "q3_3": {
          "name": "q3_3",
          "points": [
            0
          ],
          "suites": [
            {
              "cases": [
                {
                  "code": ">>> approximate_sd < 0.025\nTrue",
                  "hidden": false,
                  "locked": false
                }
              ],
              "scored": true,
              "setup": "",
              "teardown": "",
              "type": "doctest"
            }
          ]
        },
        "q3_4": {
          "name": "q3_4",
          "points": [
            0
          ],
          "suites": [
            {
              "cases": [
                {
                  "code": ">>> exact_sd < 0.05\nTrue",
                  "hidden": false,
                  "locked": false
                }
              ],
              "scored": true,
              "setup": "",
              "teardown": "",
              "type": "doctest"
            }
          ]
        },
        "q3_5": {
          "name": "q3_5",
          "points": [
            0
          ],
          "suites": [
            {
              "cases": [
                {
                  "code": ">>> 0.4 <= lower_limit < upper_limit <= 0.7\nTrue",
                  "hidden": false,
                  "locked": false
                }
              ],
              "scored": true,
              "setup": "",
              "teardown": "",
              "type": "doctest"
            }
          ]
        },
        "q3_6": {
          "name": "q3_6",
          "points": [
            0
          ],
          "suites": [
            {
              "cases": [
                {
                  "code": ">>> type(michelle_sample_size) == int\nTrue",
                  "hidden": false,
                  "locked": false
                }
              ],
              "scored": true,
              "setup": "",
              "teardown": "",
              "type": "doctest"
            }
          ]
        },
        "q3_7": {
          "name": "q3_7",
          "points": [
            1
          ],
          "suites": [
            {
              "cases": [
                {
                  "code": ">>> smaller_sample_size < michelle_sample_size\nTrue",
                  "hidden": false,
                  "locked": false
                }
              ],
              "scored": true,
              "setup": "",
              "teardown": "",
              "type": "doctest"
            }
          ]
        },
        "q3_8": {
          "name": "q3_8",
          "points": [
            1
          ],
          "suites": [
            {
              "cases": [
                {
                  "code": ">>> larger_sample_size > michelle_sample_size\nTrue",
                  "hidden": false,
                  "locked": false
                }
              ],
              "scored": true,
              "setup": "",
              "teardown": "",
              "type": "doctest"
            }
          ]
        },
        "q3_9": {
          "name": "q3_9",
          "points": [
            0
          ],
          "suites": [
            {
              "cases": [
                {
                  "code": ">>> min_sufficient or not min_sufficient\nTrue",
                  "hidden": false,
                  "locked": false
                }
              ],
              "scored": true,
              "setup": "",
              "teardown": "",
              "type": "doctest"
            }
          ]
        }
      }
    }
  },
  "nbformat_minor": 5,
  "nbformat": 4,
  "cells": [
    {
      "id": "cell-hw09-0",
      "cell_type": "code",
      "source": "# Initialize Otter\nimport otter\ngrader = otter.Notebook(\"hw09.ipynb\")",
      "metadata": {
        "deletable": false,
        "editable": false
      },
      "outputs": [],
      "execution_count": null
    },
    {
      "id": "b4a0bc5e-09fe-4864-8794-41671eaba0fe",
      "cell_type": "code",
      "source": "# The pip install can take a minute\n%pip install -q urllib3<2.0 otter-grader==5.5.0 datascience ipywidgets\nimport pyodide_http\npyodide_http.patch_all()\n\nimport otter\ngrader = otter.Notebook(\"hw09.ipynb\")",
      "metadata": {
        "trusted": true
      },
      "outputs": [],
      "execution_count": 1
    },
    {
      "id": "cell-hw09-1",
      "cell_type": "markdown",
      "source": "# Homework 9: Sample Sizes and Confidence Intervals",
      "metadata": {}
    },
    {
      "id": "cell-hw09-2",
      "cell_type": "markdown",
      "source": "**Helpful Resource:**\n\n- [Python Reference](http://data8.org/sp22/python-reference.html): Cheat sheet of helpful array & table methods used in Data 8!\n\n**Recommended Readings**: \n\n* [Estimation](https://inferentialthinking.com/chapters/13/Estimation.html)\n* [Why the Mean Matters](https://inferentialthinking.com/chapters/14/Why_the_Mean_Matters.html)",
      "metadata": {}
    },
    {
      "id": "cell-hw09-3",
      "cell_type": "markdown",
      "source": "Please complete this notebook by filling in the cells provided. Before you begin, execute the following cell to setup the notebook by importing some helpful libraries. Each time you start your server, you will need to execute this cell again.\n\nFor all problems that you must write explanations and sentences for, you **must** provide your answer in the designated space. **Moreover, throughout this homework and all future ones, please be sure to not re-assign variables throughout the notebook!** For example, if you use `max_temperature` in your answer to one question, do not reassign it later on. Otherwise, you will fail tests that you thought you were passing previously!\n\n\n**Note: This homework has hidden tests on it. That means even though the tests may say 100% passed, it doesn't mean your final grade will be 100%. We will be running more tests for correctness once everyone turns in the homework.**\n\n\nDirectly sharing answers is not okay, but discussing problems with the course staff or with other students is encouraged. \n\nYou should start early so that you have time to get help if you're stuck.",
      "metadata": {}
    },
    {
      "id": "cell-hw09-4",
      "cell_type": "code",
      "source": "# Don't change this cell; just run it. \n\nimport numpy as np\nfrom datascience import *\n\n# These lines do some fancy plotting magic.\",\nimport matplotlib\n%matplotlib inline\nimport matplotlib.pyplot as plt\nplt.style.use('fivethirtyeight')\nimport warnings\nwarnings.simplefilter('ignore', FutureWarning)",
      "metadata": {
        "trusted": true
      },
      "outputs": [
        {
          "name": "stderr",
          "output_type": "stream",
          "text": "Matplotlib is building the font cache; this may take a moment.\n"
        }
      ],
      "execution_count": 2
    },
    {
      "id": "cell-hw09-5",
      "cell_type": "markdown",
      "source": "## 1. Bounding the Tail of a Distribution\n\nA community has an average age of 45 years with a standard deviation of 5 years.\n\nIn each part below, fill in the blank with a percent that makes the statement true **without further assumptions**, and explain your answer.\n\n*Note:* No credit will be given for loose bounds such as \"at least 0%\" or \"at most 100%\". Give the best answer that is possible with the information given.",
      "metadata": {}
    },
    {
      "id": "cell-hw09-6",
      "cell_type": "markdown",
      "source": "<!-- BEGIN QUESTION -->\n\n**Question 1.1.** At least _______% of the people are between 25 and 65 years old. **(6 Points)**\n",
      "metadata": {
        "deletable": false,
        "editable": false
      }
    },
    {
      "id": "cell-hw09-7",
      "cell_type": "markdown",
      "source": "93.75",
      "metadata": {}
    },
    {
      "id": "cell-hw09-8",
      "cell_type": "markdown",
      "source": "<!-- END QUESTION -->\n\n<!-- BEGIN QUESTION -->\n\n**Question 1.2.** At most _______% of the people have ages that are not in the range 25 years to 65 years. **(6 Points)**\n",
      "metadata": {
        "deletable": false,
        "editable": false
      }
    },
    {
      "id": "cell-hw09-9",
      "cell_type": "markdown",
      "source": "6.25",
      "metadata": {}
    },
    {
      "id": "cell-hw09-10",
      "cell_type": "markdown",
      "source": "<!-- END QUESTION -->\n\n<!-- BEGIN QUESTION -->\n\n**Question 1.3.** At most _______% of the people are more than 65 years old. **(6 Points)**\n\n*Hint:* If you're stuck, try thinking about what the distribution may look like in this case.\n",
      "metadata": {
        "deletable": false,
        "editable": false
      }
    },
    {
      "id": "cell-hw09-11",
      "cell_type": "markdown",
      "source": "6.25",
      "metadata": {}
    },
    {
      "id": "cell-hw09-12",
      "cell_type": "markdown",
      "source": "<!-- END QUESTION -->\n\n## 2. Sample Size and Confidence Level\n\nA data science class at the large Data 8 University wants to estimate the percent of Facebook users among students at the school. To do this, they need to take a random sample of students. You can assume that their method of sampling is equivalent to drawing at random with replacement from students at the school.\n\n***Please review [Section 14.6](https://inferentialthinking.com/chapters/14/6/Choosing_a_Sample_Size.html#) of the textbook before proceeding with this section. Your work will go much faster that way!***",
      "metadata": {
        "deletable": false,
        "editable": false
      }
    },
    {
      "id": "cell-hw09-13",
      "cell_type": "markdown",
      "source": "**Question 2.1.** Assign `smallest` to the smallest number of students they should sample to ensure that a **95%** confidence interval for the parameter has a width of no more than 6% from left end to right end. **(6 points)**\n\n*Hint:* How can our data be represented to show if a student in the sample is a Facebook user? Given this, what assumptions can we make for the SD of the population? [Section 14.6](https://inferentialthinking.com/chapters/14/6/Choosing_a_Sample_Size.html#) might be helpful!\n\n*Note:* While the true smallest sample size would have to be an integer, please leave your answer in decimal format for the sake of our tests.\n",
      "metadata": {
        "deletable": false,
        "editable": false
      }
    },
    {
      "id": "cell-hw09-14",
      "cell_type": "code",
      "source": "smallest = (4 * 0.5 / 0.06) ** 2\nsmallest",
      "metadata": {
        "tags": [],
        "trusted": true
      },
      "outputs": [
        {
          "execution_count": 6,
          "output_type": "execute_result",
          "data": {
            "text/plain": "1111.1111111111113"
          },
          "metadata": {}
        }
      ],
      "execution_count": 6
    },
    {
      "id": "cell-hw09-15",
      "cell_type": "code",
      "source": "grader.check(\"q2_1\")",
      "metadata": {
        "deletable": false,
        "editable": false,
        "trusted": true
      },
      "outputs": [
        {
          "execution_count": 7,
          "output_type": "execute_result",
          "data": {
            "text/plain": "q2_1 results: All test cases passed!",
            "text/html": "<p><strong><pre style='display: inline;'>q2_1</pre></strong> passed! 🎉</p>"
          },
          "metadata": {}
        }
      ],
      "execution_count": 7
    },
    {
      "id": "cell-hw09-16",
      "cell_type": "markdown",
      "source": "<!-- BEGIN QUESTION -->\n\n**Question 2.2.** Suppose the data science class decides to construct a 90% confidence interval instead of a 95% confidence interval, but they still require that the width of the interval is no more than 6% from left end to right end. Will they need the same sample size as in 2.1? Pick the right answer and explain further without calculation. **(6 Points)**\n\n1. Yes, they must use the same sample size.\n2. No, a smaller sample size will work.\n3. No, they will need a bigger sample.\n",
      "metadata": {
        "deletable": false,
        "editable": false
      }
    },
    {
      "id": "cell-hw09-17",
      "cell_type": "markdown",
      "source": "2",
      "metadata": {}
    },
    {
      "id": "cell-hw09-18",
      "cell_type": "markdown",
      "source": "<!-- END QUESTION -->\n\n**Question 2.3.** The professor tells the class that a 90% confidence interval for the parameter is constructed exactly like a 95% confidence interval, except that you have to go only 1.65 SDs on either side of the estimate (±1.65) instead of 2 SDs on either side (±2). Assign `smallest_num` to the smallest number of students they should sample to ensure that a **90%** confidence interval for the parameter has a width of no more than 6% from left end to right end. **(6 points)**\n\n*Note:* While the true smallest sample size would have to be an integer, please leave your answer in decimal format for the sake of our tests.\n",
      "metadata": {
        "deletable": false,
        "editable": false
      }
    },
    {
      "id": "cell-hw09-19",
      "cell_type": "code",
      "source": "smallest_num = (3.3 * 0.5 / 0.06) ** 2\nsmallest_num",
      "metadata": {
        "tags": [],
        "trusted": true
      },
      "outputs": [
        {
          "execution_count": 8,
          "output_type": "execute_result",
          "data": {
            "text/plain": "756.25"
          },
          "metadata": {}
        }
      ],
      "execution_count": 8
    },
    {
      "id": "cell-hw09-20",
      "cell_type": "code",
      "source": "grader.check(\"q2_3\")",
      "metadata": {
        "deletable": false,
        "editable": false,
        "trusted": true
      },
      "outputs": [
        {
          "execution_count": 9,
          "output_type": "execute_result",
          "data": {
            "text/plain": "q2_3 results: All test cases passed!",
            "text/html": "<p><strong><pre style='display: inline;'>q2_3</pre></strong> passed! 🙌</p>"
          },
          "metadata": {}
        }
      ],
      "execution_count": 9
    },
    {
      "id": "cell-hw09-21",
      "cell_type": "markdown",
      "source": "For this next exercise, please consult [Section 14.3.4](https://inferentialthinking.com/chapters/14/3/SD_and_the_Normal_Curve.html#the-standard-normal-cdf) of the textbook for similar examples.\n\nThe students are curious about how the professor came up with the value 1.65 in Question 2.3. She says she ran the following two code cells. The first one calls the `datascience` library function `plot_normal_cdf`, which displays the proportion that is at most the specified number of SDs above average under the normal curve plotted with standard units on the horizontal axis. You can find the documentation [here](http://data8.org/datascience/util.html#datascience.util.plot_normal_cdf).\n\n*Note:* The acronym `cdf` stands for `cumulative distribution function`. It measures the proportion to the left of a specified point under a probability histogram.",
      "metadata": {}
    },
    {
      "id": "cell-hw09-22",
      "cell_type": "code",
      "source": "plot_normal_cdf(1.65)",
      "metadata": {
        "trusted": true
      },
      "outputs": [
        {
          "output_type": "display_data",
          "data": {
            "text/plain": "<Figure size 640x480 with 1 Axes>",
            "image/png": "[encoded data removed]"
          },
          "metadata": {}
        }
      ],
      "execution_count": 10
    },
    {
      "id": "cell-hw09-23",
      "cell_type": "markdown",
      "source": "To run the second cell, the professor had to first import a Python library for probability and statistics:",
      "metadata": {}
    },
    {
      "id": "cell-hw09-24",
      "cell_type": "code",
      "source": "# Just run this cell\nfrom scipy import stats",
      "metadata": {
        "trusted": true
      },
      "outputs": [],
      "execution_count": 11
    },
    {
      "id": "cell-hw09-25",
      "cell_type": "markdown",
      "source": "Then she used the `norm.cdf` method in the library to find the gold proportion above.",
      "metadata": {}
    },
    {
      "id": "cell-hw09-26",
      "cell_type": "code",
      "source": "# Just run this cell\nstats.norm.cdf(1.65)",
      "metadata": {
        "trusted": true
      },
      "outputs": [
        {
          "execution_count": 12,
          "output_type": "execute_result",
          "data": {
            "text/plain": "0.9505285319663519"
          },
          "metadata": {}
        }
      ],
      "execution_count": 12
    },
    {
      "id": "cell-hw09-27",
      "cell_type": "markdown",
      "source": "*Note*: You do not need to understand how the `scipy` library or how to use the method yourself.",
      "metadata": {}
    },
    {
      "id": "cell-hw09-28",
      "cell_type": "markdown",
      "source": "<!-- BEGIN QUESTION -->\n\n**Question 2.4.** This shows that the percentage in a normal distribution that is at most 1.65 SDs above average is about **95%**. Explain why 1.65 is the right number of SDs to use when constructing a **90%** confidence interval. **(6 Points)**\n",
      "metadata": {
        "deletable": false,
        "editable": false
      }
    },
    {
      "id": "cell-hw09-29",
      "cell_type": "markdown",
      "source": "We use ±1.65 standard deviations because that range covers the central 90% of a normal distribution, which is exactly what we need for a 90% confidence interval.",
      "metadata": {}
    },
    {
      "id": "cell-hw09-30",
      "cell_type": "markdown",
      "source": "<!-- END QUESTION -->\n\n",
      "metadata": {
        "deletable": false,
        "editable": false
      }
    },
    {
      "id": "cell-hw09-31",
      "cell_type": "code",
      "source": "# Just run this cell, do not change it.\nstats.norm.cdf(2.33)",
      "metadata": {
        "trusted": true
      },
      "outputs": [
        {
          "execution_count": 13,
          "output_type": "execute_result",
          "data": {
            "text/plain": "0.99009692444083575"
          },
          "metadata": {}
        }
      ],
      "execution_count": 13
    },
    {
      "id": "cell-hw09-32",
      "cell_type": "markdown",
      "source": "**Question 2.5.** The cell above shows that the proportion that is at most 2.33 SDs above average in a normal distribution is 99%. Assign `option` to the right option to fill in the blank: **(6 points)**\n\nIf you start at the estimate and go 2.33 SDs on either side, then you will get a _______% confidence interval for the parameter.\n\n1. 99.5\n2. 99\n3. 98.5\n4. 98\n\n",
      "metadata": {
        "deletable": false,
        "editable": false
      }
    },
    {
      "id": "cell-hw09-33",
      "cell_type": "code",
      "source": "option = 3\noption",
      "metadata": {
        "tags": [],
        "trusted": true
      },
      "outputs": [
        {
          "execution_count": 18,
          "output_type": "execute_result",
          "data": {
            "text/plain": "3"
          },
          "metadata": {}
        }
      ],
      "execution_count": 18
    },
    {
      "id": "cell-hw09-34",
      "cell_type": "code",
      "source": "grader.check(\"q2_5\")",
      "metadata": {
        "deletable": false,
        "editable": false,
        "trusted": true
      },
      "outputs": [
        {
          "execution_count": 19,
          "output_type": "execute_result",
          "data": {
            "text/plain": "q2_5 results: All test cases passed!",
            "text/html": "<p><strong><pre style='display: inline;'>q2_5</pre></strong> passed! 💯</p>"
          },
          "metadata": {}
        }
      ],
      "execution_count": 19
    },
    {
      "id": "cell-hw09-35",
      "cell_type": "markdown",
      "source": "## 3. Polling and the Normal Distribution",
      "metadata": {}
    },
    {
      "id": "cell-hw09-36",
      "cell_type": "code",
      "source": "# Don't change this cell; just run it. \n\nimport numpy as np\nfrom datascience import *\n\n# These lines do some fancy plotting magic.\",\nimport matplotlib\n%matplotlib inline\nimport matplotlib.pyplot as plt\nplt.style.use('fivethirtyeight')\nimport warnings\nwarnings.simplefilter('ignore', FutureWarning)",
      "metadata": {
        "ExecuteTime": {
          "end_time": "2018-03-20T04:34:23.368185Z",
          "start_time": "2018-03-20T04:34:20.823771Z"
        },
        "trusted": true
      },
      "outputs": [],
      "execution_count": 20
    },
    {
      "id": "cell-hw09-37",
      "cell_type": "markdown",
      "source": "Michelle is a statistical consultant, and she works for a group that supports Proposition 68 (which would mandate labeling of all horizontal and vertical axes) called Yes on 68.  They want to know how many Californians will vote for the proposition.\n\nMichelle polls a uniform random sample of all California voters, and she finds that 210 of the 400 sampled voters will vote in favor of the proposition. We have provided a table for you below which has 3 columns: the first two columns are identical to `sample`. The third column contains the proportion of total voters that chose each option.",
      "metadata": {}
    },
    {
      "id": "cell-hw09-38",
      "cell_type": "code",
      "source": "sample = Table().with_columns(\n    \"Vote\",  make_array(\"Yes\", \"No\"),\n    \"Count\", make_array(210,   190))\n\nsample_size = sum(sample.column(\"Count\"))\nsample_with_proportions = sample.with_column(\"Proportion\", sample.column(\"Count\") / sample_size)\nsample_with_proportions",
      "metadata": {
        "ExecuteTime": {
          "end_time": "2018-03-20T04:34:23.388186Z",
          "start_time": "2018-03-20T04:34:23.372185Z"
        },
        "deletable": false,
        "manual_problem_id": "sample_with_proportions",
        "trusted": true
      },
      "outputs": [
        {
          "execution_count": 21,
          "output_type": "execute_result",
          "data": {
            "text/plain": "Vote | Count | Proportion\nYes  | 210   | 0.525\nNo   | 190   | 0.475",
            "text/html": "<table border=\"1\" class=\"dataframe\">\n    <thead>\n        <tr>\n            <th>Vote</th> <th>Count</th> <th>Proportion</th>\n        </tr>\n    </thead>\n    <tbody>\n        <tr>\n            <td>Yes </td> <td>210  </td> <td>0.525     </td>\n        </tr>\n        <tr>\n            <td>No  </td> <td>190  </td> <td>0.475     </td>\n        </tr>\n    </tbody>\n</table>"
          },
          "metadata": {}
        }
      ],
      "execution_count": 21
    },
    {
      "id": "cell-hw09-39",
      "cell_type": "markdown",
      "source": "**Question 3.1.** Michelle wants to use 10,000 bootstrap resamples to compute a confidence interval for the proportion of all California voters who will vote Yes.  \n\nFill in the next cell to simulate an empirical distribution of Yes proportions. Use bootstrap resampling to simulate 10,000 election outcomes, and assign `resample_yes_proportions` to contain the Yes proportion of each bootstrap resample. Then, visualize `resample_yes_proportions` with a histogram. **You should see a bell shaped curve centered near the proportion of Yes in the original sample.** **(6 points)**\n\n*Hint:* `sample_proportions` may be useful here!\n",
      "metadata": {
        "deletable": false,
        "editable": false
      }
    },
    {
      "id": "cell-hw09-40",
      "cell_type": "code",
      "source": "resample_yes_proportions = make_array()\nfor i in np.arange(10000):\n    resample = sample_proportions(sample_size, sample_with_proportions.column(\"Proportion\"))\n    resample_yes_proportions = np.append(resample_yes_proportions, resample.item(0))\nTable().with_column(\"Resample Yes proportion\", resample_yes_proportions).hist(bins=np.arange(.2, .8, .01))",
      "metadata": {
        "ExecuteTime": {
          "end_time": "2018-03-20T04:35:22.190065Z",
          "start_time": "2018-03-20T04:35:21.777769Z"
        },
        "deletable": false,
        "manual_problem_id": "resample_yes_proportions",
        "tags": [],
        "trusted": true
      },
      "outputs": [
        {
          "output_type": "display_data",
          "data": {
            "text/plain": "<Figure size 600x400 with 1 Axes>",
            "image/png": "[encoded data removed]"
          },
          "metadata": {}
        }
      ],
      "execution_count": 23
    },
    {
      "id": "cell-hw09-41",
      "cell_type": "code",
      "source": "grader.check(\"q3_1\")",
      "metadata": {
        "deletable": false,
        "editable": false,
        "trusted": true
      },
      "outputs": [
        {
          "execution_count": 24,
          "output_type": "execute_result",
          "data": {
            "text/plain": "q3_1 results: All test cases passed!",
            "text/html": "<p><strong><pre style='display: inline;'>q3_1</pre></strong> passed! 🌟</p>"
          },
          "metadata": {}
        }
      ],
      "execution_count": 24
    },
    {
      "id": "cell-hw09-42",
      "cell_type": "markdown",
      "source": "<!-- BEGIN QUESTION -->\n\n**Question 3.2.** Why does the Central Limit Theorem (CLT) apply in this situation, and how does it explain the distribution we see above? **(6 points)**\n",
      "metadata": {
        "deletable": false,
        "editable": false
      }
    },
    {
      "id": "cell-hw09-43",
      "cell_type": "markdown",
      "source": "Because proportions are means when the values are zeros and ones. So central limit theorem apply in this situation.",
      "metadata": {}
    },
    {
      "id": "cell-hw09-44",
      "cell_type": "markdown",
      "source": "<!-- END QUESTION -->\n\nIn a population whose members are 0 and 1, there is a simple formula for the **standard deviation of that population**:\n\n$$\\text{standard deviation of population} = \\sqrt{(\\text{proportion of 0s}) \\times (\\text{proportion of 1s})}$$\n\n(Figuring out this formula, starting from the definition of the standard deviation, is an fun exercise for those who enjoy algebra.)",
      "metadata": {
        "deletable": false,
        "editable": false
      }
    },
    {
      "id": "cell-hw09-45",
      "cell_type": "markdown",
      "source": "**Question 3.3.** Using only the Central Limit Theorem and the numbers of Yes and No voters in our sample of 400, *algebraically* compute the predicted standard deviation of the `resample_yes_proportions` array. Assign this number to `approximate_sd`. **Do not access the data in `resample_yes_proportions` in any way.** **(6 points)**\n\nRemember that the standard deviation of the sample means can be computed from the population SD and the size of the sample (the formula above might be helpful). If we do not know the population SD, we can use the sample SD as a reasonable approximation in its place. [This section](https://inferentialthinking.com/chapters/14/5/Variability_of_the_Sample_Mean.html#the-sd-of-all-the-sample-means) of the textbook also may be helpful.\n",
      "metadata": {
        "deletable": false,
        "editable": false
      }
    },
    {
      "id": "cell-hw09-46",
      "cell_type": "code",
      "source": "approx_pop_sd = (0.525 * 0.475) ** 0.5\napproximate_sd = (approx_pop_sd / (400 ** 0.5))\napproximate_sd",
      "metadata": {
        "ExecuteTime": {
          "end_time": "2018-03-20T04:35:33.660846Z",
          "start_time": "2018-03-20T04:35:33.652810Z"
        },
        "deletable": false,
        "manual_problem_id": "approximate_sd",
        "tags": [],
        "trusted": true
      },
      "outputs": [
        {
          "execution_count": 35,
          "output_type": "execute_result",
          "data": {
            "text/plain": "0.024968730444297725"
          },
          "metadata": {}
        }
      ],
      "execution_count": 35
    },
    {
      "id": "cell-hw09-47",
      "cell_type": "code",
      "source": "grader.check(\"q3_3\")",
      "metadata": {
        "deletable": false,
        "editable": false,
        "trusted": true
      },
      "outputs": [
        {
          "execution_count": 36,
          "output_type": "execute_result",
          "data": {
            "text/plain": "q3_3 results: All test cases passed!",
            "text/html": "<p><strong><pre style='display: inline;'>q3_3</pre></strong> passed! 🍀</p>"
          },
          "metadata": {}
        }
      ],
      "execution_count": 36
    },
    {
      "id": "cell-hw09-48",
      "cell_type": "markdown",
      "source": "**Question 3.4.** Compute the standard deviation of the array `resample_yes_proportions`, which will act as an approximation to the true SD of the possible sample proportions. This will help verify whether your answer to question 3.3 is approximately correct. **(6 points)**\n",
      "metadata": {
        "deletable": false,
        "editable": false
      }
    },
    {
      "id": "cell-hw09-49",
      "cell_type": "code",
      "source": "exact_sd = np.std(resample_yes_proportions)\nexact_sd",
      "metadata": {
        "ExecuteTime": {
          "end_time": "2018-03-20T04:35:34.753988Z",
          "start_time": "2018-03-20T04:35:34.745953Z"
        },
        "deletable": false,
        "manual_problem_id": "exact_sd",
        "tags": [],
        "trusted": true
      },
      "outputs": [
        {
          "execution_count": 37,
          "output_type": "execute_result",
          "data": {
            "text/plain": "0.024961386775377691"
          },
          "metadata": {}
        }
      ],
      "execution_count": 37
    },
    {
      "id": "cell-hw09-50",
      "cell_type": "code",
      "source": "grader.check(\"q3_4\")",
      "metadata": {
        "deletable": false,
        "editable": false,
        "trusted": true
      },
      "outputs": [
        {
          "execution_count": 38,
          "output_type": "execute_result",
          "data": {
            "text/plain": "q3_4 results: All test cases passed!",
            "text/html": "<p><strong><pre style='display: inline;'>q3_4</pre></strong> passed! 🌈</p>"
          },
          "metadata": {}
        }
      ],
      "execution_count": 38
    },
    {
      "id": "cell-hw09-51",
      "cell_type": "markdown",
      "source": "**Question 3.5.** **Again, without accessing `resample_yes_proportions` in any way**, compute an approximate 95% confidence interval for the proportion of Yes voters in California. **(6 points)**\n\nThe cell below draws your interval as a red bar below the histogram of `resample_yes_proportions`; use that to verify that your answer looks right.\n\n*Hint:* How many SDs corresponds to 95% of the distribution promised by the CLT? Recall the discussion in the textbook [here](https://inferentialthinking.com/chapters/14/3/SD_and_the_Normal_Curve.html).\n\n*Hint:* The `approximate_sd` variable you previously defined may be helpful!\n",
      "metadata": {
        "deletable": false,
        "editable": false
      }
    },
    {
      "id": "cell-hw09-52",
      "cell_type": "code",
      "source": "lower_limit = 0.525 - (2 * approximate_sd)\nupper_limit = 0.525 + (2 * approximate_sd)\nprint('lower:', lower_limit, 'upper:', upper_limit)",
      "metadata": {
        "ExecuteTime": {
          "end_time": "2018-03-20T04:35:42.572582Z",
          "start_time": "2018-03-20T04:35:42.560545Z"
        },
        "deletable": false,
        "manual_problem_id": "ci_without_data",
        "tags": [],
        "trusted": true
      },
      "outputs": [
        {
          "name": "stdout",
          "output_type": "stream",
          "text": "lower: 0.47506253911140456 upper: 0.5749374608885954\n"
        }
      ],
      "execution_count": 41
    },
    {
      "id": "cell-hw09-53",
      "cell_type": "code",
      "source": "grader.check(\"q3_5\")",
      "metadata": {
        "deletable": false,
        "editable": false,
        "trusted": true
      },
      "outputs": [
        {
          "execution_count": 43,
          "output_type": "execute_result",
          "data": {
            "text/plain": "q3_5 results: All test cases passed!",
            "text/html": "<p><strong><pre style='display: inline;'>q3_5</pre></strong> passed! 🌈</p>"
          },
          "metadata": {}
        }
      ],
      "execution_count": 43
    },
    {
      "id": "cell-hw09-54",
      "cell_type": "code",
      "source": "# Run this cell to plot your confidence interval.\nTable().with_column(\"Resample Yes proportion\", resample_yes_proportions).hist(bins=np.arange(.2, .8, .01))\nplt.plot(make_array(lower_limit, upper_limit), make_array(0, 0), c='r', lw=10);",
      "metadata": {
        "deletable": false,
        "editable": false,
        "trusted": true
      },
      "outputs": [
        {
          "output_type": "display_data",
          "data": {
            "text/plain": "<Figure size 600x400 with 1 Axes>",
            "image/png": "[encoded data removed]"
          },
          "metadata": {}
        }
      ],
      "execution_count": 42
    },
    {
      "id": "cell-hw09-55",
      "cell_type": "markdown",
      "source": "<div class=\"hide\">\\pagebreak</div>\nYour confidence interval should overlap the number 0.5.  That means we can't be very sure whether Proposition 68 is winning, even though the sample Yes proportion is a bit above 0.5.\n\nThe Yes on 68 campaign really needs to know whether they're winning.  It's impossible to be absolutely sure without polling the whole population, but they'd be okay if the standard deviation of the sample mean were only 0.005.  They ask Michelle to run a new poll with a sample size that's large enough to achieve that.  (Polling is expensive, so the sample also shouldn't be bigger than necessary.)\n\nMichelle consults Chapter 14 of your textbook.  Instead of making the conservative assumption that the population standard deviation is 0.5 (coding Yes voters as 1 and No voters as 0), she decides to assume that it's equal to the standard deviation of the sample,\n\n$$\\sqrt{(\\text{Yes proportion in the sample}) \\times (\\text{No proportion in the sample})}.$$\n\nUnder that assumption, Michelle decides that a sample of 9,975 would suffice.",
      "metadata": {}
    },
    {
      "id": "cell-hw09-56",
      "cell_type": "markdown",
      "source": "**Question 3.6.** Does Michelle's sample size achieve the desired standard deviation of sample means? What SD would you achieve with a smaller sample size? A higher sample size?\n\nTo explore this, first compute the SD of sample means obtained by using Michelle's sample size. **(6 points)**\n",
      "metadata": {
        "deletable": false,
        "editable": false
      }
    },
    {
      "id": "cell-hw09-57",
      "cell_type": "code",
      "source": "estimated_population_sd = (0.525 * 0.475) ** 0.5\nmichelle_sample_size = 9975\nmichelle_sample_mean_sd = estimated_population_sd / (michelle_sample_size ** 0.5)\nprint(\"With Michelle's sample size, you would predict a sample mean SD of %f.\" % michelle_sample_mean_sd)",
      "metadata": {
        "ExecuteTime": {
          "end_time": "2018-03-20T04:35:45.882794Z",
          "start_time": "2018-03-20T04:35:45.870760Z"
        },
        "deletable": false,
        "manual_problem_id": "michelle_sample_mean_sd",
        "scrolled": true,
        "tags": [],
        "trusted": true
      },
      "outputs": [
        {
          "name": "stdout",
          "output_type": "stream",
          "text": "With Michelle's sample size, you would predict a sample mean SD of 0.005000.\n"
        }
      ],
      "execution_count": 44
    },
    {
      "id": "cell-hw09-58",
      "cell_type": "code",
      "source": "grader.check(\"q3_6\")",
      "metadata": {
        "deletable": false,
        "editable": false,
        "trusted": true
      },
      "outputs": [
        {
          "execution_count": 45,
          "output_type": "execute_result",
          "data": {
            "text/plain": "q3_6 results: All test cases passed!",
            "text/html": "<p><strong><pre style='display: inline;'>q3_6</pre></strong> passed! 🍀</p>"
          },
          "metadata": {}
        }
      ],
      "execution_count": 45
    },
    {
      "id": "cell-hw09-59",
      "cell_type": "markdown",
      "source": "**Question 3.7.** Next, compute the SD of sample means that you would get from a smaller sample size. Ideally, you should pick a number that is significantly smaller, but any sample size smaller than Michelle's will do. **(5 points)**\n",
      "metadata": {
        "deletable": false,
        "editable": false
      }
    },
    {
      "id": "cell-hw09-60",
      "cell_type": "code",
      "source": "smaller_sample_size = 1000\nsmaller_sample_mean_sd = estimated_population_sd / (smaller_sample_size ** 0.5)\nprint(\"With this smaller sample size, you would predict a sample mean SD of %f\" % smaller_sample_mean_sd)",
      "metadata": {
        "ExecuteTime": {
          "end_time": "2018-03-20T04:35:47.010246Z",
          "start_time": "2018-03-20T04:35:47.002724Z"
        },
        "deletable": false,
        "manual_problem_id": "smaller_sample_size",
        "tags": [],
        "trusted": true
      },
      "outputs": [
        {
          "name": "stdout",
          "output_type": "stream",
          "text": "With this smaller sample size, you would predict a sample mean SD of 0.015792\n"
        }
      ],
      "execution_count": 46
    },
    {
      "id": "cell-hw09-61",
      "cell_type": "code",
      "source": "grader.check(\"q3_7\")",
      "metadata": {
        "deletable": false,
        "editable": false,
        "trusted": true
      },
      "outputs": [
        {
          "execution_count": 47,
          "output_type": "execute_result",
          "data": {
            "text/plain": "q3_7 results: All test cases passed!",
            "text/html": "<p><strong><pre style='display: inline;'>q3_7</pre></strong> passed! 🎉</p>"
          },
          "metadata": {}
        }
      ],
      "execution_count": 47
    },
    {
      "id": "cell-hw09-62",
      "cell_type": "markdown",
      "source": "**Question 3.8.** Finally, compute the SD of sample means that you would get from a larger sample size. Here, a number that is significantly larger would make any difference more obvious, but any sample size larger than Michelle's will do. **(5 points)**\n\n",
      "metadata": {
        "deletable": false,
        "editable": false
      }
    },
    {
      "id": "cell-hw09-63",
      "cell_type": "code",
      "source": "larger_sample_size = 100000\nlarger_sample_mean_sd = estimated_population_sd / (larger_sample_size ** 0.5)\nprint(\"With this larger sample size, you would predict a sample mean SD of %f\" % larger_sample_mean_sd)",
      "metadata": {
        "ExecuteTime": {
          "end_time": "2018-03-20T04:35:48.098047Z",
          "start_time": "2018-03-20T04:35:48.089414Z"
        },
        "deletable": false,
        "manual_problem_id": "larger_sample_mean_sd",
        "tags": [],
        "trusted": true
      },
      "outputs": [
        {
          "name": "stdout",
          "output_type": "stream",
          "text": "With this larger sample size, you would predict a sample mean SD of 0.001579\n"
        }
      ],
      "execution_count": 48
    },
    {
      "id": "cell-hw09-64",
      "cell_type": "code",
      "source": "grader.check(\"q3_8\")",
      "metadata": {
        "deletable": false,
        "editable": false,
        "trusted": true
      },
      "outputs": [
        {
          "execution_count": 49,
          "output_type": "execute_result",
          "data": {
            "text/plain": "q3_8 results: All test cases passed!",
            "text/html": "<p><strong><pre style='display: inline;'>q3_8</pre></strong> passed! ✨</p>"
          },
          "metadata": {}
        }
      ],
      "execution_count": 49
    },
    {
      "id": "cell-hw09-65",
      "cell_type": "markdown",
      "source": "**Question 3.9.** Based off of this, was Michelle's sample size approximately the minimum sufficient sample, given her assumption that the sample SD is the same as the population SD? Assign `min_sufficient` to `True` if 9,975 was indeed approximately the minimum sufficient sample, and `False` if it wasn't. **(4 points)**\n",
      "metadata": {
        "deletable": false,
        "editable": false
      }
    },
    {
      "id": "cell-hw09-66",
      "cell_type": "code",
      "source": "min_sufficient = True\nmin_sufficient",
      "metadata": {
        "ExecuteTime": {
          "end_time": "2018-03-20T04:35:49.134092Z",
          "start_time": "2018-03-20T04:35:49.126066Z"
        },
        "deletable": false,
        "manual_problem_id": "min_sufficient",
        "tags": [],
        "trusted": true
      },
      "outputs": [
        {
          "execution_count": 50,
          "output_type": "execute_result",
          "data": {
            "text/plain": "True"
          },
          "metadata": {}
        }
      ],
      "execution_count": 50
    },
    {
      "id": "cell-hw09-67",
      "cell_type": "code",
      "source": "grader.check(\"q3_9\")",
      "metadata": {
        "deletable": false,
        "editable": false,
        "trusted": true
      },
      "outputs": [
        {
          "execution_count": 51,
          "output_type": "execute_result",
          "data": {
            "text/plain": "q3_9 results: All test cases passed!",
            "text/html": "<p><strong><pre style='display: inline;'>q3_9</pre></strong> passed! 🎉</p>"
          },
          "metadata": {}
        }
      ],
      "execution_count": 51
    },
    {
      "id": "cell-hw09-68",
      "cell_type": "markdown",
      "source": "You're done with Homework 9!  \n\n**Important submission steps:** \n1. Run the tests and verify that they all pass.\n2. Choose **Save Notebook** from the **File** menu, then **run the final cell**. \n3. Click the link to download the zip file.\n4. Then submit the zip file to the corresponding assignment according to your instructor's directions. \n\n**It is your responsibility to make sure your work is saved before running the last cell.**",
      "metadata": {}
    },
    {
      "id": "cell-hw09-69",
      "cell_type": "markdown",
      "source": "## Submission\n\nMake sure you have run all cells in your notebook in order before running the cell below, so that all images/graphs appear in the output. The cell below will generate a zip file for you to submit. **Please save before exporting!**",
      "metadata": {
        "deletable": false,
        "editable": false
      }
    },
    {
      "id": "cell-hw09-70",
      "cell_type": "code",
      "source": "# Save your notebook first, then run this cell to export your submission.\ngrader.export(run_tests=True)",
      "metadata": {
        "deletable": false,
        "editable": false
      },
      "outputs": [],
      "execution_count": null
    },
    {
      "id": "cell-hw09-71",
      "cell_type": "markdown",
      "source": " ",
      "metadata": {}
    }
  ]
}